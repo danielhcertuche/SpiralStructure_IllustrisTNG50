{
 "cells": [
  {
   "cell_type": "code",
   "execution_count": 1,
   "metadata": {},
   "outputs": [
    {
     "name": "stdout",
     "output_type": "stream",
     "text": [
      "Requirement already satisfied: shapely in /home/daniel/anaconda3/lib/python3.7/site-packages (2.0.6)\n",
      "Requirement already satisfied: numpy<3,>=1.14 in /home/daniel/anaconda3/lib/python3.7/site-packages (from shapely) (1.21.6)\n",
      "\u001b[33mDEPRECATION: pandas 0.23.4 has a non-standard dependency specifier pytz>=2011k. pip 24.1 will enforce this behaviour change. A possible replacement is to upgrade to a newer version of pandas or contact the author to suggest that they release a version with a conforming dependency specifiers. Discussion can be found at https://github.com/pypa/pip/issues/12063\u001b[0m\u001b[33m\n",
      "\u001b[0m\u001b[33mDEPRECATION: unyt 2.8.0 has a non-standard dependency specifier numpy>=\"1.13.0\". pip 24.1 will enforce this behaviour change. A possible replacement is to upgrade to a newer version of unyt or contact the author to suggest that they release a version with a conforming dependency specifiers. Discussion can be found at https://github.com/pypa/pip/issues/12063\u001b[0m\u001b[33m\n",
      "\u001b[0m"
     ]
    }
   ],
   "source": [
    "import pandas as pd\n",
    "!pip install shapely"
   ]
  },
  {
   "cell_type": "code",
   "execution_count": 2,
   "metadata": {},
   "outputs": [],
   "source": [
    "%run Routines_and_data/gauss_asym.py"
   ]
  },
  {
   "cell_type": "code",
   "execution_count": 3,
   "metadata": {},
   "outputs": [],
   "source": [
    "%matplotlib widget"
   ]
  },
  {
   "cell_type": "markdown",
   "metadata": {},
   "source": [
    "## Load fit info"
   ]
  },
  {
   "cell_type": "code",
   "execution_count": 16,
   "metadata": {},
   "outputs": [],
   "source": [
    "#df_fits = pd.read_csv('fit_info/fit_sobrevivientes_rho_arm2.csv')\n",
    "df_fits = pd.read_csv('fit_info/fit_params_rho_arm2_adicionales_dani.csv')\n",
    "df_fits['x'] = df_fits.apply(lambda row: convert_from_listAsAString_to_listOfFloats(row.x), axis = 1)\n",
    "df_fits['y'] = df_fits.apply(lambda row: convert_from_listAsAString_to_listOfFloats(row.y), axis = 1)"
   ]
  },
  {
   "cell_type": "code",
   "execution_count": 21,
   "metadata": {},
   "outputs": [
    {
     "data": {
      "text/html": [
       "<div>\n",
       "<style scoped>\n",
       "    .dataframe tbody tr th:only-of-type {\n",
       "        vertical-align: middle;\n",
       "    }\n",
       "\n",
       "    .dataframe tbody tr th {\n",
       "        vertical-align: top;\n",
       "    }\n",
       "\n",
       "    .dataframe thead th {\n",
       "        text-align: right;\n",
       "    }\n",
       "</style>\n",
       "<table border=\"1\" class=\"dataframe\">\n",
       "  <thead>\n",
       "    <tr style=\"text-align: right;\">\n",
       "      <th></th>\n",
       "      <th>amplitude</th>\n",
       "      <th>center</th>\n",
       "      <th>delta</th>\n",
       "      <th>fractured</th>\n",
       "      <th>gamma</th>\n",
       "      <th>id_tracing</th>\n",
       "      <th>sigma</th>\n",
       "      <th>stderr_amplitude</th>\n",
       "      <th>stderr_center</th>\n",
       "      <th>stderr_gamma</th>\n",
       "      <th>stderr_sigma</th>\n",
       "      <th>x</th>\n",
       "      <th>x_tracing</th>\n",
       "      <th>y</th>\n",
       "      <th>y_tracing</th>\n",
       "    </tr>\n",
       "  </thead>\n",
       "  <tbody>\n",
       "    <tr>\n",
       "      <th>0</th>\n",
       "      <td>0.000069</td>\n",
       "      <td>6.262372</td>\n",
       "      <td>0.05</td>\n",
       "      <td>False</td>\n",
       "      <td>-6.766237</td>\n",
       "      <td>10.0</td>\n",
       "      <td>0.838236</td>\n",
       "      <td>0.000003</td>\n",
       "      <td>0.012504</td>\n",
       "      <td>1.430586</td>\n",
       "      <td>0.047692</td>\n",
       "      <td>[5.095938183198627, 5.119048776625851, 5.19323...</td>\n",
       "      <td>4.705896</td>\n",
       "      <td>[2.0867398429453386e-05, 2.7499260462807506e-0...</td>\n",
       "      <td>3.687626</td>\n",
       "    </tr>\n",
       "  </tbody>\n",
       "</table>\n",
       "</div>"
      ],
      "text/plain": [
       "   amplitude    center  delta  fractured     gamma  id_tracing     sigma  \\\n",
       "0   0.000069  6.262372   0.05      False -6.766237        10.0  0.838236   \n",
       "\n",
       "   stderr_amplitude  stderr_center  stderr_gamma  stderr_sigma  \\\n",
       "0          0.000003       0.012504      1.430586      0.047692   \n",
       "\n",
       "                                                   x  x_tracing  \\\n",
       "0  [5.095938183198627, 5.119048776625851, 5.19323...   4.705896   \n",
       "\n",
       "                                                   y  y_tracing  \n",
       "0  [2.0867398429453386e-05, 2.7499260462807506e-0...   3.687626  "
      ]
     },
     "execution_count": 21,
     "metadata": {},
     "output_type": "execute_result"
    }
   ],
   "source": [
    "df_fits.tail(3)"
   ]
  },
  {
   "cell_type": "code",
   "execution_count": 22,
   "metadata": {},
   "outputs": [],
   "source": [
    "params = df_fits.iloc[0] # Para investigar los resultado del fit de un punto, llamamos su fila en el DataFrame"
   ]
  },
  {
   "cell_type": "code",
   "execution_count": 23,
   "metadata": {},
   "outputs": [
    {
     "data": {
      "text/plain": [
       "amplitude                                                 6.90948e-05\n",
       "center                                                        6.26237\n",
       "delta                                                            0.05\n",
       "fractured                                                       False\n",
       "gamma                                                        -6.76624\n",
       "id_tracing                                                         10\n",
       "sigma                                                        0.838236\n",
       "stderr_amplitude                                          2.52619e-06\n",
       "stderr_center                                               0.0125043\n",
       "stderr_gamma                                                  1.43059\n",
       "stderr_sigma                                                0.0476918\n",
       "x                   [5.095938183198627, 5.119048776625851, 5.19323...\n",
       "x_tracing                                                      4.7059\n",
       "y                   [2.0867398429453386e-05, 2.7499260462807506e-0...\n",
       "y_tracing                                                     3.68763\n",
       "Name: 0, dtype: object"
      ]
     },
     "execution_count": 23,
     "metadata": {},
     "output_type": "execute_result"
    }
   ],
   "source": [
    "params"
   ]
  },
  {
   "cell_type": "code",
   "execution_count": 24,
   "metadata": {},
   "outputs": [],
   "source": [
    "#import numpy as np\n",
    "\n",
    "# Convertir las columnas 'x' y 'y' de cadenas a arrays numéricos\n",
    "#params['x'] = np.array(params['x'].split('\\\\n'), dtype=float)\n",
    "#params['y'] = np.array(params['y'].split('\\\\n'), dtype=float)\n",
    "\n",
    "# Verificar los resultados\n",
    "#print(\"X values:\", params['x'])\n",
    "#print(\"Y values:\", params['y'])\n"
   ]
  },
  {
   "cell_type": "code",
   "execution_count": 25,
   "metadata": {},
   "outputs": [],
   "source": [
    "import matplotlib as mpl\n",
    "mpl.rcParams['text.usetex'] = False\n"
   ]
  },
  {
   "cell_type": "code",
   "execution_count": 26,
   "metadata": {},
   "outputs": [],
   "source": [
    "from shapely.geometry import LineString\n",
    "\n",
    "def find_widths_of_skewed_gaussian_dani(params, dx=0.001):\n",
    "    # Evaluar el modelo ajustado\n",
    "    fitted_model = eval_fitted_model_with_given_params(params, dx=dx)\n",
    "    x_eval = fitted_model['x_eval']\n",
    "    y_eval = fitted_model['y_eval']\n",
    "\n",
    "    # Encuentra el máximo\n",
    "    x_max, y_max = find_maximum(x_eval, y_eval)\n",
    "\n",
    "    # Generar la línea horizontal en y = y_max / 2\n",
    "    xs_line = np.arange(np.min(x_eval), np.max(x_eval), 0.01)\n",
    "    ys_line = np.full(len(xs_line), 0.5 * y_max)\n",
    "\n",
    "    # Crear LineString para las dos líneas\n",
    "    first_line = LineString(np.column_stack((x_eval, y_eval)))\n",
    "    second_line = LineString(np.column_stack((xs_line, ys_line)))\n",
    "    intersection = first_line.intersection(second_line)\n",
    "\n",
    "    points_intercept = []\n",
    "\n",
    "    # Si la intersección es un solo punto\n",
    "    if intersection.geom_type == 'Point':\n",
    "        points_intercept = [(intersection.x, intersection.y)]\n",
    "    # Si la intersección es una colección de puntos\n",
    "    elif hasattr(intersection, 'geoms'):\n",
    "        points_intercept = [(point.x, point.y) for point in intersection.geoms]\n",
    "    # Si no hay intersección\n",
    "    elif intersection.is_empty:\n",
    "        return {'x_max': x_max, 'y_max': y_max, 'w1': np.nan, 'w2': np.nan}\n",
    "\n",
    "    # Asegurarse de que hay suficientes puntos de intersección\n",
    "    if len(points_intercept) >= 2:\n",
    "        w1 = x_max - points_intercept[1][0]\n",
    "        w2 = points_intercept[0][0] - x_max\n",
    "    else:\n",
    "        w1, w2 = np.nan, np.nan  # Si no hay suficientes intersecciones\n",
    "\n",
    "    return {'x_max': x_max, 'y_max': y_max, 'w1': w1, 'w2': w2}\n",
    "\n",
    "def plot_fit_and_widths_dani(params, ax, dx=0.001):\n",
    "    width_info = find_widths_of_skewed_gaussian_dani(params, dx=dx)\n",
    "\n",
    "    dict_eval = eval_fitted_model_with_given_params(params, dx=dx)\n",
    "    x_eval = dict_eval['x_eval']\n",
    "    y_eval = dict_eval['y_eval']\n",
    "\n",
    "    # Plotea la función ajustada\n",
    "    ax.plot(x_eval, y_eval, lw=2.5, label='Fitted Function')\n",
    "\n",
    "    # Máximos y anchos\n",
    "    ax.axvline(x=width_info['x_max'], color='red', lw=1.5, label='x_max = {:.3f}'.format(width_info['x_max']))\n",
    "    ax.axhline(y=width_info['y_max'], ls='--', color='k', label='y_max = {:.2e}'.format(width_info['y_max']))\n",
    "    ax.axhline(y=0.5 * width_info['y_max'], color='green', lw=1.5, label='y_max / 2 = {:.2e}'.format(0.5 * width_info['y_max']))\n",
    "\n",
    "    # Líneas verticales para w1 y w2\n",
    "    ax.axvline(x=np.abs(width_info['x_max'] - width_info['w1']), color='magenta', lw=1.5, ls='--', label='w1 = {:.3f}'.format(width_info['w1']))\n",
    "    ax.axvline(x=np.abs(width_info['x_max'] + width_info['w2']), color='purple', lw=1.5, ls='--', label='w2 = {:.3f}'.format(width_info['w2']))\n",
    "\n",
    "    # Ajustar etiquetas de los ticks\n",
    "    xt = ax.get_xticks()\n",
    "    tick1 = '{:.2f}'.format(np.abs(width_info['x_max'] - width_info['w1']))\n",
    "    tick2 = '{:.2f}'.format(np.abs(width_info['x_max'] + width_info['w2']))\n",
    "    xt = np.append(xt, [float(tick1), float(tick2)])\n",
    "\n",
    "    ax.set_xticks(xt)\n",
    "    ax.set_xticklabels(xt)\n",
    "\n",
    "    ax.grid(alpha=0.5, lw=1, ls='--')\n",
    "    ax.legend(loc='upper left')\n",
    "\n"
   ]
  },
  {
   "cell_type": "code",
   "execution_count": 27,
   "metadata": {},
   "outputs": [
    {
     "data": {
      "text/plain": [
       "[5.095938183198627,\n",
       " 5.119048776625851,\n",
       " 5.193230137742043,\n",
       " 5.250736322192699,\n",
       " 5.299070845931341,\n",
       " 5.32680882292864,\n",
       " 5.4532887028885915,\n",
       " 5.500296159713333,\n",
       " 5.552324846914688,\n",
       " 5.564430308896377,\n",
       " 5.638799100763329,\n",
       " 5.701437271749162,\n",
       " 5.748665491130529,\n",
       " 5.801144999832742,\n",
       " 5.847684071250795,\n",
       " 5.9060360240871566,\n",
       " 5.938774023641692,\n",
       " 6.003376521292228,\n",
       " 6.053815775319518,\n",
       " 6.1004440895984215,\n",
       " 6.151670790652961,\n",
       " 6.199405601908278,\n",
       " 6.255291449847992,\n",
       " 6.295121512935681,\n",
       " 6.334483164667784]"
      ]
     },
     "execution_count": 27,
     "metadata": {},
     "output_type": "execute_result"
    }
   ],
   "source": [
    "params['x']"
   ]
  },
  {
   "cell_type": "code",
   "execution_count": 28,
   "metadata": {},
   "outputs": [
    {
     "data": {
      "application/vnd.jupyter.widget-view+json": {
       "model_id": "00cf0ca0a9554e3f8c4bbe5247f7f2ad",
       "version_major": 2,
       "version_minor": 0
      },
      "image/png": "[encoded data removed]",
      "text/html": [
       "\n",
       "            <div style=\"display: inline-block;\">\n",
       "                <div class=\"jupyter-widgets widget-label\" style=\"text-align: center;\">\n",
       "                    Figure\n",
       "                </div>\n",
       "                <img src='data:image/png;base64,iVBORw0KGgoAAAANSUhEUgAAAoAAAAHgCAYAAAA10dzkAAAAOXRFWHRTb2Z0d2FyZQBNYXRwbG90bGliIHZlcnNpb24zLjUuMywgaHR0cHM6Ly9tYXRwbG90bGliLm9yZy/NK7nSAAAACXBIWXMAAA9hAAAPYQGoP6dpAABJTUlEQVR4nO3deXxU9b3/8fdkXychYUuEIKgshlUQQVwraqlSVwoUKwVvsRZrxWuv9d5rxdYFb1u1P7UIWpVer0JdsK0WrdoqpRBZVARUNpUACWvInkyWmd8fJ5PMZJKQZZLvzJzX8/GYxzk5M5N8EjG8+X7P9/N1eDwejwAAAGAbUaYLAAAAQM8iAAIAANgMARAAAMBmCIAAAAA2QwAEAACwGQIgAACAzRAAAQAAbIYACAAAYDMEQAAAAJshAAIAANgMARAAAMBmCIAAAAA2QwAEAACwGQIgAACAzRAAAQAAbIYACAAAYDMEQAAAAJshAAIAANgMARAAAMBmCIAAAAA2QwAEAACwGQIgAACAzRAAAQAAbIYACAAAYDMEQAAAAJshAAIAANgMARAAAMBmCIAAAAA2QwAEAACwGQIgAACAzRAAAQAAbIYACAAAYDMEQAAAAJshAAIAANgMARAAAMBmCIAAAAA2QwAEAACwGQIgAACAzRAAAQAAbIYACAAAYDMEQAAAAJshAAIAANgMATBI1q5dq+nTpys7O1sOh0Ovv/56t369xYsXy+Fw+D2GDx/erV8TAABEBgJgkFRUVGjMmDF68skne+xr5ubmqrCwsPGxbt26HvvaAAAgfMWYLiBSTJs2TdOmTWv1eZfLpf/6r//SSy+9pOLiYo0cOVIPP/ywLrrook5/zZiYGPXv37/T7wcAAPbECGAPufXWW7VhwwatXLlSn376qWbMmKFvfvOb2r17d6c/5+7du5Wdna0hQ4Zozpw5ys/PD2LFAAAgUjk8Ho/HdBGRxuFwaPXq1br66qslSfn5+RoyZIjy8/OVnZ3d+LqpU6dq4sSJevDBBzv8NdasWaPy8nINGzZMhYWFuu+++3Tw4EFt375dqampwfpWAABABGIKuAds27ZN9fX1Gjp0qN91l8ulzMxMSdIXX3yhESNGtPl57rrrLi1ZskSS/KabR48erXPOOUeDBg3SH//4R910001B/g4AAEAkIQD2gPLyckVHR2vLli2Kjo72ey4lJUWSNGTIEH3++edtfh5vWGxJenq6hg4dqj179nS9YAAAENEIgD1g3Lhxqq+v15EjR3T++ee3+Jq4uLgutXEpLy/X3r179b3vfa/TnwMAANgDATBIysvL/UbfvvrqK33yySfKyMjQ0KFDNWfOHN144436zW9+o3Hjxuno0aN67733NHr0aF1xxRUd/np33nmnpk+frkGDBqmgoED33nuvoqOjNXv27GB+WwAAIAKxCCRI3n//fV188cUB1+fOnavnn39etbW1uv/++/WHP/xBBw8eVO/evTVp0iTdd999GjVqVIe/3qxZs7R27VodP35cffr00XnnnacHHnhAp512WjC+HQAAEMEIgAAAADZDH0AAAACbIQACAADYDAEQAADAZlgF3AVut1sFBQVKTU2Vw+EwXQ4AAGgHj8ejsrIyZWdnKyrKnmNhBMAuKCgo0MCBA02XAQAAOmH//v0aMGCA6TKMIAB2gXfP3f3798vpdBquBgAAtEdpaakGDhzY+Pe4HREAu8A77et0OgmAAACEGTvfvmXPiW8AAAAbIwACAADYDAEQAADAZgiAAAAANkMABAAAsBkCIAAAgM0QAAEAAGyGAAgAAGAzBEAACKLS6loVllS1+FxhSZVKq2t7uCIACEQABIAgKa2u1dxnN2rmsjwVFPuHwILiKs1clqe5z24kBAIwjgAIAEFS4arT8fIa5RdVatbyphBYUFylWcvzlF9UqePlNapw1RmuFIDdEQABIEiy0hK1csEk5WQkNYbALfuKGsNfTkaSVi6YpKy0RNOlArA5h8fj8ZguIlyVlpYqLS1NJSUlcjqdpssBECJ8R/y8vOEvO53wB5jG39+MAAJA0GWnJ+rRmWP8rj06c4xf+GNBCACTCIAAEGQFxVX6yUuf+F1btGqr3z2BLAgBYBIBEACCyDv9e6C4SjFRDklSTJSj8Z7Aj/NPsCAEgHEEQAAIksKSKr8FHy//cLJyMpJU5/Y0hsAZT21QflGlLks7qDdH/VNZefdL21+V6gmCAHpOjOkCACBSJMfHKDMlTpIaF3ysXDDJb0FIsrtMjyU9p4tdG6QPfd7cb6T03VVS2gADlQOwG1YBdwGriAA0V1pdqwpXnV+rly37inTd0g3qo2KtivuFhkQdkhzR0pnflpL7SNtelqpOqC5tkCrnvSdneh+D3wEQ+fj7mylgAAgqZ0KsX/grKK7SolVb5VSF/hC3REOiDumgp7e++PafpBnPS9/6lfTDdapz5iimZJ+2Lr2JhSEAuh0BEAC6SeOCkKJyPZv0uEZE5euIJ12za/5LV75cpo/zT1iv82TqR64fq84TpfNdH6jmy/WGKwcQ6QiAzRw8eFA33HCDMjMzlZiYqFGjRmnz5s2mywIQZnwXhNyV+pYmuD+VYpN1/JqXVODorzq3RzOe2qC3dxzSrOV5+lvJKfpr7FRJUu8P/8dw9QAiHQHQx4kTJzRlyhTFxsZqzZo1+uyzz/Sb3/xGvXr1Ml0agDDjXRByedoBLah7ybr4rV9pxNhz9fIPJysmyqE6t0c3/++WxlXDE+cukaJipH3rpEPbzX4DACIaAdDHww8/rIEDB+q5557TxIkTNXjwYF122WU67bTTTJcGIMw4E2K1Yu44PZHyrByeein3WmnsdyVJ43J66ck5Z/m9/tGZY9R/4GnSiOnWhU3P9HTJAGyEAOjjz3/+syZMmKAZM2aob9++GjdunJ5++mnTZQEIEaXVtSosqWrxuZa2dnN+vFyxx7+QEjOkb/1acliNoQuKq/TAm5/7vbZxp5Dx37cufPa6VFcT7G8BACQRAP18+eWXWrp0qc444wy9/fbbuuWWW3TbbbdpxYoVbb6vtLS0xYfL5eqhygF0t9LqWs19dqNmLstr3NLNq8Wt3Yr3S+8vsc4vu19Kzmx8rW+z6FdvsZpFe3cKKUifIKX0k6pOSF/+oye/RQA2QgD04Xa7ddZZZ+nBBx/UuHHjtGDBAv3gBz/QU0891eb7Bg4cqLS0tIDHQw891EOVAwi25qN9Fa46HS+vadjNY712HS6T5B/o/LZ2+8cDUl2VlHNu49Rv851CVi6YpPGDMrRywaSmEPjMJlWcfqX1OT7/S49+zwDsgwDoIysrS2eeeabftREjRig/P7/N9+3fv18lJSUBj7vvvrs7ywXQTVoa7ctKS2zY3SNBB4urdeXj67R219GAQJeVligd2iZtXWl9ssvub5z69S4M8b42O93qF+jdMSQnI8naSWTYNOu9e96V6NUPoBuwFZyPKVOmaOfOnX7Xdu3apUGDBrX5PqfTadtO4kAk8h3tm7U8zy+sqSGP1dS5deOzGyUpINDpnXutF+ZeKw0Y3/h5nQmxWjF/YsBOIaXVtXI4pFU3T1JyfIySY9xSbJJUVqije7cofsAYORNie+JbB2ATjAD6WLRokfLy8vTggw9qz549evHFF7V8+XItXLjQdGkAepB3tM/33rwt+4qse/RKqtUvNd7v9Y/OHNMU/vb+Q9r7nhQVK11yT8Dnbr5TiO9oo8djPa+YeGnwBZKkl1f9r/+9hQAQBARAH2effbZWr16tl156SSNHjtQvf/lLPfbYY5ozZ47p0gD0MN9p2fyiSl23dIPyiyqVnZag6GiH32sbV/B6PNK7i62LZ98kZQw56ddpPtronXIu6XeOJGlo9Vb/ewsBIAgcHg83mHQWm0kDkW/LviJdt3RD48f9nPE6XOpSTkaSHp05RotWbW28B3D1pWXK/NP3rOnb27dJyb3b9TWarwx+dOYYPfXiq3radafKlKSy23YrOyOlu75FwHb4+5sRQABoVUFxlRat2up37XCpS9npCS2s4K3Qob/80nrR2f/W7vAntTza+PeSfqpQolJVqWzXl8H8tgCAAAgALWk+KveH+WcrLrrhV6bPvIk3vF2Xtku57l3yxCRK5/64w18vOz1Rj84c0/hxvaJVn92wW8hB9iMHEFwEQABopqV+fRcM7as3fnyestMTVFBSrVnL8xr7BGanJeihjL9KkhwT5kspfTv8NVsabXz9SLZ1cnBL174hAGiGAAgAzbTWr29o/1S98sNzG/v1Jcc3dNL6aq3iCjdJ0fHSlNs6/PVa2x1kbWWOJKk2nxFAAMFFH0AAaKa1fn2SNVXr7dfX2Jtv/f+zjmfdKKX279DXamm00TutvHBZkVQlRR/fqUNHj6p/nz7B+PYAgBFAAGhJ8359vrLSEpvC3+Ed1o4djihpcsd7hra1O8iTN39Lxxy9FCWPUkv3dPp7AYDmGAEEgK5Y/4R1HPFtKWNwh99+stFGV84Yad/7Si7eKWlyEAoGAEYAAaDzSgukbS9b551Y+evV1mhjfPZI6+TI553+/ADQHAEQADrrw2WSu1bKOVcaMCFon7a0urZxhbH6nmkdD++QZN0zyLZwALqKAAgAneEqk2fzs9Z5C6N/nQ1qvnsDFxRXSX1HWE8c+VwFxVWauSyPvYEBdBkBEAA6ofrD5+RwlWqf4xQV9LvQ77muBLXmewMXxg2S5JAqj+mWZW8pv6iSvYEBdBkBEAA6yl2vmM3LJElLa6Zp1tMbrdE6+ff060xQy0rz3xZu5nOfqjp1kCQpuWRX42rh1u4ZBID2IAACQEfteksxpQfkTuilzc5LG0frtuwrCujp15mg1nxv4PeLrf5/k5MP+bWKAYDOIgACQEdtXC5Jihp/o/5w84WNQe26pRsCGjp3lu/ewDs9AyVJs08tJ/wBCAoCIAB0xNGd0pfvW42fJ9zkF9S8Hp05pstBzXdv4J3uAZKkI3s/bpxqBoCuIAACQEdsesY6Dp0m9RrkF9S8Fq3a2qWg1nxv4IUzpkmSsusLNGt5HiEQQJcRAAGgvapLpU9etM4n/iAgqL16y+TG6eDOBrWW9gbOzbVGGNMdFSopOmKtDi4hBALoPAIgALTX1pVSTbmUeYYKM88JCGrjB2X4Ld7oTFBrcW/guGQppb8k6Zy0EmWmxCk5np08AXQev0EAoD08nsbFH5q4QMkJscpMiZMkvwUf3hW8s5bndSqotbo3cMYQqfyQHv5GiiqHjVOFq07OhNiA9xeWVCk5PqbF5wDAiwAIAO3x1QfS8d1SXKo0drac8a0ENVkhcNXNkzodxJwJsYHvyxgi5a9XYvk+zX/xYx0vrwlYaeydks5MidOK+RMJgQBaxRQwALTHluet4+jvSPGpkqyg1lqfv6y0xOAGsIzBkiT3sb1+O4UEqwE1AHshAALAyZQflT5/wzqfMM9MDQ0BMKk8P+A+w2A1oAZgHwRAADiZrS9K7lrplPFS/1FmasgYYh2LvgrYKSSYDagB2AMBEADa4vE0Tf+O/765OnpZI4CqOCK5yrqtATUAeyAAAkBbvv6nVPSlFJci5V5rro7EdCkxwzov+qpbGlADsA8CIAC0xTv6N2qGFJ9itBTvNHDRgS+C3oAagL0QAAGgNRXHpc//Yp2bnP71agiAL/9tbdAbUAOwFwIgALRm60tSfY2UNVbKHmu6GqnXqZKkU6OPBSz48F0Ywk4hAE6G3xAA0JJQWfzhK22AJOkb2bUafVVgq5euNqAGYB8EQABoyb711s4fscnSqOtNV2NpCICxZQfbbEANACfDFDAAtOSjFdZx1PWNO38YlzbQOpbst0YoAaCTCIAA0Fx1qfTZn63zcd8zW4uvtFOsY025VF1ithYAYY0ACADN7Vgt1VVJvYdKAyaYrqZJXLKU2Ms6Lz1othYAYY0ACADNffKidRw7R3I4zNbSXMN9gCo5YLYOAGGNAAgAvo7tkfbnSY4oafRM09UE8r0PEAA6iQAIAL62Noz+nT5VcmaZraUljAACCAICIICIU1pd2+pOGIUlVSqtrm35PSfKpU9esi6MnXPS9xhBAAQQBPQBBBBRSqtrNffZjTpeXuO3U4YkFRRXadbyPKUnxerXM8ZoaL9Uv/cMKflQv3EVyJ3QS1HDpvm9JzMlTivmTzTfYJkACCAIGAEEEFEqXHU6Xl7TuCduQbE1EugNcvlFlfqisEzzntvY+Jz3PRdW/k2S9KZnikrrovzec7y8RhWuOmPfVyOnNwCyChhA5xEAAUSUrLSmPXG9IXDLvqLGIJednqDeqXE6WFzdGBCz0hL1xDWDdXnUZknSM+WTtWHv8cb3ePfdDYldNrwjgKUHJXe92VoAhC0CIICIk53uHwKvW7qhMci98sNz9coPzw0IiH/741LFO2r1hXugttafqpv/d4tf+POdSjYqtb/kiJY89VLZIdPVAAhTBEAAESk7PVGPzhzjd+3RmWOUnZ7YYkCc6nrHetHYGyQ5At4TMqKiJWfDjiDcBwigkwiAACJSQXGVFq3a6ndt0aqtjff9+QbEIY4CjY3aK7cjWnftHtbqe0KGM9s6lhWYrQNA2CIA+li8eLEcDoffY/jw4abLAtBBvos3cjKS9Ootk/2mfAuKq/wC4lXR/5IkfVA/SltPxLX6npCR2t86MgUMoJMIgM3k5uaqsLCw8bFu3TrTJQHogMKSqoDFG+MHZfhN+V6/dL1mPLXeek2vRP0gbZMk6bW68xQT5dBvZ40NeM+s5Xmt9hbsbgF9DX0CYEj1KAQQNgiAzcTExKh///6Nj969e5suCUAHJMfHKDMlLmDxhve+v+z0BB2rqNHB4mrlZCTptenRSqo4oEol6h+aoDq3Rz9Z+YkKS6r87hXMTIlTcnzPt0719iicucxnFLIhAFYWHdDMZXma++xGQiCADiEANrN7925lZ2dryJAhmjNnjvLz802XBKADnAmxWjF/olbdHLhyNzs9USvmTdTw/qmNAbH3l69LkmJGXqUXfnhRQNjLTk/UqpsnGWsC3WJfw1Rri7rPdu4KrR6FAMKGw+PxeEwXESrWrFmj8vJyDRs2TIWFhbrvvvt08OBBbd++XampqQGvLy0tVVpamvbv3y+n0xnwfHx8vOLj43uidAAdUFpdqwpXnbKSo6RfD5Wqi6Ub/yQNuUiFJVVKjo8xv+OHj+b3ND5zfrmGvn2DdrlP0b+lPBlabWqAMOD9+7ukpKTFv7/tgADYhuLiYg0aNEiPPPKIbrrppoDnvX+AWnPvvfdq8eLF3VghgC75/A1p1RxrRG3RDqvFSojyDYGnOw7o3fj/UJmSVXb7XsIf0EEEQPYCblN6erqGDh2qPXv2tPm6tkYAAYSwT1dax1HXh3T4k5ra1ly3dIOOeHpJklJVodQk/g0PoOO4B7AN5eXl2rt3r7Kystp8ndPpbPFBAARCWNUJadfb1vnoWWZraQfftjWlSlKVJ06SdLhgn8myAIQpAqCPO++8Ux988IG+/vprrV+/Xtdcc42io6M1e/Zs06UBCLbP/iTV10h9c6X+I01X06bAvobn6nhUhiTpFy/9PbR6FAIICwRAHwcOHNDs2bM1bNgwfec731FmZqby8vLUp08f06UBCLatq6zjmJlm6ziJ1voa9skaZL2g7JDRHoUAwhP3APpYuXKl6RIA9IQT+6T89ZIc0sjrTVfTJm9fQ0l+q33je2VLBdLw5HIVGOpRCCB88RsDgP1se9k6Dj5fSjvFbC0n4e1rWOGqU1aaz2rfhl6A88Ykau5UMz0KAYQvAiAAe/F4pE8bpn/DYPGHZIXAgIDXsBtISs0xifAHoIO4BxCAvRz6VDq2S4pJkEZMN11N56V49wMuNFsHgLBEAARgL9tfs45nXCYlhHED2FRvADxstg4AYYkACMA+PB5pR0MAHHmt2Vq6quEeQEYAAXQGARCAfRz8SCrOl2KTpTMuN11N16T0tY6uUqmWFjAAOoYACMA+vKN/w74pxSWZraWrEtKkaKs9jMqPmK0FQNghAAKwB7db2rHaOs8N8+lfSXI4pOSGUcCKo2ZrARB2CIAA7GH/h1LpQSneKZ0+1XQ1wZHSsEsRI4AAOogACMAevNO/w6+QYhPM1hIsjSOABEAAHUMABBD53PXSZ3+yziNh+tercQSQKWAAHUMABBD59v1LKj8sJaRLQy4yXU3wMAIIoJMIgAAin7f584jpUkyc2VqCydsKhnsAAXQQARBAZKuvkz7/s3Ue7s2fm0tumAJmFTCADiIAAohsX30gVR6XknpLp15guprgSqENDIDOIQACiGze1b9nfluKjjFbS7AlMwUMoHMIgAAiV12N9PlfrPNIWv3r5R0BrC62vlcAaCcCIIDI9eU/pOoSKaWfNOhc09UEX0K6FNUwqsk0MIAOIAACiFze1b9nXi1FRRstpVtERfksBGEaGED7EQABRKbaaumLN63zSFv96yuZZtAAOo4ACCAy7XlXqimTnKdIAyaarqb7pNAMGkDHEQABRCbv6t/ca6yp0kjFSmAAnRDBvxUB2FZNhbRzjXUeydO/UtN+wCwCAdABBEAAkWfX21JtpdTrVCn7LNPVdC9GAAF0AgEQQOTxnf51OMzW0t24BxBAJxAAAUQWV5m0+x3rPBKbPzeXlGkdK4vM1gEgrBAAAUSWnWukumop83Sp/yjT1XS/5N7WseKY2ToAhBUCIIDI4m3+nHtt5E//Sj4jgMclj8dsLQDCBgEQQOSoKrb6/0mRv/rXK6lhBNBdK7lKzdYCIGwQAAFEji/etIJQnxFS3xGmq+kZsQlSXIp1zjQwgHYiAAKIHN7Vv3YZ/fPynQYGgHYgAAIICaXVtSosqWrxucKSKpVW17b9CSqLpC/ft87tsPrXlzcAMgIIoJ0IgACMK62u1dxnN2rmsjwVFPuHwILiKs1clqe5z25sOwR+/mfJXWet/O19ejdXHGK8K4EZAQTQTgRAAMZVuOp0vLxG+UWVmrW8KQQWFFdp1vI85RdV6nh5jSpcda1/Eu/q35HX9UDFIca7EKSSEUAA7UMABGBcVlqiVi6YpJyMpMYQuGVfUWP4y8lI0soFk5SVltjyJyg/In39T+s895qeKzxUJDMFDKBjCIAAjPG97y873T8EXrd0g1/4y05vJfxJ0md/kjxu6ZTx1v6/dsMiEAAdRAAEYERL9/1lpyfq0Zlj/F53/9Uj2w5/kn/zZztKYjcQAB1DAARgREv3/RUUV+nHL33s97q7X/s0YGGIn9ICKX+DdZ57dfcVHMpYBAKggwiAAIxoft/f9UvX65rf/UsFxdWSpH6p8cpOT9DB4mq/hSEBdrwuySMNnCSlDeix+kMKi0AAdBABEIAx3vv+stMTVFBSrcOlLut6WoJWL5yiV354rt/CkBb7BNq1+bOvpAzrWMEIIID2IQACMCo7PVFLrh3ld+3x745Tdnqi38KQzJQ4JcfH+L+5OF86sEmSQzrzKr+nutxYOpx4p4BrK6TaNqbLAaABARCAUQXFVfrv13f4XVu0aqvfwpBVN0/SivkT5UyI9X/zjtXW8dTzpNT+jZeD0lg6nMQ7paiGnw33AQJoBwIgAGN8Gz3nZCTp1Vsm+035esNbVlpiYPiTfFb/+vf+C0pj6XDicDSNArISGEA7EADbsGTJEjkcDt1+++2mSwEiTmFJVUCj5/GDMgIaQrc2javje6XCTyRHdMD0b5cbS4ejxl6ABEAAJ0cAbMWmTZu0bNkyjR492nQpQERKjo9RZkpcQKPnk9735+Wd/h18QdPol48uNZYOR94AyEIQAO1AAGxBeXm55syZo6efflq9evUyXQ4QkZwJsVoxf6JW3RwYxtq878/LGwDb2Pu3pcbSj84cE3nhT6IXIIAOIQC2YOHChbriiis0depU06UAEc2ZENvqNGyr9/1J0tFd0uHt1sKHEVe2+vkLiqu0aNVWv2u+C0wiCr0AAXQAAbCZlStX6qOPPtJDDz3U7veUlpa2+HC5XN1YKWBj3t5/p31DSmx5lL69C0wiBotAAHQAAdDH/v379ZOf/ET/93//p4SEhHa/b+DAgUpLSwt4dCREAmgnj0fa/qp13krz5y4vMAlH3mbQTAEDaIdW7q62py1btujIkSM666yzGq/V19dr7dq1euKJJ+RyuRQdHR3wvv3798vpdAZcj4+P79Z6AVs6vEM6tkuKjpeGfavFl3gXmEhqcYHJrOV5bS8wCUdJ3AMIoP0i6Ldf111yySXatm2b37V58+Zp+PDhuuuuu1oMf5LkdDpbDIAAuoF3+veMS6WElv+/8y4wqXDVBdxj6F1gkhwf0/o9huGIKWAAHUAA9JGamqqRI0f6XUtOTlZmZmbAdQAGeDytNn9uzpkQ22rAi6j+f14sAgHQAdwDCCB8FH4infhKikmUhn7TdDWhxdsHsOqEVB8hO5wA6DaMAJ7E+++/b7oEAF7e0b+hl0vxKWZrCTVJGZIckjxWCEzpY7oiACGMEUAA4cHjkXa8bp23svrX1qKim1riMA0M4CQIgADCw4HNUkm+FJcinXGZ6WpCEwtBALQTARBAePCu/h02TYqNwEUcweC9D5ARQAAnQQAEEPrcbp/p39b3/rW9xgBYZLYOACGPAAgg9O3Pk8oKpPg0a/u3Zkqra1vd1aOwpEql1bXdXWFoaNwNhAAIoG0EQAChz7v6d8SVUoz/Djul1bWa++xGzVwWuL9vQXGVZi7L09xnN9ojBDaOALIbCIC2EQABhDZ3vfTZn6zz3MDVvxWuOh0vr2nc39cbAguKm/YDPl5eowqXDXrjEQABtBMBEEBo+3qdVHFESsyQhlwY8HRWmrW/b05GUmMI3LKvqDH85WQkaeWCSZG5+0dzBEAA7UQABBDavKt/R0yXolve2i073T8EXrd0g1/4y063QfiTCIAA2o0ACCB01dc2Tf+epPlzdnqiHp05xu/aozPH2Cf8ST7bwbEIBEDbCIAAQteXH1jbmiX3kQad1+ZLC4qrtGjVVr9ri1ZtDVgYEtFYBQygnQiAAEKXd/r3zKuk6Na3Lvdd8JGTkaRXb5nsd0+gbUKgdwSwplyqrTZbC4CQRgAEEJrqXNLnb1jnLaz+9SosqQpY8DF+UEbAwpDW+gRGlHinFNUQlJkGBtAGAiCA0LT375KrRErNknImt/qy5PgYZabEBSz48F0YkpkSp+T41kcQI4bDwUIQAO1ig9+IAMKSt/nzmVdLUa3/W9WZEKsV8yeqwlUX0OolOz1Rq26epOT4GDkTWl5BHHGSMqXywwRAAG0iAAIIPTWV0s6/Wuejrj/py50Jsa0GPFv0//PFCCCAdmAKGEDo2f03ayFDeo50ynjT1YSXxF7WkZXAANpAAAQQera/ah1zr7Xua0P7MQIIoB0IgABCi6vMGgGUpJHXtfiS0uraVlf1FpZUqbS6truqC30EQADtQAAEEFp2rpHqqqXMM6T+owKeLq2u1dxnN2rmssD+fgXFVZq5LE9zn91o3xBIAATQDgRAAKHFO/078roWp38rXHU6Xl4T0OTZtxn08fIaVbjqerLq0EEABNAOBEAAoaOySNrznnXeyt6/WWmJAU2et+wrCmgGbbvVv14EQADtQAAEEDq+eENy10r9Rkl9hrX6Mt8mz/lFlbpu6Qa/8OdtBm1L7AcMoB0IgABCR+P0b+tbv3llpyfq0Zlj/K49OnOMvcOf5DMCSAAE0DoCIIDQUH5E+mqtdZ57zUlfXlBcpUWrtvpdW7Rqa8DCENvxBsC6KquhNgC0gAAIIDR89ifJ47YaP2cMbvOlvgs+cjKS9Ootk/3uCbRjCGxsjROXLEXHWxcb7gO0fWscAAEIgABCg+/q3zYUllQFLPgYPygjYGFIa30CI5Ffa5ySar+FILTGAdASAiAA80oOSvkbJDlOOv2bHB+jzJS4gAUfvgtDMlPilBxvn63Om7fGqY23toM7frSQ1jgAWmSf35AAQteO1dZx0LmSM7vNlzoTYrVi/kRVuOoCWr1kpydq1c2TlBwfI2dCbHdVG3K8rXG8Ye/T6iiNl/Tkmx8qv/RsWuMACMAIIADzOrD6V7JCYGthJist0Vbhz8t3BLSwNlmS5K44TmscAC0iAAIwq+hLqeAjyREtjbjKdDVhzdsap8iTKknq5SijNQ6AFhEAAZi1/TXrOORCKaWP2VrCnLc1zglZATBDZbTGAdAiAiAAs7wBMLd9079omW9rHE+itRvIKfGVtm6NA6B1BEAA5hz5XDqyQ4qKlUZcabqasNW8Nc7cS8ZLkqZkOWzbGgdA2wiAAMzxjv6dPlVK7GW2ljDWvDVOrz79JUnxNcW2bY0DoG38NgBghsfT7ubPaFtAa5yqpkbQdm2NA6BtBEAAZhRulYr2SjGJ0rBppqsJe86E2KaA57MTiDwe+v8BCMAUMAAztr1sHYdeLsWnmK0l0jQsApG7VqopN1sLgJBEAATQ89z1TdO/o79jtpZIFJckxSZZ55XHzdYCICQRAAH0vK/XSWWFUkK6dPqlpquJTL7TwADQDAEQQM/b9kfrmHu1FBNntJSI5V1VXVlktg4AIYkACKBn1VZLn/3ZOh/F9G+3YQQQQBsIgAB61u63JVep5Bwg5Uw2XU3kIgACaAMB0MfSpUs1evRoOZ1OOZ1OTZ48WWvWrDFdFhBZPm2Y/h11nRTFr6BuQwAE0AZ++/oYMGCAlixZoi1btmjz5s36xje+oauuuko7duwwXRoQGapOSLv/Zp0z/du9CIAA2kAjaB/Tp0/3+/iBBx7Q0qVLlZeXp9zcXENVARHksz9L9TVS3zOl/iNNVxPZkhp6ARIAAbSAANiK+vp6vfzyy6qoqNDkydynBASFt/nzqBlm67CDxhFAVgEDCEQAbGbbtm2aPHmyqqurlZKSotWrV+vMM89s8z2lpaUtXo+Pj1d8fHx3lAmEn9ICeb5eJ4ckjbo+4OnCkir2qw0mpoABtIF7AJsZNmyYPvnkE3344Ye65ZZbNHfuXH322WdtvmfgwIFKS0sLeDz00EM9VDUQ+qo/XiWHPNoadaYK1MfvuYLiKs1clqe5z25UaXWtoQojDAEQQBsYAWwmLi5Op59+uiRp/Pjx2rRpk377299q2bJlrb5n//79cjqdAdcZ/YOdlVbXqsJVp6y0RElS9PZXJEmrXJP1wVPr9dy8iRraL1UFxVWatTxP+UWVkqQKVx2jgMHgOwXsdrPiGoAfAuBJuN1uuVyuNl/jbRsDwFJaXau5z27U8fIarVwwSdk1+xR7dLs8UbH6KOUCHSyu1pWPr9MzN07Qf7++XflFlcrJSNLKBZMaAyO6yLsIxFMvuUqadgYBABEA/dx9992aNm2acnJyVFZWphdffFHvv/++3n77bdOlAWGlwlWn4+U1yi+q1KzleXoz9x9KleQ69WKVHkyVVK2aOrdufHajJDWGv+x0wl/QxMRLcalSTZk1CkgABOCDOQEfR44c0Y033qhhw4bpkksu0aZNm/T222/r0kvZrB7oiKy0RK1cMEk5GUnKL6pQ+eaXJElLDoxWQUm1+qX63x7x6MwxhL/u0NgKhpXAAPwxAujj97//vekSgIiRnW6FwPuXPqcs1xGVexK0sjRX2WkJspYCN1m0aisjgN0hKUMq3sdCEAABGAEE0G2y0xN136BPJUlvuSeqWvGq93hUUFytnIwkvXrL5IZRQmuquKC4ynDFEYaVwABaQQAE0G0Kjp1Qwq4/SZJerT9fknS41KXs9AStXDBJ4wdl+EwVWyGwsIQQGDQEQACtIAAC6JLS6toWQ1tBcZWWLntcqarUYUdv3TL3RsVFN/zK8TS9zjtVnJORpMyUOCXHc2dK0BAAAbSCAAig07ztXmYu85++LSyp0vVPrddF1X+XJMWMm60LhvXXGz8+T9npCSooqfYb7ctOT9SqmydpxfyJ9AAMJvYDBtAKAiCATmve7sUbAsuq6uQpO6ILo7ZKkupHzZQkDe2fqld+eG6Lo31ZaYmEv2BjP2AArSAAAug0/3YvVgjcsq9I//aHzfqW1inG4VZN/7PUd/Coxvcw2teDmAIG0AoCIIAu8b2HL7+oUtct3aD8okrNjPuXJClu/JyA9zDa10MIgABaQQAE0GXZ6Yl6dOaYxo+HO/I11POVFB0n5V5rsDKbIwACaAUBEECXFRRXadGqrY0fXxv9T0lS1eBLmxYioOd5A2DVCcldb7YWACGFAAigSwqKqzRreZ7yiyqt5s43n63rYqzp31/kj6G5s0mN+/96pKpik5UACDEEQACdVljiH/5WLpik8XVblaliFcupV0qH09zZpOhYKSHNOmcaGIAPAiCATkuOj1FmSlxj+MtOT5Q+eVGSFDP2O8rKcNLc2bREegECCMRvZQCd5kyI1Yr5E1XhqlNWWqI1zfjFm5KklIk3aNXFw5UcH8OKX5OSMqUTX0lV9AIE0IQACKBLnAmxTQHvs9elepfUZ4SUNVZZDofR2iBWAgNoEVPAAILn4xes49jZEuEvNBAAAbSAAAggOI58IR3YJDmipTGzTVcDL/YDBtACAiCA4Pj4f63j0G9KKX3N1oIm7AcMoAUEQABdV1cjbV1pnZ/1PbO1wB9TwABaQAAE0HW73pIqj0kp/aXTLzVdDXwRAAG0gAAIoOu8079jZ0vRNBcIKQRAAC0gAALomtICac+71vnYG8zWgkAEQAAtIAAC6JpPXpQ8binnXKn36aarQXPeAFhdItXXmq0FQMggAALoPLe7qfcfiz9CU2K6pIaejFUnTFYCIIQQAAF03r5/WduMxaVKZ15luhq0JCq6IQSKaWAAjQiAADrPu/hj5LVSXLLZWtA67gME0AwBEEDnVJdIn/3JOj/rRrO1oG0EQADNEAABdM62V6S6aqnPCOmU8aarQVvYDQRAMwRAAB3n8UhbnrfOz/qe5HAYLQcnwX7AAJohAALouIKPpEOfStHx0pjZpqvByTACCKAZAiCAjtv8nHXMvbppdAmhi3sAATRDAATQMdUl0vZXrfPx88zWgvYhAAJohgAIoGM+/aNUW2kt/siZZLoatAcBEEAzBEAA7efxSJuftc4nzGPxR7ggAAJohgAIoP32fygd+UyKSZRGzzRdDdqLRSAAmiEAAmg/7+KPkdc1bS+G0OddqFNTJtW5zNYCICQQAAG0T2WRtGO1dT5hvtla0CGlSpLH0fDrvtkoYGFJlUqraw1UBcAkAiCA9tn6klTvkvqPkk45y3Q1aKfS6lrNfW6zij2p1gWf+wALiqs0c1me5j67kRAI2AwBEMDJeTxN078T5rP4I4xUuOp0vLxGx9wpkqRjRwslWeFv1vI85RdV6nh5jSpcdSbLBNDDCIAATu7Lf0jHd0txKdKoGZKskaXCkqoWX860YujISkvUygWTVBmTJkl6/C952rKvqDH85WQkaeWCScpKSzRcKYCeRAAEcHIfLreOY78rxada04rPbtTMZXkqKPYPgUwrhp7s9EQNHXyqJKm+4riuW7rBL/xlpxP+ALshAAJo24mvpV1vWecTF0hqmlbML6rUrOVNIZBpxdCVmNZHktRLZY3XHp05hvAH2BQBEEDbNj0jySOd9g2p9xmSmqYVczKSGkMg04qhrSzamgLOcDQFwEWrtgaM4AKwBwIggNbVVEof/a91PvFmv6ey0/1DINOKoauguEorPrGC34D4Kr16y2S/8E4IBOyHAOjjoYce0tlnn63U1FT17dtXV199tXbu3Gm6LMCcbX+Uqoul9EHSGZcGPJ2dnqhHZ47xu8a0onm+C3QKS6xp+S8r4iVJ5/T36Ix+qQEjuK0t6AEQmQiAPj744AMtXLhQeXl5euedd1RbW6vLLrtMFRUVpksDep7HI2182jqf+AMpKjrgJQXFVVq0aqvfNaYVzWq+QCc5PkaZKXGKSe0tSSosOKi5z25USkJMYwjMTIlTcnyM4coB9CT+j/fx1ltv+X38/PPPq2/fvtqyZYsuuOACQ1UBhuxbLx3ebu37O+6GgKd9F3zkZCTp0ZljtGjV1sYRJaaBzWi+QGflgklaMX+iDu2okf4iJbtLGxfoZKcnatXNk5QcHyNnQqzp0gH0IEYA21BSUiJJysjIMFwJYMDGZdZx9HekxF5+T3mnFX3v+Rs/KINpxRDQ0gKd3YfLdM87hyRJmY4yvwU6WWmJhD/AhgiArXC73br99ts1ZcoUjRw5ss3XlpaWtvhwudh0HWGq5KD0+RvW+Tk3BzztnVZsvuDDd2EI04rmtLRAZ0ex9d8iUS5lJ3kMVwjANH47t2LhwoXavn271q1bd9LXDhw4sMXr9957rxYvXhzkyoAesHGZ5KmXBp0n9csNeNqZEKsV8yeqwlUX0OqFacXQ4F2gc93SDZKkciXKHRWnKHeNVHlMissxXCEAkwiALbj11lv1xhtvaO3atRowYMBJX79//345nc6A6/Hx8d1RHtC9XOXS5uet88kLW32ZMyG21YBH/z/zAhfoOHTMk6q+Oi6VH5XSCYCAnTEF7MPj8ejWW2/V6tWr9fe//12DBw9u1/ucTmeLDwIgwtLHL0iuEinjNGnoN01Xg05ovkDH2/fvUL31D9XjRw4YrhCAaQRAHwsXLtQLL7ygF198UampqTp06JAOHTqkqipuZIdNuOulvN9Z55N/JEXxKyLctLVApyLGWtD2zFsfskAHsDl+u/tYunSpSkpKdNFFFykrK6vxsWrVKtOlAT3jizek4n3Wqt8x3zVdDTqhrQU6Y4ZbW/kNiC1jgQ5gc/wG8OHxsDIONrf+Ces44SYpLslsLeiUthboJGVkSZKuHx6veBboALZGAARg2b9ROrBRio6TJi4wXQ26oNUFOsl9JUnx1cd6uCIAoYYpYACWDQ2jf6NmSKn9zNaC7pFiBUCVHzVbBwDjCIAApBNfS5//xTpvo/ULwlxyH+tYccRsHQCMIwACkDb8TvK4pSEXt9j4GRHCOwJYwQggYHcEQMDuKo5JH/3BOp9ym9la0L0a7gFU1QmpvtZsLQCMIgACdpe3VKqrkrLHWSOAiFyJvSRHtHXOKCBgawRAwM6qS6SNT1vn590hORxm60H3iopqug+wnPsAATsjAAJ2tun31rZvvYdKw680XQ16Qop3IQgjgICdEQABu6qtatr27bw72PbNLhgBBCACIGBfH79gjQKl5UijrjddDXqKdyEIrWAAWyMAAnZUXyv96/9Z51Nuk6LZFsw2vFPANIMGbI0ACNjRtlekknxrOnDcDaarQU9iBBCACICA/bjrpXWPWOeTfiTFJpqtBz2rcTs4AiBgZwRAwG62vyYd2yUlpEtn32S6GvQ0AiAAEQABe6mvkz5YYp2fe6uUkGa2HvS81CzrWH7IbB0AjCIAAnay/RXp+B5rR4hzfmi6GpiQ0s86Vp2QaqvN1gLAGAIgYBf1ddIHD1vn594mxaearQdmJPaSouOt8/LDZmsBYAwBELCLT1dJRV9KSZnSxAWmq4EpDoeU2jAKWMY0MGBXBEDADuprpbX/Y51P+YkUn2K2HpjFfYCA7REAATvY+pJ04mur79/Z/2a6GpiWwgggYHcEQCDS1dVIa39lnZ+3SIpLNlsPzPOOABIAAdsiAAKR7qMVUnG+NeozYb7pahAKUvtbRwIgYFsEQCCSucqk9xv6/l14F7t+wOINgNwDCNgWARCIZOsflyqPSZmnS2fdaLoahApGAAHbIwACkarssLT+Cev8kp9L0bFm60HoSCEAAnZHAAQi1QcPS7UV0ikTpBHfNl0NQol3BLCqSKpzma0FgBEEQCASHdsjbXneOr/0F1bzX8DLdzcQRgEBWyIAApHovfskT7009JvSqVNMV4NQ47sbCNvBAbZEAAQizf5N0ud/lhxR0tTFpqtBqGrsBVhotg4ARhAAgUji8Uhv322dj/mu1HeE2XoQuhp3A2EEELAjAiAQSba9LB3YJMWlSJfcY7oahLLGEcACs3UAMIIACEQKV7n0zs+t8/P/vWmlJ9CStFOsY8lBs3UAMIIACESKdY9a93P1OlWa9CPT1SDUORsCYCkBELAjAiAQCU58be36IUmXPSDFJhgtB2EgbYB1LDlgtg4ARhAAgUjwt3ukepc0+EJp+BWmq0E4aBwBLJDcbrO1AOhxBEAg3O1+t6ntyzcfoukz2ic1y/oz466VKo6YrgZADyMAAuGstkr6679b5+fcIvXLNVsPwkd0TNNKYBaCALZDAATC2T8fse7/S82WLr7bdDUIN95p4JL9ZusA0OMIgEC4OrbbWvkrSdOWSPGpZutB+EljJTBgVwRAIBx5PNKbd1j3b51xmTTi26YrQjhy0gsQsCsCIBCOPl0lfbVWikmQpv0PCz/QOWkDrSNTwIDtEACBcFN2WFpzl3V+4X9IGYPN1oPwxRQwYFsEQCDc/PVOqbpY6j9aOvc209UgnDEFDNgWAbCZtWvXavr06crOzpbD4dDrr79uuiSgyY7XrZ5/UTHSVU9K0bGmK0I48+4GUn5YqqsxWwuAHkUAbKaiokJjxozRk08+aboUwF/FcWv0T5LOu0PKGm22HoS/pN5SdLwkj1RWYLoaAD0oxnQBoWbatGmaNm2a6TKAQGv+Q6o4KvUZIV1wp+lqEAmioiRntnTiK2tP4F6nmq4IQA8hAAZBaWlpi9fj4+MVHx/fw9UgIm17Rdr+irV111VPSjH8uUKQ9DrVCoAnvpZOPc90NQB6CFPAQTBw4EClpaUFPB566CHTpSESlBywev5J0gU/lQaMN1sPIot31O/E1yarANDDGAEMgv3798vpdAZcZ/QPXeZ2S6/fIlWXSNlnWQEQCCZvG6Gir8zWAaBHEQCDwOl0thgAgS7L+53V8Dk2Sbr2aVb9IvgYAQRsiSlgIFQd2ia9d591fvkDUu/TzdaDyNSrYQTwBCOAgJ0wAthMeXm59uzZ0/jxV199pU8++UQZGRnKyckxWBlspbpU+uNcqb5GGjpNGj/PdEWIVN4RwMrj1p+7BGYzADtgBLCZzZs3a9y4cRo3bpwk6Y477tC4ceP085//3HBlsA2PR/rLT6SivZJzgHT179jrF90nwSklZVrnTAMDtsEIYDMXXXSRPB6P6TJgZ5uflXa8Zu32MeM5KSnDdEWIdL1OtUYAT3xNg3HAJhgBBEJJ4Vbprbut86mLpYETjZYDm2i8D/Bro2UA6DkEQCBUVBZJq74n1bus+/4m32q6IthF40pgFoIAdkEABEJBfZ308lypeJ/1lzH3/aEnZTACCNgNARAIBX/774Z+f8nSrJe47w89qxfNoAG7IQACpn38f9KHS63za56S+p1pth7Yj3cEsDhfqqsxWwuAHkEABEzat0F643br/MK7pDO/bbQc2FRqlhSXKnnqpaIvTVcDoAcQAAFTju2WVs62mj0Pv1K68GemK4JdORxSn2HW+dEvzNYCoEcQAAETyo9K/3e9VHVCOmW8tc9vFP87wqDGALjTbB0AegR/4wA9raZSemmmteIyfZA0e5UUl2S6KtidNwAeIwACdkAABHpSfa30yjzp4BYpsZd0w6tSSh/TVQFSn+HWkRFAwBYIgEBPcddLq2+Wdr0lxSRY7V56n2G6KsDSOAK42/qzCiCiEQCBnuDxWKt9t78qRcVKM1+QBk02XRXQJC1Hikm0dqKhITQQ8QiAQHfzeKxGzx/9QXJESdc9LZ1xqemqAH9RUU0j0kwDAxGPAAh0J2/42/CE9fG3H5dyrzFbE9CaxvsAaQUDRLoY0wUAEcvtlt66S9q43Pr4it9I424wWxPQlj5DrSMjgEDEIwAC3cHtlt5cJG15XpJDmv5bafxc01UBbes30joe+tRsHQC6HQEQCLa6GulPC6Vtf7Tu+bvqd9LY2aarAk4ua6x1PPqFVFMhxSUbLQdA9+EeQCCYXGXSizOs8BcVY+3wQfhDuHBmSSn9JY9bOrTddDUAuhEBEAiWssPSc9+Svnxfik2WvrtKGnW96aqAjskeZx0LPjZbB4BuRQAEguHwDun3U617p5J6S99/Qzp9qumqgI4jAAK2wD2AQFd98ab02gKpplzqNdja3i3zNNNVAZ2TPdY6EgCBiEYABDrL45H++Wvp7/dbHw++QJqxQkrKMFsX0BXehSDHdkmucik+xWg5ALoHU8BAZ1SdkFbOaQp/ExdIN7xG+EP4S+0nOU+R5KEdDBDBCIBARx3cIi27QNr5phQdJ135mPStX0nRsaYrA4LDex/g/o1m6wDQbQiAQHu53dKGJ6XfXy4V50u9TpVu+ps0YZ7pyoDgGjTFOn79T7N1AOg23AMItEdxvvT6j5r+QhzxbemqJ6SENLN1Ad1h8AXWcd96q7F5TJzZegAEHSOAQFs8HunjF6TfnWuFv9gk6YpHpO/8gfCHyNX3TCkpU6qttG55ABBxCIBAa47tkf5wlbWtW02ZNPAc6YfrpLNvkhwO09UB3ScqSjr1fOv8q7VmawHQLQiAQHO11dI/HpSWTpa++kCKSZCmLpbmraG/H+zDOw1MAAQiEvcAAl4ej7Trbentu6WiL61rp0+VvvVrKWOw2dqAnjbkIut4YKNUUynFJRktB0BwEQABSTqwRXrnHmnfv6yPU7Okby6RzryK6V7YU8YQKS1HKsmX9rwrnflt0xUBCCKmgGFvx/dKf5wrPfMNK/xFx0tTfiIt3CjlXk34g305HFLuVdb5jtfM1gIg6BgBhD0d/kxa94i0/VXJ45bkkMZ+V7r4P6W0AaarA0JD7jXS+setWyNqKqS4ZNMVAQgSAiDs5eAWae1vrF08vM64XLrk51L/kebqAkJR9llS+iCpeJ8VAkdea7oiAEFCAETkq6uRPvuTtHG5dUO7JMlh3dN0/r9LWWOMlgeELIfDGgX812PWNDABEIgYBEBErhP7rCbOW56XKo5Y16JipZHXSeffIfUZZrQ8ICyMut4KgDvfksqPSCl9TVcEIAgIgIgs1aXWaN/WldK+dU3XU7OkCfOls+ZKqf3M1QeEm/6jpAFnSwc2Wf+YuvA/TFcEIAgIgAh/rjJp99+kz/9ijVLUVTU84bCa2U6YJw2/UoqONVomELYmLrAC4IfLpMkLWQwCRAACIMJTyUFp73vSF29Ke/8h1buanus9VBozWxr9HVb0AsGQe430jwekE19Lm56xWiUBCGsEQISHmgrp639Je/9uPY7t9H8+83RpxHRpxLel7HH07wOCKTpWuuCn1r7Ya38tjfmulNLHdFUAuoAAiNBUdkja/6GU/6F1LNwquWubnndESaeMl864zAp+fYYT+oDuNGa2tZK+cKu05qfSjOdNVwSgCwiAMMvjkcoKpUPbpEOfSoWfSoWfSMX5ga9Ny5FO/4Z02jese/sSe/V4uYBtRUVL038rPX2JtGO1lDNZOudm01UB6CQCIHqG2y2VHpCO77G2Xzu225rGPbRNqjzewhscUr9caeA51iPnHKshLaN8gDnZ46ym6e/eK625S0rtb+2XDSDsEABb8OSTT+pXv/qVDh06pDFjxujxxx/XxIkTTZcV2tz1UvlhqeSAVLK/4djwOLFPKvrSZ3VuM45oa+FG/1FNj1POkhLSevZ7AHByU35i7Qyy+Vnp5XnSpfdJk2/lH2dAmCEANrNq1Srdcccdeuqpp3TOOefoscce0+WXX66dO3eqb1+bNED1eKS6aqm6xP9RccxqqFx+xOf8qFTR8PDUt/15o2KljCHWgo3ep0uZZ1jbr/UZIcUm9Mz3BqBrHA7pW7+WaqukrS9Jf/tva5u4b9xjjdQDCAsOj8fjMV1EKDnnnHN09tln64knnpAkud1uDRw4UD/+8Y/1s5/9zO+1paWlSktLU0lJiZxOZ/cV5fFYI2zuWqm+Rqqvs47uWqnee63h3PuauhqptsL6JV1b2XSsqWzhWoV/0HOVWp+joxzRkvMUq/VK2gApfWDD+UAp8zTrHr5o/s0BRASPR9r8e+mtu5t+X/QZIY24UhowUeo7wmrAzv/zCEE99vd3COP/TB81NTXasmWL7r777sZrUVFRmjp1qjZs2NDq+0pLS1u8Hh8fr/j4+I4Xsu5R6V+/9Q93MpDTHVFSvNOaik1wSkm9rW2gkvtYD9/z5D7W/UBR0T1fJ4Ce53BIZ/+btRL/g/+xdt85+rn1aHxNlJTS3/r9EZdsPaLjreuOKOv3hcPR8HF0w5Gp5J4VBj/vEdOtvdsRVARAH8eOHVN9fb369fPfKqxfv3764osvWn3fwIEDW7x+7733avHixR0vpK5GqjrR9msc0VJ0nNWfKzrWml6NjrP+tR0dZz3ikqXYRCk2qeHoPU/yvxaX3BDymj3iUvhlDKBt6TnSVU9Il90v7fyr9NVa6eAWqegra0airMB6AJ2VeRoBsBsQAINg//79LQ4hd2r0T7L2rM29pinMRcU2BT3vx1FRXawaAIIoMV0a+13rIVkr/yuOSKUFUk255Cq3jvW1ksft86i3ppM9butWF/SgMLkDbMDZpiuISARAH71791Z0dLQOHz7sd/3w4cPq379/q+9zOp3BvYcgpQ9d9gGEt6go67aQ1NZ/dwIwh2EkH3FxcRo/frzee++9xmtut1vvvfeeJk+ebLAyAACA4GEEsJk77rhDc+fO1YQJEzRx4kQ99thjqqio0Lx580yXBgAAEBQEwGZmzpypo0eP6uc//7kOHTqksWPH6q233gpYGAIAABCu6APYBfQRAgAg/PD3N/cAAgAA2A4BEAAAwGYIgAAAADZDADTA5XJp8eLFcrlcpkuJKPxcuw8/2+7Bz7V78HPtHvxcIwuLQLqgszeRcvNp9+Dn2n342XYPfq7dg59r94ikn2skfS+dxQggAACAzRAAAQAAbIYACAAAYDMEQAAAAJthK7gu8K6fKS0t7dD7vK/v6PvQNn6u3Yefbffg59o9+Ll2j0j6uXq/Bzuvg2UVcBccOHBAAwcONF0GAADohP3792vAgAGmyzCCANgFbrdbBQUFSk1NlcPhMF0OAABoB4/Ho7KyMmVnZysqyp53wxEAAQAAbMaesRcAAMDGCIAAAAA2QwAEAACwGQJgD1q6dKlGjx4tp9Mpp9OpyZMna82aNabLijhLliyRw+HQ7bffbrqUsLZ48WI5HA6/x/Dhw02XFREOHjyoG264QZmZmUpMTNSoUaO0efNm02WFvVNPPTXgz6zD4dDChQtNlxbW6uvrdc8992jw4MFKTEzUaaedpl/+8pe2bqESCegD2IMGDBigJUuW6IwzzpDH49GKFSt01VVX6eOPP1Zubq7p8iLCpk2btGzZMo0ePdp0KREhNzdX7777buPHMTH8yuiqEydOaMqUKbr44ou1Zs0a9enTR7t371avXr1Mlxb2Nm3apPr6+saPt2/frksvvVQzZswwWFX4e/jhh7V06VKtWLFCubm52rx5s+bNm6e0tDTddtttpstDJ/HbvAdNnz7d7+MHHnhAS5cuVV5eHgEwCMrLyzVnzhw9/fTTuv/++02XExFiYmLUv39/02VElIcfflgDBw7Uc88913ht8ODBBiuKHH369PH7eMmSJTrttNN04YUXGqooMqxfv15XXXWVrrjiCknWSOtLL72kjRs3Gq4MXcEUsCH19fVauXKlKioqNHnyZNPlRISFCxfqiiuu0NSpU02XEjF2796t7OxsDRkyRHPmzFF+fr7pksLen//8Z02YMEEzZsxQ3759NW7cOD399NOmy4o4NTU1euGFFzR//nz6tHbRueeeq/fee0+7du2SJG3dulXr1q3TtGnTDFeGrmAEsIdt27ZNkydPVnV1tVJSUrR69WqdeeaZpssKeytXrtRHH32kTZs2mS4lYpxzzjl6/vnnNWzYMBUWFuq+++7T+eefr+3btys1NdV0eWHryy+/1NKlS3XHHXfoP//zP7Vp0ybddtttiouL09y5c02XFzFef/11FRcX6/vf/77pUsLez372M5WWlmr48OGKjo5WfX29HnjgAc2ZM8d0aegCGkH3sJqaGuXn56ukpESvvPKKnnnmGX3wwQeEwC7Yv3+/JkyYoHfeeafx3r+LLrpIY8eO1WOPPWa2uAhSXFysQYMG6ZFHHtFNN91kupywFRcXpwkTJmj9+vWN12677TZt2rRJGzZsMFhZZLn88ssVFxenv/zlL6ZLCXsrV67UT3/6U/3qV79Sbm6uPvnkE91+++165JFH+EdLGGMEsIfFxcXp9NNPlySNHz9emzZt0m9/+1stW7bMcGXha8uWLTpy5IjOOuusxmv19fVau3atnnjiCblcLkVHRxusMDKkp6dr6NCh2rNnj+lSwlpWVlbAP/hGjBihV1991VBFkWffvn1699139dprr5kuJSL89Kc/1c9+9jPNmjVLkjRq1Cjt27dPDz30EAEwjBEADXO73XK5XKbLCGuXXHKJtm3b5ndt3rx5Gj58uO666y7CX5CUl5dr7969+t73vme6lLA2ZcoU7dy50+/arl27NGjQIEMVRZ7nnntOffv2bVy0gK6prKwM2C83OjpabrfbUEUIBgJgD7r77rs1bdo05eTkqKysTC+++KLef/99vf3226ZLC2upqakaOXKk37Xk5GRlZmYGXEf73XnnnZo+fboGDRqkgoIC3XvvvYqOjtbs2bNNlxbWFi1apHPPPVcPPvigvvOd72jjxo1avny5li9fbrq0iOB2u/Xcc89p7ty5tC0KkunTp+uBBx5QTk6OcnNz9fHHH+uRRx7R/PnzTZeGLuD/jh505MgR3XjjjSosLFRaWppGjx6tt99+W5deeqnp0oAABw4c0OzZs3X8+HH16dNH5513nvLy8gJabaBjzj77bK1evVp33323fvGLX2jw4MF67LHHuKE+SN59913l5+cTToLo8ccf1z333KMf/ehHOnLkiLKzs3XzzTfr5z//uenS0AUsAgEAALAZ+gACAADYDAEQAADAZgiAAAAANkMABAAAsBkCIAAAgM0QAAEAAGyGAAgAAGAzBEAAAACbIQACAADYDAEQAADAZgiAAAAANkMABAAAsBkCIAAAgM0QAAEAAGyGAAgAAGAzBEAAAACbIQACAADYDAEQAADAZgiAAAAANkMABAAAsBkCIAAAgM0QAAEAAGyGAAgAAGAzBEAAAACbIQACAADYDAEQAADAZgiAAAAANkMABAAAsBkCIAAAgM0QAAEAAGyGAAgAAGAzBEAAAACbIQACAADYDAEQAADAZgiAAAAANkMABAAAsJn/D5kxz8dZTt9KAAAAAElFTkSuQmCC' width=640.0/>\n",
       "            </div>\n",
       "        "
      ],
      "text/plain": [
       "Canvas(toolbar=Toolbar(toolitems=[('Home', 'Reset original view', 'home', 'home'), ('Back', 'Back to previous …"
      ]
     },
     "metadata": {},
     "output_type": "display_data"
    }
   ],
   "source": [
    "\n",
    "import matplotlib as mpl\n",
    "mpl.rcParams['text.usetex'] = False\n",
    "\n",
    "# Graficamos el fit y los puntos con los que se hizo el fit\n",
    "fig, ax = plt.subplots()\n",
    "ax.scatter(params.x, params.y, color = 'C0', marker = 'x') # Envoltorio\n",
    "model_eval = eval_fitted_model_with_given_params(params, dx = 0.01) # Funcion en gauss_asym.py\n",
    "x_eval = model_eval['x_eval']\n",
    "y_eval = model_eval['y_eval']\n",
    "ax.plot(x_eval, y_eval,color = 'C1'); # Fit"
   ]
  },
  {
   "cell_type": "code",
   "execution_count": null,
   "metadata": {},
   "outputs": [],
   "source": []
  },
  {
   "cell_type": "markdown",
   "metadata": {},
   "source": [
    "## Calculate width of a fit"
   ]
  },
  {
   "cell_type": "code",
   "execution_count": 29,
   "metadata": {},
   "outputs": [],
   "source": [
    "%run Routines_and_data/gauss_asym.py"
   ]
  },
  {
   "cell_type": "code",
   "execution_count": 30,
   "metadata": {},
   "outputs": [],
   "source": [
    "dx = 0.001 # Discretizacion para mapear la gaussiana"
   ]
  },
  {
   "cell_type": "code",
   "execution_count": 31,
   "metadata": {},
   "outputs": [],
   "source": [
    "width_info = find_widths_of_skewed_gaussian_dani(params, dx = dx) # Funcion en gauss_asym.py"
   ]
  },
  {
   "cell_type": "code",
   "execution_count": 32,
   "metadata": {},
   "outputs": [
    {
     "data": {
      "text/plain": [
       "{'x_max': 6.002938183198307,\n",
       " 'y_max': 6.15567325127124e-05,\n",
       " 'w1': 0.7735590242450563,\n",
       " 'w2': 0.2693775996293075}"
      ]
     },
     "execution_count": 32,
     "metadata": {},
     "output_type": "execute_result"
    }
   ],
   "source": [
    "width_info # Retorna la ubicacion del maximo (x_max, y_max) y el ancho a la izquierda (w1) y a la derecha (w2)"
   ]
  },
  {
   "cell_type": "code",
   "execution_count": 33,
   "metadata": {},
   "outputs": [],
   "source": [
    "#fig, ax = plt.subplots(figsize=(10,5))\n",
    "#plot_fit_and_widths(params, ax, dx = dx) # Funcion en gauss_asym.py"
   ]
  },
  {
   "cell_type": "code",
   "execution_count": 34,
   "metadata": {},
   "outputs": [],
   "source": [
    "# Podemos aplicar find_widths_of_skewed_gaussian() a toda la tabla con la informacion de los parametros \n",
    "\n",
    "df_fits['width_info'] = df_fits.apply(lambda row: find_widths_of_skewed_gaussian_dani(row), axis = 1)\n",
    "df_fits['x_max'] = df_fits.apply(lambda row: row.width_info['x_max'], axis = 1)\n",
    "df_fits['y_max'] = df_fits.apply(lambda row: row.width_info['y_max'], axis = 1)\n",
    "df_fits['w1'] = df_fits.apply(lambda row: row.width_info['w1'], axis = 1)\n",
    "df_fits['w2'] = df_fits.apply(lambda row: row.width_info['w2'], axis = 1)"
   ]
  },
  {
   "cell_type": "code",
   "execution_count": 35,
   "metadata": {},
   "outputs": [
    {
     "data": {
      "text/html": [
       "<div>\n",
       "<style scoped>\n",
       "    .dataframe tbody tr th:only-of-type {\n",
       "        vertical-align: middle;\n",
       "    }\n",
       "\n",
       "    .dataframe tbody tr th {\n",
       "        vertical-align: top;\n",
       "    }\n",
       "\n",
       "    .dataframe thead th {\n",
       "        text-align: right;\n",
       "    }\n",
       "</style>\n",
       "<table border=\"1\" class=\"dataframe\">\n",
       "  <thead>\n",
       "    <tr style=\"text-align: right;\">\n",
       "      <th></th>\n",
       "      <th>amplitude</th>\n",
       "      <th>center</th>\n",
       "      <th>delta</th>\n",
       "      <th>fractured</th>\n",
       "      <th>gamma</th>\n",
       "      <th>id_tracing</th>\n",
       "      <th>sigma</th>\n",
       "      <th>stderr_amplitude</th>\n",
       "      <th>stderr_center</th>\n",
       "      <th>stderr_gamma</th>\n",
       "      <th>stderr_sigma</th>\n",
       "      <th>x</th>\n",
       "      <th>x_tracing</th>\n",
       "      <th>y</th>\n",
       "      <th>y_tracing</th>\n",
       "      <th>width_info</th>\n",
       "      <th>x_max</th>\n",
       "      <th>y_max</th>\n",
       "      <th>w1</th>\n",
       "      <th>w2</th>\n",
       "    </tr>\n",
       "  </thead>\n",
       "  <tbody>\n",
       "    <tr>\n",
       "      <th>0</th>\n",
       "      <td>0.000069</td>\n",
       "      <td>6.262372</td>\n",
       "      <td>0.05</td>\n",
       "      <td>False</td>\n",
       "      <td>-6.766237</td>\n",
       "      <td>10.0</td>\n",
       "      <td>0.838236</td>\n",
       "      <td>0.000003</td>\n",
       "      <td>0.012504</td>\n",
       "      <td>1.430586</td>\n",
       "      <td>0.047692</td>\n",
       "      <td>[5.095938183198627, 5.119048776625851, 5.19323...</td>\n",
       "      <td>4.705896</td>\n",
       "      <td>[2.0867398429453386e-05, 2.7499260462807506e-0...</td>\n",
       "      <td>3.687626</td>\n",
       "      <td>{'x_max': 6.002938183198307, 'y_max': 6.155673...</td>\n",
       "      <td>6.002938</td>\n",
       "      <td>0.000062</td>\n",
       "      <td>0.773559</td>\n",
       "      <td>0.269378</td>\n",
       "    </tr>\n",
       "  </tbody>\n",
       "</table>\n",
       "</div>"
      ],
      "text/plain": [
       "   amplitude    center  delta  fractured     gamma  id_tracing     sigma  \\\n",
       "0   0.000069  6.262372   0.05      False -6.766237        10.0  0.838236   \n",
       "\n",
       "   stderr_amplitude  stderr_center  stderr_gamma  stderr_sigma  \\\n",
       "0          0.000003       0.012504      1.430586      0.047692   \n",
       "\n",
       "                                                   x  x_tracing  \\\n",
       "0  [5.095938183198627, 5.119048776625851, 5.19323...   4.705896   \n",
       "\n",
       "                                                   y  y_tracing  \\\n",
       "0  [2.0867398429453386e-05, 2.7499260462807506e-0...   3.687626   \n",
       "\n",
       "                                          width_info     x_max     y_max  \\\n",
       "0  {'x_max': 6.002938183198307, 'y_max': 6.155673...  6.002938  0.000062   \n",
       "\n",
       "         w1        w2  \n",
       "0  0.773559  0.269378  "
      ]
     },
     "execution_count": 35,
     "metadata": {},
     "output_type": "execute_result"
    }
   ],
   "source": [
    "\n",
    "\n",
    "df_fits.head(10)"
   ]
  },
  {
   "cell_type": "code",
   "execution_count": 36,
   "metadata": {},
   "outputs": [
    {
     "data": {
      "text/html": [
       "<div>\n",
       "<style scoped>\n",
       "    .dataframe tbody tr th:only-of-type {\n",
       "        vertical-align: middle;\n",
       "    }\n",
       "\n",
       "    .dataframe tbody tr th {\n",
       "        vertical-align: top;\n",
       "    }\n",
       "\n",
       "    .dataframe thead th {\n",
       "        text-align: right;\n",
       "    }\n",
       "</style>\n",
       "<table border=\"1\" class=\"dataframe\">\n",
       "  <thead>\n",
       "    <tr style=\"text-align: right;\">\n",
       "      <th></th>\n",
       "      <th>amplitude</th>\n",
       "      <th>center</th>\n",
       "      <th>delta</th>\n",
       "      <th>fractured</th>\n",
       "      <th>gamma</th>\n",
       "      <th>id_tracing</th>\n",
       "      <th>sigma</th>\n",
       "      <th>stderr_amplitude</th>\n",
       "      <th>stderr_center</th>\n",
       "      <th>stderr_gamma</th>\n",
       "      <th>stderr_sigma</th>\n",
       "      <th>x</th>\n",
       "      <th>x_tracing</th>\n",
       "      <th>y</th>\n",
       "      <th>y_tracing</th>\n",
       "      <th>width_info</th>\n",
       "      <th>x_max</th>\n",
       "      <th>y_max</th>\n",
       "      <th>w1</th>\n",
       "      <th>w2</th>\n",
       "    </tr>\n",
       "  </thead>\n",
       "  <tbody>\n",
       "    <tr>\n",
       "      <th>0</th>\n",
       "      <td>0.000069</td>\n",
       "      <td>6.262372</td>\n",
       "      <td>0.05</td>\n",
       "      <td>False</td>\n",
       "      <td>-6.766237</td>\n",
       "      <td>10.0</td>\n",
       "      <td>0.838236</td>\n",
       "      <td>0.000003</td>\n",
       "      <td>0.012504</td>\n",
       "      <td>1.430586</td>\n",
       "      <td>0.047692</td>\n",
       "      <td>[5.095938183198627, 5.119048776625851, 5.19323...</td>\n",
       "      <td>4.705896</td>\n",
       "      <td>[2.0867398429453386e-05, 2.7499260462807506e-0...</td>\n",
       "      <td>3.687626</td>\n",
       "      <td>{'x_max': 6.002938183198307, 'y_max': 6.155673...</td>\n",
       "      <td>6.002938</td>\n",
       "      <td>0.000062</td>\n",
       "      <td>0.773559</td>\n",
       "      <td>0.269378</td>\n",
       "    </tr>\n",
       "  </tbody>\n",
       "</table>\n",
       "</div>"
      ],
      "text/plain": [
       "   amplitude    center  delta  fractured     gamma  id_tracing     sigma  \\\n",
       "0   0.000069  6.262372   0.05      False -6.766237        10.0  0.838236   \n",
       "\n",
       "   stderr_amplitude  stderr_center  stderr_gamma  stderr_sigma  \\\n",
       "0          0.000003       0.012504      1.430586      0.047692   \n",
       "\n",
       "                                                   x  x_tracing  \\\n",
       "0  [5.095938183198627, 5.119048776625851, 5.19323...   4.705896   \n",
       "\n",
       "                                                   y  y_tracing  \\\n",
       "0  [2.0867398429453386e-05, 2.7499260462807506e-0...   3.687626   \n",
       "\n",
       "                                          width_info     x_max     y_max  \\\n",
       "0  {'x_max': 6.002938183198307, 'y_max': 6.155673...  6.002938  0.000062   \n",
       "\n",
       "         w1        w2  \n",
       "0  0.773559  0.269378  "
      ]
     },
     "execution_count": 36,
     "metadata": {},
     "output_type": "execute_result"
    }
   ],
   "source": [
    "df_fits"
   ]
  },
  {
   "cell_type": "markdown",
   "metadata": {},
   "source": [
    "## Results"
   ]
  },
  {
   "cell_type": "code",
   "execution_count": 37,
   "metadata": {},
   "outputs": [],
   "source": [
    "df_tracing_arm1 = pd.read_csv('data/arm_tracing_arm1_rho_dani.csv')\n",
    "df_tracing_arm1['arm'] = [1]*len(df_tracing_arm1)\n",
    "df_tracing_arm1['id'] = np.arange(0,len(df_tracing_arm1),1)\n",
    "\n",
    "df_tracing_arm2 = pd.read_csv('data/arm_tracing_arm2_rho_dani.csv')\n",
    "df_tracing_arm2['arm'] = [2]*len(df_tracing_arm2)\n",
    "df_tracing_arm2['id'] = np.arange(0,len(df_tracing_arm2),1)\n",
    "\n",
    "df_arms = pd.concat([df_tracing_arm1,df_tracing_arm2], axis = 0).reset_index(drop=True)"
   ]
  },
  {
   "cell_type": "code",
   "execution_count": 42,
   "metadata": {},
   "outputs": [
    {
     "data": {
      "text/html": [
       "<div>\n",
       "<style scoped>\n",
       "    .dataframe tbody tr th:only-of-type {\n",
       "        vertical-align: middle;\n",
       "    }\n",
       "\n",
       "    .dataframe tbody tr th {\n",
       "        vertical-align: top;\n",
       "    }\n",
       "\n",
       "    .dataframe thead th {\n",
       "        text-align: right;\n",
       "    }\n",
       "</style>\n",
       "<table border=\"1\" class=\"dataframe\">\n",
       "  <thead>\n",
       "    <tr style=\"text-align: right;\">\n",
       "      <th></th>\n",
       "      <th>x</th>\n",
       "      <th>y</th>\n",
       "      <th>arm</th>\n",
       "      <th>id</th>\n",
       "    </tr>\n",
       "  </thead>\n",
       "  <tbody>\n",
       "    <tr>\n",
       "      <th>0</th>\n",
       "      <td>1.026720</td>\n",
       "      <td>1.204183</td>\n",
       "      <td>1</td>\n",
       "      <td>0</td>\n",
       "    </tr>\n",
       "    <tr>\n",
       "      <th>1</th>\n",
       "      <td>1.302658</td>\n",
       "      <td>0.238399</td>\n",
       "      <td>1</td>\n",
       "      <td>1</td>\n",
       "    </tr>\n",
       "    <tr>\n",
       "      <th>2</th>\n",
       "      <td>1.210679</td>\n",
       "      <td>-0.313477</td>\n",
       "      <td>1</td>\n",
       "      <td>2</td>\n",
       "    </tr>\n",
       "    <tr>\n",
       "      <th>3</th>\n",
       "      <td>0.934741</td>\n",
       "      <td>-0.773374</td>\n",
       "      <td>1</td>\n",
       "      <td>3</td>\n",
       "    </tr>\n",
       "    <tr>\n",
       "      <th>4</th>\n",
       "      <td>-0.628909</td>\n",
       "      <td>-0.727385</td>\n",
       "      <td>1</td>\n",
       "      <td>4</td>\n",
       "    </tr>\n",
       "    <tr>\n",
       "      <th>5</th>\n",
       "      <td>-1.180786</td>\n",
       "      <td>0.054440</td>\n",
       "      <td>1</td>\n",
       "      <td>5</td>\n",
       "    </tr>\n",
       "    <tr>\n",
       "      <th>6</th>\n",
       "      <td>-0.766878</td>\n",
       "      <td>1.112203</td>\n",
       "      <td>1</td>\n",
       "      <td>6</td>\n",
       "    </tr>\n",
       "    <tr>\n",
       "      <th>7</th>\n",
       "      <td>0.152916</td>\n",
       "      <td>2.169966</td>\n",
       "      <td>1</td>\n",
       "      <td>7</td>\n",
       "    </tr>\n",
       "    <tr>\n",
       "      <th>8</th>\n",
       "      <td>1.394638</td>\n",
       "      <td>2.169966</td>\n",
       "      <td>1</td>\n",
       "      <td>8</td>\n",
       "    </tr>\n",
       "    <tr>\n",
       "      <th>9</th>\n",
       "      <td>2.912298</td>\n",
       "      <td>1.802049</td>\n",
       "      <td>1</td>\n",
       "      <td>9</td>\n",
       "    </tr>\n",
       "    <tr>\n",
       "      <th>10</th>\n",
       "      <td>3.878081</td>\n",
       "      <td>0.836265</td>\n",
       "      <td>1</td>\n",
       "      <td>10</td>\n",
       "    </tr>\n",
       "    <tr>\n",
       "      <th>11</th>\n",
       "      <td>4.062040</td>\n",
       "      <td>-0.727385</td>\n",
       "      <td>1</td>\n",
       "      <td>11</td>\n",
       "    </tr>\n",
       "    <tr>\n",
       "      <th>12</th>\n",
       "      <td>3.924071</td>\n",
       "      <td>-2.520983</td>\n",
       "      <td>1</td>\n",
       "      <td>12</td>\n",
       "    </tr>\n",
       "    <tr>\n",
       "      <th>13</th>\n",
       "      <td>3.694123</td>\n",
       "      <td>-3.532756</td>\n",
       "      <td>1</td>\n",
       "      <td>13</td>\n",
       "    </tr>\n",
       "    <tr>\n",
       "      <th>14</th>\n",
       "      <td>2.544380</td>\n",
       "      <td>-4.590519</td>\n",
       "      <td>1</td>\n",
       "      <td>14</td>\n",
       "    </tr>\n",
       "    <tr>\n",
       "      <th>15</th>\n",
       "      <td>0.152916</td>\n",
       "      <td>-5.280365</td>\n",
       "      <td>1</td>\n",
       "      <td>15</td>\n",
       "    </tr>\n",
       "    <tr>\n",
       "      <th>16</th>\n",
       "      <td>-1.548703</td>\n",
       "      <td>-5.464323</td>\n",
       "      <td>1</td>\n",
       "      <td>16</td>\n",
       "    </tr>\n",
       "    <tr>\n",
       "      <th>17</th>\n",
       "      <td>-3.296312</td>\n",
       "      <td>-5.602293</td>\n",
       "      <td>1</td>\n",
       "      <td>17</td>\n",
       "    </tr>\n",
       "    <tr>\n",
       "      <th>18</th>\n",
       "      <td>-4.262095</td>\n",
       "      <td>-4.912447</td>\n",
       "      <td>1</td>\n",
       "      <td>18</td>\n",
       "    </tr>\n",
       "    <tr>\n",
       "      <th>19</th>\n",
       "      <td>-5.687776</td>\n",
       "      <td>-4.130622</td>\n",
       "      <td>1</td>\n",
       "      <td>19</td>\n",
       "    </tr>\n",
       "    <tr>\n",
       "      <th>20</th>\n",
       "      <td>-7.021477</td>\n",
       "      <td>-2.520983</td>\n",
       "      <td>1</td>\n",
       "      <td>20</td>\n",
       "    </tr>\n",
       "    <tr>\n",
       "      <th>21</th>\n",
       "      <td>-7.849292</td>\n",
       "      <td>-0.589415</td>\n",
       "      <td>1</td>\n",
       "      <td>21</td>\n",
       "    </tr>\n",
       "    <tr>\n",
       "      <th>22</th>\n",
       "      <td>1.946514</td>\n",
       "      <td>0.974234</td>\n",
       "      <td>2</td>\n",
       "      <td>0</td>\n",
       "    </tr>\n",
       "    <tr>\n",
       "      <th>23</th>\n",
       "      <td>1.992504</td>\n",
       "      <td>-0.681395</td>\n",
       "      <td>2</td>\n",
       "      <td>1</td>\n",
       "    </tr>\n",
       "    <tr>\n",
       "      <th>24</th>\n",
       "      <td>1.026720</td>\n",
       "      <td>-2.061086</td>\n",
       "      <td>2</td>\n",
       "      <td>2</td>\n",
       "    </tr>\n",
       "    <tr>\n",
       "      <th>25</th>\n",
       "      <td>-1.410734</td>\n",
       "      <td>-1.877127</td>\n",
       "      <td>2</td>\n",
       "      <td>3</td>\n",
       "    </tr>\n",
       "    <tr>\n",
       "      <th>26</th>\n",
       "      <td>-2.744435</td>\n",
       "      <td>-0.543426</td>\n",
       "      <td>2</td>\n",
       "      <td>4</td>\n",
       "    </tr>\n",
       "    <tr>\n",
       "      <th>27</th>\n",
       "      <td>-2.836415</td>\n",
       "      <td>1.894028</td>\n",
       "      <td>2</td>\n",
       "      <td>5</td>\n",
       "    </tr>\n",
       "    <tr>\n",
       "      <th>28</th>\n",
       "      <td>-2.330528</td>\n",
       "      <td>3.227729</td>\n",
       "      <td>2</td>\n",
       "      <td>6</td>\n",
       "    </tr>\n",
       "    <tr>\n",
       "      <th>29</th>\n",
       "      <td>-1.088806</td>\n",
       "      <td>4.101534</td>\n",
       "      <td>2</td>\n",
       "      <td>7</td>\n",
       "    </tr>\n",
       "    <tr>\n",
       "      <th>30</th>\n",
       "      <td>0.106926</td>\n",
       "      <td>4.469451</td>\n",
       "      <td>2</td>\n",
       "      <td>8</td>\n",
       "    </tr>\n",
       "    <tr>\n",
       "      <th>31</th>\n",
       "      <td>1.716565</td>\n",
       "      <td>4.745390</td>\n",
       "      <td>2</td>\n",
       "      <td>9</td>\n",
       "    </tr>\n",
       "    <tr>\n",
       "      <th>32</th>\n",
       "      <td>4.705896</td>\n",
       "      <td>3.687626</td>\n",
       "      <td>2</td>\n",
       "      <td>10</td>\n",
       "    </tr>\n",
       "    <tr>\n",
       "      <th>33</th>\n",
       "      <td>5.441731</td>\n",
       "      <td>3.089760</td>\n",
       "      <td>2</td>\n",
       "      <td>11</td>\n",
       "    </tr>\n",
       "    <tr>\n",
       "      <th>34</th>\n",
       "      <td>6.131577</td>\n",
       "      <td>2.031997</td>\n",
       "      <td>2</td>\n",
       "      <td>12</td>\n",
       "    </tr>\n",
       "    <tr>\n",
       "      <th>35</th>\n",
       "      <td>6.683453</td>\n",
       "      <td>0.652306</td>\n",
       "      <td>2</td>\n",
       "      <td>13</td>\n",
       "    </tr>\n",
       "    <tr>\n",
       "      <th>36</th>\n",
       "      <td>6.959391</td>\n",
       "      <td>-1.233271</td>\n",
       "      <td>2</td>\n",
       "      <td>14</td>\n",
       "    </tr>\n",
       "    <tr>\n",
       "      <th>37</th>\n",
       "      <td>6.959391</td>\n",
       "      <td>-2.199055</td>\n",
       "      <td>2</td>\n",
       "      <td>15</td>\n",
       "    </tr>\n",
       "  </tbody>\n",
       "</table>\n",
       "</div>"
      ],
      "text/plain": [
       "           x         y  arm  id\n",
       "0   1.026720  1.204183    1   0\n",
       "1   1.302658  0.238399    1   1\n",
       "2   1.210679 -0.313477    1   2\n",
       "3   0.934741 -0.773374    1   3\n",
       "4  -0.628909 -0.727385    1   4\n",
       "5  -1.180786  0.054440    1   5\n",
       "6  -0.766878  1.112203    1   6\n",
       "7   0.152916  2.169966    1   7\n",
       "8   1.394638  2.169966    1   8\n",
       "9   2.912298  1.802049    1   9\n",
       "10  3.878081  0.836265    1  10\n",
       "11  4.062040 -0.727385    1  11\n",
       "12  3.924071 -2.520983    1  12\n",
       "13  3.694123 -3.532756    1  13\n",
       "14  2.544380 -4.590519    1  14\n",
       "15  0.152916 -5.280365    1  15\n",
       "16 -1.548703 -5.464323    1  16\n",
       "17 -3.296312 -5.602293    1  17\n",
       "18 -4.262095 -4.912447    1  18\n",
       "19 -5.687776 -4.130622    1  19\n",
       "20 -7.021477 -2.520983    1  20\n",
       "21 -7.849292 -0.589415    1  21\n",
       "22  1.946514  0.974234    2   0\n",
       "23  1.992504 -0.681395    2   1\n",
       "24  1.026720 -2.061086    2   2\n",
       "25 -1.410734 -1.877127    2   3\n",
       "26 -2.744435 -0.543426    2   4\n",
       "27 -2.836415  1.894028    2   5\n",
       "28 -2.330528  3.227729    2   6\n",
       "29 -1.088806  4.101534    2   7\n",
       "30  0.106926  4.469451    2   8\n",
       "31  1.716565  4.745390    2   9\n",
       "32  4.705896  3.687626    2  10\n",
       "33  5.441731  3.089760    2  11\n",
       "34  6.131577  2.031997    2  12\n",
       "35  6.683453  0.652306    2  13\n",
       "36  6.959391 -1.233271    2  14\n",
       "37  6.959391 -2.199055    2  15"
      ]
     },
     "execution_count": 42,
     "metadata": {},
     "output_type": "execute_result"
    }
   ],
   "source": [
    "df_arms"
   ]
  },
  {
   "cell_type": "code",
   "execution_count": 48,
   "metadata": {},
   "outputs": [
    {
     "name": "stdout",
     "output_type": "stream",
     "text": [
      "Warning: '3.9788599527732094.031751695703194.0764528709097544.1235650705372714.1807042037231914.23017599204354954.2782614042112114.3310004266441844.3652943084778014.4348081364430564.4673361252345484.5309835083459474.5762179334839884.6070144456228754.6754875332935974.7560303729174134.808814602392955' no es un valor flotante válido y fue ignorado.\n",
      "Warning: '3.0209795581740124-054.617662749779218-056.800699942885886-057.452475837088583-056.657351839743788-056.479155503254344-056.653150349303122-056.664092705077921-056.476765842424603-055.8498587663892905-054.4336981624099006-055.775780758976523-053.4155793487701334-053.8097804694029365-054.1123955120651595-052.815382537075955-053.165758346057595-05' no es un valor flotante válido y fue ignorado.\n",
      "Warning: '5.0959381831986275.1190487766258515.1932301377420435.2507363221926995.2990708459313415.326808822928645.45328870288859155.5002961597133335.5523248469146885.5644303088963775.6387991007633295.7014372717491625.7486654911305295.8011449998327425.8476840712507955.90603602408715665.9387740236416926.0033765212922286.0538157753195186.10044408959842156.1516707906529616.1994056019082786.2552914498479926.2951215129356816.334483164667784' no es un valor flotante válido y fue ignorado.\n",
      "Warning: '2.0867398429453386-052.7499260462807506-052.8761487521598847-052.9220094951714048-054.149750048585981-054.2247082522625185-053.457229740829243-053.7165833709075776-055.1181420561914595-054.045859469938895-055.101074897306998-055.117757964509424-055.9014541850862425-055.9372842259251086-055.6186000229695556-056.230806256712218-056.144866078109045-056.056564022088377-055.8611120667532984-055.645267010759468-054.977619766749226-055.4528970152074524-053.3338009810183846-051.9985851225799062-052.1440651859367616-05' no es un valor flotante válido y fue ignorado.\n"
     ]
    }
   ],
   "source": [
    "dfs = []\n",
    "for i, arm in enumerate(['arm1','arm2']):\n",
    "    df_fits = pd.read_csv('fit_info/fit_params_rho_{}_adicionales_dani.csv'.format(arm))\n",
    "    df_fits['x'] = df_fits.apply(lambda row: convert_from_listAsAString_to_listOfFloats(row.x), axis = 1)\n",
    "    df_fits['y'] = df_fits.apply(lambda row: convert_from_listAsAString_to_listOfFloats(row.y), axis = 1)\n",
    "    df_fits['arm'] = [i+1]*len(df_fits)\n",
    "    dfs.append(df_fits)"
   ]
  },
  {
   "cell_type": "code",
   "execution_count": 49,
   "metadata": {},
   "outputs": [
    {
     "ename": "ValueError",
     "evalue": "('zero-size array to reduction operation minimum which has no identity', 'occurred at index 0')",
     "output_type": "error",
     "traceback": [
      "\u001b[0;31m---------------------------------------------------------------------------\u001b[0m",
      "\u001b[0;31mValueError\u001b[0m                                Traceback (most recent call last)",
      "\u001b[0;32m<ipython-input-49-821e4bd3789f>\u001b[0m in \u001b[0;36m<module>\u001b[0;34m()\u001b[0m\n\u001b[1;32m      1\u001b[0m \u001b[0mf_fits\u001b[0m \u001b[0;34m=\u001b[0m \u001b[0mpd\u001b[0m\u001b[0;34m.\u001b[0m\u001b[0mconcat\u001b[0m\u001b[0;34m(\u001b[0m\u001b[0mdfs\u001b[0m\u001b[0;34m,\u001b[0m \u001b[0maxis\u001b[0m \u001b[0;34m=\u001b[0m \u001b[0;36m0\u001b[0m\u001b[0;34m)\u001b[0m\u001b[0;34m.\u001b[0m\u001b[0mreset_index\u001b[0m\u001b[0;34m(\u001b[0m\u001b[0mdrop\u001b[0m\u001b[0;34m=\u001b[0m\u001b[0;32mTrue\u001b[0m\u001b[0;34m)\u001b[0m\u001b[0;34m\u001b[0m\u001b[0m\n\u001b[1;32m      2\u001b[0m \u001b[0mdf_fits\u001b[0m\u001b[0;34m[\u001b[0m\u001b[0;34m'r_tracing'\u001b[0m\u001b[0;34m]\u001b[0m \u001b[0;34m=\u001b[0m \u001b[0mnp\u001b[0m\u001b[0;34m.\u001b[0m\u001b[0msqrt\u001b[0m\u001b[0;34m(\u001b[0m\u001b[0mdf_fits\u001b[0m\u001b[0;34m[\u001b[0m\u001b[0;34m'x_tracing'\u001b[0m\u001b[0;34m]\u001b[0m\u001b[0;34m**\u001b[0m\u001b[0;36m2\u001b[0m \u001b[0;34m+\u001b[0m \u001b[0mdf_fits\u001b[0m\u001b[0;34m[\u001b[0m\u001b[0;34m'y_tracing'\u001b[0m\u001b[0;34m]\u001b[0m\u001b[0;34m**\u001b[0m\u001b[0;36m2\u001b[0m\u001b[0;34m)\u001b[0m\u001b[0;34m\u001b[0m\u001b[0m\n\u001b[0;32m----> 3\u001b[0;31m \u001b[0mdf_fits\u001b[0m\u001b[0;34m[\u001b[0m\u001b[0;34m'width_info'\u001b[0m\u001b[0;34m]\u001b[0m \u001b[0;34m=\u001b[0m \u001b[0mdf_fits\u001b[0m\u001b[0;34m.\u001b[0m\u001b[0mapply\u001b[0m\u001b[0;34m(\u001b[0m\u001b[0;32mlambda\u001b[0m \u001b[0mrow\u001b[0m\u001b[0;34m:\u001b[0m \u001b[0mfind_widths_of_skewed_gaussian_dani\u001b[0m\u001b[0;34m(\u001b[0m\u001b[0mrow\u001b[0m\u001b[0;34m)\u001b[0m\u001b[0;34m,\u001b[0m \u001b[0maxis\u001b[0m \u001b[0;34m=\u001b[0m \u001b[0;36m1\u001b[0m\u001b[0;34m)\u001b[0m\u001b[0;34m\u001b[0m\u001b[0m\n\u001b[0m\u001b[1;32m      4\u001b[0m \u001b[0mdf_fits\u001b[0m\u001b[0;34m[\u001b[0m\u001b[0;34m'x_max'\u001b[0m\u001b[0;34m]\u001b[0m \u001b[0;34m=\u001b[0m \u001b[0mdf_fits\u001b[0m\u001b[0;34m.\u001b[0m\u001b[0mapply\u001b[0m\u001b[0;34m(\u001b[0m\u001b[0;32mlambda\u001b[0m \u001b[0mrow\u001b[0m\u001b[0;34m:\u001b[0m \u001b[0mrow\u001b[0m\u001b[0;34m.\u001b[0m\u001b[0mwidth_info\u001b[0m\u001b[0;34m[\u001b[0m\u001b[0;34m'x_max'\u001b[0m\u001b[0;34m]\u001b[0m\u001b[0;34m,\u001b[0m \u001b[0maxis\u001b[0m \u001b[0;34m=\u001b[0m \u001b[0;36m1\u001b[0m\u001b[0;34m)\u001b[0m\u001b[0;34m\u001b[0m\u001b[0m\n\u001b[1;32m      5\u001b[0m \u001b[0mdf_fits\u001b[0m\u001b[0;34m[\u001b[0m\u001b[0;34m'y_max'\u001b[0m\u001b[0;34m]\u001b[0m \u001b[0;34m=\u001b[0m \u001b[0mdf_fits\u001b[0m\u001b[0;34m.\u001b[0m\u001b[0mapply\u001b[0m\u001b[0;34m(\u001b[0m\u001b[0;32mlambda\u001b[0m \u001b[0mrow\u001b[0m\u001b[0;34m:\u001b[0m \u001b[0mrow\u001b[0m\u001b[0;34m.\u001b[0m\u001b[0mwidth_info\u001b[0m\u001b[0;34m[\u001b[0m\u001b[0;34m'y_max'\u001b[0m\u001b[0;34m]\u001b[0m\u001b[0;34m,\u001b[0m \u001b[0maxis\u001b[0m \u001b[0;34m=\u001b[0m \u001b[0;36m1\u001b[0m\u001b[0;34m)\u001b[0m\u001b[0;34m\u001b[0m\u001b[0m\n",
      "\u001b[0;32m~/anaconda3/lib/python3.7/site-packages/pandas/core/frame.py\u001b[0m in \u001b[0;36mapply\u001b[0;34m(self, func, axis, broadcast, raw, reduce, result_type, args, **kwds)\u001b[0m\n\u001b[1;32m   6012\u001b[0m                          \u001b[0margs\u001b[0m\u001b[0;34m=\u001b[0m\u001b[0margs\u001b[0m\u001b[0;34m,\u001b[0m\u001b[0;34m\u001b[0m\u001b[0m\n\u001b[1;32m   6013\u001b[0m                          kwds=kwds)\n\u001b[0;32m-> 6014\u001b[0;31m         \u001b[0;32mreturn\u001b[0m \u001b[0mop\u001b[0m\u001b[0;34m.\u001b[0m\u001b[0mget_result\u001b[0m\u001b[0;34m(\u001b[0m\u001b[0;34m)\u001b[0m\u001b[0;34m\u001b[0m\u001b[0m\n\u001b[0m\u001b[1;32m   6015\u001b[0m \u001b[0;34m\u001b[0m\u001b[0m\n\u001b[1;32m   6016\u001b[0m     \u001b[0;32mdef\u001b[0m \u001b[0mapplymap\u001b[0m\u001b[0;34m(\u001b[0m\u001b[0mself\u001b[0m\u001b[0;34m,\u001b[0m \u001b[0mfunc\u001b[0m\u001b[0;34m)\u001b[0m\u001b[0;34m:\u001b[0m\u001b[0;34m\u001b[0m\u001b[0m\n",
      "\u001b[0;32m~/anaconda3/lib/python3.7/site-packages/pandas/core/apply.py\u001b[0m in \u001b[0;36mget_result\u001b[0;34m(self)\u001b[0m\n\u001b[1;32m    140\u001b[0m             \u001b[0;32mreturn\u001b[0m \u001b[0mself\u001b[0m\u001b[0;34m.\u001b[0m\u001b[0mapply_raw\u001b[0m\u001b[0;34m(\u001b[0m\u001b[0;34m)\u001b[0m\u001b[0;34m\u001b[0m\u001b[0m\n\u001b[1;32m    141\u001b[0m \u001b[0;34m\u001b[0m\u001b[0m\n\u001b[0;32m--> 142\u001b[0;31m         \u001b[0;32mreturn\u001b[0m \u001b[0mself\u001b[0m\u001b[0;34m.\u001b[0m\u001b[0mapply_standard\u001b[0m\u001b[0;34m(\u001b[0m\u001b[0;34m)\u001b[0m\u001b[0;34m\u001b[0m\u001b[0m\n\u001b[0m\u001b[1;32m    143\u001b[0m \u001b[0;34m\u001b[0m\u001b[0m\n\u001b[1;32m    144\u001b[0m     \u001b[0;32mdef\u001b[0m \u001b[0mapply_empty_result\u001b[0m\u001b[0;34m(\u001b[0m\u001b[0mself\u001b[0m\u001b[0;34m)\u001b[0m\u001b[0;34m:\u001b[0m\u001b[0;34m\u001b[0m\u001b[0m\n",
      "\u001b[0;32m~/anaconda3/lib/python3.7/site-packages/pandas/core/apply.py\u001b[0m in \u001b[0;36mapply_standard\u001b[0;34m(self)\u001b[0m\n\u001b[1;32m    246\u001b[0m \u001b[0;34m\u001b[0m\u001b[0m\n\u001b[1;32m    247\u001b[0m         \u001b[0;31m# compute the result using the series generator\u001b[0m\u001b[0;34m\u001b[0m\u001b[0;34m\u001b[0m\u001b[0m\n\u001b[0;32m--> 248\u001b[0;31m         \u001b[0mself\u001b[0m\u001b[0;34m.\u001b[0m\u001b[0mapply_series_generator\u001b[0m\u001b[0;34m(\u001b[0m\u001b[0;34m)\u001b[0m\u001b[0;34m\u001b[0m\u001b[0m\n\u001b[0m\u001b[1;32m    249\u001b[0m \u001b[0;34m\u001b[0m\u001b[0m\n\u001b[1;32m    250\u001b[0m         \u001b[0;31m# wrap results\u001b[0m\u001b[0;34m\u001b[0m\u001b[0;34m\u001b[0m\u001b[0m\n",
      "\u001b[0;32m~/anaconda3/lib/python3.7/site-packages/pandas/core/apply.py\u001b[0m in \u001b[0;36mapply_series_generator\u001b[0;34m(self)\u001b[0m\n\u001b[1;32m    275\u001b[0m             \u001b[0;32mtry\u001b[0m\u001b[0;34m:\u001b[0m\u001b[0;34m\u001b[0m\u001b[0m\n\u001b[1;32m    276\u001b[0m                 \u001b[0;32mfor\u001b[0m \u001b[0mi\u001b[0m\u001b[0;34m,\u001b[0m \u001b[0mv\u001b[0m \u001b[0;32min\u001b[0m \u001b[0menumerate\u001b[0m\u001b[0;34m(\u001b[0m\u001b[0mseries_gen\u001b[0m\u001b[0;34m)\u001b[0m\u001b[0;34m:\u001b[0m\u001b[0;34m\u001b[0m\u001b[0m\n\u001b[0;32m--> 277\u001b[0;31m                     \u001b[0mresults\u001b[0m\u001b[0;34m[\u001b[0m\u001b[0mi\u001b[0m\u001b[0;34m]\u001b[0m \u001b[0;34m=\u001b[0m \u001b[0mself\u001b[0m\u001b[0;34m.\u001b[0m\u001b[0mf\u001b[0m\u001b[0;34m(\u001b[0m\u001b[0mv\u001b[0m\u001b[0;34m)\u001b[0m\u001b[0;34m\u001b[0m\u001b[0m\n\u001b[0m\u001b[1;32m    278\u001b[0m                     \u001b[0mkeys\u001b[0m\u001b[0;34m.\u001b[0m\u001b[0mappend\u001b[0m\u001b[0;34m(\u001b[0m\u001b[0mv\u001b[0m\u001b[0;34m.\u001b[0m\u001b[0mname\u001b[0m\u001b[0;34m)\u001b[0m\u001b[0;34m\u001b[0m\u001b[0m\n\u001b[1;32m    279\u001b[0m             \u001b[0;32mexcept\u001b[0m \u001b[0mException\u001b[0m \u001b[0;32mas\u001b[0m \u001b[0me\u001b[0m\u001b[0;34m:\u001b[0m\u001b[0;34m\u001b[0m\u001b[0m\n",
      "\u001b[0;32m<ipython-input-49-821e4bd3789f>\u001b[0m in \u001b[0;36m<lambda>\u001b[0;34m(row)\u001b[0m\n\u001b[1;32m      1\u001b[0m \u001b[0mf_fits\u001b[0m \u001b[0;34m=\u001b[0m \u001b[0mpd\u001b[0m\u001b[0;34m.\u001b[0m\u001b[0mconcat\u001b[0m\u001b[0;34m(\u001b[0m\u001b[0mdfs\u001b[0m\u001b[0;34m,\u001b[0m \u001b[0maxis\u001b[0m \u001b[0;34m=\u001b[0m \u001b[0;36m0\u001b[0m\u001b[0;34m)\u001b[0m\u001b[0;34m.\u001b[0m\u001b[0mreset_index\u001b[0m\u001b[0;34m(\u001b[0m\u001b[0mdrop\u001b[0m\u001b[0;34m=\u001b[0m\u001b[0;32mTrue\u001b[0m\u001b[0;34m)\u001b[0m\u001b[0;34m\u001b[0m\u001b[0m\n\u001b[1;32m      2\u001b[0m \u001b[0mdf_fits\u001b[0m\u001b[0;34m[\u001b[0m\u001b[0;34m'r_tracing'\u001b[0m\u001b[0;34m]\u001b[0m \u001b[0;34m=\u001b[0m \u001b[0mnp\u001b[0m\u001b[0;34m.\u001b[0m\u001b[0msqrt\u001b[0m\u001b[0;34m(\u001b[0m\u001b[0mdf_fits\u001b[0m\u001b[0;34m[\u001b[0m\u001b[0;34m'x_tracing'\u001b[0m\u001b[0;34m]\u001b[0m\u001b[0;34m**\u001b[0m\u001b[0;36m2\u001b[0m \u001b[0;34m+\u001b[0m \u001b[0mdf_fits\u001b[0m\u001b[0;34m[\u001b[0m\u001b[0;34m'y_tracing'\u001b[0m\u001b[0;34m]\u001b[0m\u001b[0;34m**\u001b[0m\u001b[0;36m2\u001b[0m\u001b[0;34m)\u001b[0m\u001b[0;34m\u001b[0m\u001b[0m\n\u001b[0;32m----> 3\u001b[0;31m \u001b[0mdf_fits\u001b[0m\u001b[0;34m[\u001b[0m\u001b[0;34m'width_info'\u001b[0m\u001b[0;34m]\u001b[0m \u001b[0;34m=\u001b[0m \u001b[0mdf_fits\u001b[0m\u001b[0;34m.\u001b[0m\u001b[0mapply\u001b[0m\u001b[0;34m(\u001b[0m\u001b[0;32mlambda\u001b[0m \u001b[0mrow\u001b[0m\u001b[0;34m:\u001b[0m \u001b[0mfind_widths_of_skewed_gaussian_dani\u001b[0m\u001b[0;34m(\u001b[0m\u001b[0mrow\u001b[0m\u001b[0;34m)\u001b[0m\u001b[0;34m,\u001b[0m \u001b[0maxis\u001b[0m \u001b[0;34m=\u001b[0m \u001b[0;36m1\u001b[0m\u001b[0;34m)\u001b[0m\u001b[0;34m\u001b[0m\u001b[0m\n\u001b[0m\u001b[1;32m      4\u001b[0m \u001b[0mdf_fits\u001b[0m\u001b[0;34m[\u001b[0m\u001b[0;34m'x_max'\u001b[0m\u001b[0;34m]\u001b[0m \u001b[0;34m=\u001b[0m \u001b[0mdf_fits\u001b[0m\u001b[0;34m.\u001b[0m\u001b[0mapply\u001b[0m\u001b[0;34m(\u001b[0m\u001b[0;32mlambda\u001b[0m \u001b[0mrow\u001b[0m\u001b[0;34m:\u001b[0m \u001b[0mrow\u001b[0m\u001b[0;34m.\u001b[0m\u001b[0mwidth_info\u001b[0m\u001b[0;34m[\u001b[0m\u001b[0;34m'x_max'\u001b[0m\u001b[0;34m]\u001b[0m\u001b[0;34m,\u001b[0m \u001b[0maxis\u001b[0m \u001b[0;34m=\u001b[0m \u001b[0;36m1\u001b[0m\u001b[0;34m)\u001b[0m\u001b[0;34m\u001b[0m\u001b[0m\n\u001b[1;32m      5\u001b[0m \u001b[0mdf_fits\u001b[0m\u001b[0;34m[\u001b[0m\u001b[0;34m'y_max'\u001b[0m\u001b[0;34m]\u001b[0m \u001b[0;34m=\u001b[0m \u001b[0mdf_fits\u001b[0m\u001b[0;34m.\u001b[0m\u001b[0mapply\u001b[0m\u001b[0;34m(\u001b[0m\u001b[0;32mlambda\u001b[0m \u001b[0mrow\u001b[0m\u001b[0;34m:\u001b[0m \u001b[0mrow\u001b[0m\u001b[0;34m.\u001b[0m\u001b[0mwidth_info\u001b[0m\u001b[0;34m[\u001b[0m\u001b[0;34m'y_max'\u001b[0m\u001b[0;34m]\u001b[0m\u001b[0;34m,\u001b[0m \u001b[0maxis\u001b[0m \u001b[0;34m=\u001b[0m \u001b[0;36m1\u001b[0m\u001b[0;34m)\u001b[0m\u001b[0;34m\u001b[0m\u001b[0m\n",
      "\u001b[0;32m<ipython-input-44-2d52ce1fe983>\u001b[0m in \u001b[0;36mfind_widths_of_skewed_gaussian_dani\u001b[0;34m(params, dx)\u001b[0m\n\u001b[1;32m      1\u001b[0m \u001b[0;32mdef\u001b[0m \u001b[0mfind_widths_of_skewed_gaussian_dani\u001b[0m\u001b[0;34m(\u001b[0m\u001b[0mparams\u001b[0m\u001b[0;34m,\u001b[0m \u001b[0mdx\u001b[0m\u001b[0;34m=\u001b[0m\u001b[0;36m0.001\u001b[0m\u001b[0;34m)\u001b[0m\u001b[0;34m:\u001b[0m\u001b[0;34m\u001b[0m\u001b[0m\n\u001b[1;32m      2\u001b[0m     \u001b[0;31m# Evaluar el modelo ajustado\u001b[0m\u001b[0;34m\u001b[0m\u001b[0;34m\u001b[0m\u001b[0m\n\u001b[0;32m----> 3\u001b[0;31m     \u001b[0mfitted_model\u001b[0m \u001b[0;34m=\u001b[0m \u001b[0meval_fitted_model_with_given_params\u001b[0m\u001b[0;34m(\u001b[0m\u001b[0mparams\u001b[0m\u001b[0;34m,\u001b[0m \u001b[0mdx\u001b[0m\u001b[0;34m=\u001b[0m\u001b[0mdx\u001b[0m\u001b[0;34m)\u001b[0m\u001b[0;34m\u001b[0m\u001b[0m\n\u001b[0m\u001b[1;32m      4\u001b[0m     \u001b[0mx_eval\u001b[0m \u001b[0;34m=\u001b[0m \u001b[0mfitted_model\u001b[0m\u001b[0;34m[\u001b[0m\u001b[0;34m'x_eval'\u001b[0m\u001b[0;34m]\u001b[0m\u001b[0;34m\u001b[0m\u001b[0m\n\u001b[1;32m      5\u001b[0m     \u001b[0my_eval\u001b[0m \u001b[0;34m=\u001b[0m \u001b[0mfitted_model\u001b[0m\u001b[0;34m[\u001b[0m\u001b[0;34m'y_eval'\u001b[0m\u001b[0;34m]\u001b[0m\u001b[0;34m\u001b[0m\u001b[0m\n",
      "\u001b[0;32m~/Documentos/UdeA/programas_finales/Routines_and_data/gauss_asym.py\u001b[0m in \u001b[0;36meval_fitted_model_with_given_params\u001b[0;34m(params, dx)\u001b[0m\n\u001b[1;32m    188\u001b[0m                                                     gamma = gamma)\n\u001b[1;32m    189\u001b[0m \u001b[0;34m\u001b[0m\u001b[0m\n\u001b[0;32m--> 190\u001b[0;31m     \u001b[0mx_eval\u001b[0m \u001b[0;34m=\u001b[0m \u001b[0mnp\u001b[0m\u001b[0;34m.\u001b[0m\u001b[0marange\u001b[0m\u001b[0;34m(\u001b[0m\u001b[0mnp\u001b[0m\u001b[0;34m.\u001b[0m\u001b[0mmin\u001b[0m\u001b[0;34m(\u001b[0m\u001b[0mx\u001b[0m\u001b[0;34m)\u001b[0m\u001b[0;34m-\u001b[0m\u001b[0;36m2\u001b[0m\u001b[0;34m,\u001b[0m \u001b[0mnp\u001b[0m\u001b[0;34m.\u001b[0m\u001b[0mmax\u001b[0m\u001b[0;34m(\u001b[0m\u001b[0mx\u001b[0m\u001b[0;34m)\u001b[0m\u001b[0;34m+\u001b[0m\u001b[0;36m2\u001b[0m\u001b[0;34m,\u001b[0m \u001b[0mdx\u001b[0m\u001b[0;34m)\u001b[0m\u001b[0;34m\u001b[0m\u001b[0m\n\u001b[0m\u001b[1;32m    191\u001b[0m     model_analytical_eval = model_analytical.eval(params = params_analytical,\n\u001b[1;32m    192\u001b[0m                                                 x = x_eval)\n",
      "\u001b[0;32m<__array_function__ internals>\u001b[0m in \u001b[0;36mamin\u001b[0;34m(*args, **kwargs)\u001b[0m\n",
      "\u001b[0;32m~/anaconda3/lib/python3.7/site-packages/numpy/core/fromnumeric.py\u001b[0m in \u001b[0;36mamin\u001b[0;34m(a, axis, out, keepdims, initial, where)\u001b[0m\n\u001b[1;32m   2878\u001b[0m     \"\"\"\n\u001b[1;32m   2879\u001b[0m     return _wrapreduction(a, np.minimum, 'min', axis, None, out,\n\u001b[0;32m-> 2880\u001b[0;31m                           keepdims=keepdims, initial=initial, where=where)\n\u001b[0m\u001b[1;32m   2881\u001b[0m \u001b[0;34m\u001b[0m\u001b[0m\n\u001b[1;32m   2882\u001b[0m \u001b[0;34m\u001b[0m\u001b[0m\n",
      "\u001b[0;32m~/anaconda3/lib/python3.7/site-packages/numpy/core/fromnumeric.py\u001b[0m in \u001b[0;36m_wrapreduction\u001b[0;34m(obj, ufunc, method, axis, dtype, out, **kwargs)\u001b[0m\n\u001b[1;32m     84\u001b[0m                 \u001b[0;32mreturn\u001b[0m \u001b[0mreduction\u001b[0m\u001b[0;34m(\u001b[0m\u001b[0maxis\u001b[0m\u001b[0;34m=\u001b[0m\u001b[0maxis\u001b[0m\u001b[0;34m,\u001b[0m \u001b[0mout\u001b[0m\u001b[0;34m=\u001b[0m\u001b[0mout\u001b[0m\u001b[0;34m,\u001b[0m \u001b[0;34m**\u001b[0m\u001b[0mpasskwargs\u001b[0m\u001b[0;34m)\u001b[0m\u001b[0;34m\u001b[0m\u001b[0m\n\u001b[1;32m     85\u001b[0m \u001b[0;34m\u001b[0m\u001b[0m\n\u001b[0;32m---> 86\u001b[0;31m     \u001b[0;32mreturn\u001b[0m \u001b[0mufunc\u001b[0m\u001b[0;34m.\u001b[0m\u001b[0mreduce\u001b[0m\u001b[0;34m(\u001b[0m\u001b[0mobj\u001b[0m\u001b[0;34m,\u001b[0m \u001b[0maxis\u001b[0m\u001b[0;34m,\u001b[0m \u001b[0mdtype\u001b[0m\u001b[0;34m,\u001b[0m \u001b[0mout\u001b[0m\u001b[0;34m,\u001b[0m \u001b[0;34m**\u001b[0m\u001b[0mpasskwargs\u001b[0m\u001b[0;34m)\u001b[0m\u001b[0;34m\u001b[0m\u001b[0m\n\u001b[0m\u001b[1;32m     87\u001b[0m \u001b[0;34m\u001b[0m\u001b[0m\n\u001b[1;32m     88\u001b[0m \u001b[0;34m\u001b[0m\u001b[0m\n",
      "\u001b[0;31mValueError\u001b[0m: ('zero-size array to reduction operation minimum which has no identity', 'occurred at index 0')"
     ]
    }
   ],
   "source": [
    "f_fits = pd.concat(dfs, axis = 0).reset_index(drop=True)\n",
    "df_fits['r_tracing'] = np.sqrt(df_fits['x_tracing']**2 + df_fits['y_tracing']**2)\n",
    "df_fits['width_info'] = df_fits.apply(lambda row: find_widths_of_skewed_gaussian_dani(row), axis = 1)\n",
    "df_fits['x_max'] = df_fits.apply(lambda row: row.width_info['x_max'], axis = 1)\n",
    "df_fits['y_max'] = df_fits.apply(lambda row: row.width_info['y_max'], axis = 1)\n",
    "df_fits['w1'] = df_fits.apply(lambda row: row.width_info['w1'], axis = 1)\n",
    "df_fits['w2'] = df_fits.apply(lambda row: row.width_info['w2'], axis = 1)"
   ]
  },
  {
   "cell_type": "code",
   "execution_count": 54,
   "metadata": {},
   "outputs": [
    {
     "data": {
      "text/html": [
       "<div>\n",
       "<style scoped>\n",
       "    .dataframe tbody tr th:only-of-type {\n",
       "        vertical-align: middle;\n",
       "    }\n",
       "\n",
       "    .dataframe tbody tr th {\n",
       "        vertical-align: top;\n",
       "    }\n",
       "\n",
       "    .dataframe thead th {\n",
       "        text-align: right;\n",
       "    }\n",
       "</style>\n",
       "<table border=\"1\" class=\"dataframe\">\n",
       "  <thead>\n",
       "    <tr style=\"text-align: right;\">\n",
       "      <th></th>\n",
       "      <th>amplitude</th>\n",
       "      <th>center</th>\n",
       "      <th>delta</th>\n",
       "      <th>fractured</th>\n",
       "      <th>gamma</th>\n",
       "      <th>id_tracing</th>\n",
       "      <th>sigma</th>\n",
       "      <th>stderr_amplitude</th>\n",
       "      <th>stderr_center</th>\n",
       "      <th>stderr_gamma</th>\n",
       "      <th>stderr_sigma</th>\n",
       "      <th>x</th>\n",
       "      <th>x_tracing</th>\n",
       "      <th>y</th>\n",
       "      <th>y_tracing</th>\n",
       "      <th>arm</th>\n",
       "      <th>r_tracing</th>\n",
       "    </tr>\n",
       "  </thead>\n",
       "  <tbody>\n",
       "    <tr>\n",
       "      <th>0</th>\n",
       "      <td>0.000053</td>\n",
       "      <td>3.999801</td>\n",
       "      <td>0.05</td>\n",
       "      <td>False</td>\n",
       "      <td>8.627322</td>\n",
       "      <td>11.0</td>\n",
       "      <td>0.567687</td>\n",
       "      <td>0.000003</td>\n",
       "      <td>0.010485</td>\n",
       "      <td>2.699845</td>\n",
       "      <td>0.040324</td>\n",
       "      <td>[]</td>\n",
       "      <td>4.062040</td>\n",
       "      <td>[]</td>\n",
       "      <td>-0.727385</td>\n",
       "      <td>1</td>\n",
       "      <td>4.126652</td>\n",
       "    </tr>\n",
       "    <tr>\n",
       "      <th>1</th>\n",
       "      <td>0.000069</td>\n",
       "      <td>6.262372</td>\n",
       "      <td>0.05</td>\n",
       "      <td>False</td>\n",
       "      <td>-6.766237</td>\n",
       "      <td>10.0</td>\n",
       "      <td>0.838236</td>\n",
       "      <td>0.000003</td>\n",
       "      <td>0.012504</td>\n",
       "      <td>1.430586</td>\n",
       "      <td>0.047692</td>\n",
       "      <td>[]</td>\n",
       "      <td>4.705896</td>\n",
       "      <td>[]</td>\n",
       "      <td>3.687626</td>\n",
       "      <td>2</td>\n",
       "      <td>5.978632</td>\n",
       "    </tr>\n",
       "  </tbody>\n",
       "</table>\n",
       "</div>"
      ],
      "text/plain": [
       "   amplitude    center  delta  fractured     gamma  id_tracing     sigma  \\\n",
       "0   0.000053  3.999801   0.05      False  8.627322        11.0  0.567687   \n",
       "1   0.000069  6.262372   0.05      False -6.766237        10.0  0.838236   \n",
       "\n",
       "   stderr_amplitude  stderr_center  stderr_gamma  stderr_sigma   x  x_tracing  \\\n",
       "0          0.000003       0.010485      2.699845      0.040324  []   4.062040   \n",
       "1          0.000003       0.012504      1.430586      0.047692  []   4.705896   \n",
       "\n",
       "    y  y_tracing  arm  r_tracing  \n",
       "0  []  -0.727385    1   4.126652  \n",
       "1  []   3.687626    2   5.978632  "
      ]
     },
     "execution_count": 54,
     "metadata": {},
     "output_type": "execute_result"
    }
   ],
   "source": [
    " df_fits"
   ]
  },
  {
   "cell_type": "code",
   "execution_count": null,
   "metadata": {},
   "outputs": [],
   "source": []
  },
  {
   "cell_type": "code",
   "execution_count": 50,
   "metadata": {},
   "outputs": [
    {
     "name": "stdout",
     "output_type": "stream",
     "text": [
      "Warning: '3.9788599527732094.031751695703194.0764528709097544.1235650705372714.1807042037231914.23017599204354954.2782614042112114.3310004266441844.3652943084778014.4348081364430564.4673361252345484.5309835083459474.5762179334839884.6070144456228754.6754875332935974.7560303729174134.808814602392955' no es un valor flotante válido y fue ignorado.\n",
      "Warning: '3.0209795581740124-054.617662749779218-056.800699942885886-057.452475837088583-056.657351839743788-056.479155503254344-056.653150349303122-056.664092705077921-056.476765842424603-055.8498587663892905-054.4336981624099006-055.775780758976523-053.4155793487701334-053.8097804694029365-054.1123955120651595-052.815382537075955-053.165758346057595-05' no es un valor flotante válido y fue ignorado.\n",
      "Warning: '5.0959381831986275.1190487766258515.1932301377420435.2507363221926995.2990708459313415.326808822928645.45328870288859155.5002961597133335.5523248469146885.5644303088963775.6387991007633295.7014372717491625.7486654911305295.8011449998327425.8476840712507955.90603602408715665.9387740236416926.0033765212922286.0538157753195186.10044408959842156.1516707906529616.1994056019082786.2552914498479926.2951215129356816.334483164667784' no es un valor flotante válido y fue ignorado.\n",
      "Warning: '2.0867398429453386-052.7499260462807506-052.8761487521598847-052.9220094951714048-054.149750048585981-054.2247082522625185-053.457229740829243-053.7165833709075776-055.1181420561914595-054.045859469938895-055.101074897306998-055.117757964509424-055.9014541850862425-055.9372842259251086-055.6186000229695556-056.230806256712218-056.144866078109045-056.056564022088377-055.8611120667532984-055.645267010759468-054.977619766749226-055.4528970152074524-053.3338009810183846-051.9985851225799062-052.1440651859367616-05' no es un valor flotante válido y fue ignorado.\n"
     ]
    }
   ],
   "source": [
    "import re\n",
    "\n",
    "def convert_from_listAsAString_to_listOfFloats(string):\n",
    "    # Limpia el string para eliminar cualquier caracter no numérico válido.\n",
    "    string_clean = re.sub(r'[^\\d.\\n-]', '', string)  # Elimina todo excepto dígitos, puntos decimales, saltos de línea y guiones.\n",
    "    \n",
    "    # Divide la cadena en líneas y convierte a flotantes, filtrando los valores inválidos.\n",
    "    splitted = string_clean.strip().split('\\\\n')\n",
    "    listOfFloats = []\n",
    "    for s in splitted:\n",
    "        try:\n",
    "            listOfFloats.append(float(s))\n",
    "        except ValueError:\n",
    "            print(f\"Warning: '{s}' no es un valor flotante válido y fue ignorado.\")\n",
    "    return listOfFloats\n",
    "\n",
    "# Aplicar la función en las columnas 'x' y 'y'\n",
    "dfs = []\n",
    "for i, arm in enumerate(['arm1', 'arm2']):\n",
    "    df_fits = pd.read_csv('fit_info/fit_params_rho_{}_adicionales_dani.csv'.format(arm))\n",
    "    \n",
    "    # Aplicar la limpieza y conversión en las columnas 'x' y 'y'\n",
    "    df_fits['x'] = df_fits.apply(lambda row: convert_from_listAsAString_to_listOfFloats(row.x), axis=1)\n",
    "    df_fits['y'] = df_fits.apply(lambda row: convert_from_listAsAString_to_listOfFloats(row.y), axis=1)\n",
    "    \n",
    "    # Añadir la columna 'arm'\n",
    "    df_fits['arm'] = [i+1] * len(df_fits)\n",
    "    \n",
    "    dfs.append(df_fits)\n",
    "\n"
   ]
  },
  {
   "cell_type": "code",
   "execution_count": 51,
   "metadata": {},
   "outputs": [
    {
     "ename": "ValueError",
     "evalue": "('zero-size array to reduction operation minimum which has no identity', 'occurred at index 0')",
     "output_type": "error",
     "traceback": [
      "\u001b[0;31m---------------------------------------------------------------------------\u001b[0m",
      "\u001b[0;31mValueError\u001b[0m                                Traceback (most recent call last)",
      "\u001b[0;32m<ipython-input-51-2d52ce1fe983>\u001b[0m in \u001b[0;36m<module>\u001b[0;34m()\u001b[0m\n\u001b[1;32m     40\u001b[0m \u001b[0mdf_fits\u001b[0m \u001b[0;34m=\u001b[0m \u001b[0mpd\u001b[0m\u001b[0;34m.\u001b[0m\u001b[0mconcat\u001b[0m\u001b[0;34m(\u001b[0m\u001b[0mdfs\u001b[0m\u001b[0;34m,\u001b[0m \u001b[0maxis\u001b[0m \u001b[0;34m=\u001b[0m \u001b[0;36m0\u001b[0m\u001b[0;34m)\u001b[0m\u001b[0;34m.\u001b[0m\u001b[0mreset_index\u001b[0m\u001b[0;34m(\u001b[0m\u001b[0mdrop\u001b[0m\u001b[0;34m=\u001b[0m\u001b[0;32mTrue\u001b[0m\u001b[0;34m)\u001b[0m\u001b[0;34m\u001b[0m\u001b[0m\n\u001b[1;32m     41\u001b[0m \u001b[0mdf_fits\u001b[0m\u001b[0;34m[\u001b[0m\u001b[0;34m'r_tracing'\u001b[0m\u001b[0;34m]\u001b[0m \u001b[0;34m=\u001b[0m \u001b[0mnp\u001b[0m\u001b[0;34m.\u001b[0m\u001b[0msqrt\u001b[0m\u001b[0;34m(\u001b[0m\u001b[0mdf_fits\u001b[0m\u001b[0;34m[\u001b[0m\u001b[0;34m'x_tracing'\u001b[0m\u001b[0;34m]\u001b[0m\u001b[0;34m**\u001b[0m\u001b[0;36m2\u001b[0m \u001b[0;34m+\u001b[0m \u001b[0mdf_fits\u001b[0m\u001b[0;34m[\u001b[0m\u001b[0;34m'y_tracing'\u001b[0m\u001b[0;34m]\u001b[0m\u001b[0;34m**\u001b[0m\u001b[0;36m2\u001b[0m\u001b[0;34m)\u001b[0m\u001b[0;34m\u001b[0m\u001b[0m\n\u001b[0;32m---> 42\u001b[0;31m \u001b[0mdf_fits\u001b[0m\u001b[0;34m[\u001b[0m\u001b[0;34m'width_info'\u001b[0m\u001b[0;34m]\u001b[0m \u001b[0;34m=\u001b[0m \u001b[0mdf_fits\u001b[0m\u001b[0;34m.\u001b[0m\u001b[0mapply\u001b[0m\u001b[0;34m(\u001b[0m\u001b[0;32mlambda\u001b[0m \u001b[0mrow\u001b[0m\u001b[0;34m:\u001b[0m \u001b[0mfind_widths_of_skewed_gaussian_dani\u001b[0m\u001b[0;34m(\u001b[0m\u001b[0mrow\u001b[0m\u001b[0;34m)\u001b[0m\u001b[0;34m,\u001b[0m \u001b[0maxis\u001b[0m \u001b[0;34m=\u001b[0m \u001b[0;36m1\u001b[0m\u001b[0;34m)\u001b[0m\u001b[0;34m\u001b[0m\u001b[0m\n\u001b[0m\u001b[1;32m     43\u001b[0m \u001b[0mdf_fits\u001b[0m\u001b[0;34m[\u001b[0m\u001b[0;34m'x_max'\u001b[0m\u001b[0;34m]\u001b[0m \u001b[0;34m=\u001b[0m \u001b[0mdf_fits\u001b[0m\u001b[0;34m.\u001b[0m\u001b[0mapply\u001b[0m\u001b[0;34m(\u001b[0m\u001b[0;32mlambda\u001b[0m \u001b[0mrow\u001b[0m\u001b[0;34m:\u001b[0m \u001b[0mrow\u001b[0m\u001b[0;34m.\u001b[0m\u001b[0mwidth_info\u001b[0m\u001b[0;34m[\u001b[0m\u001b[0;34m'x_max'\u001b[0m\u001b[0;34m]\u001b[0m\u001b[0;34m,\u001b[0m \u001b[0maxis\u001b[0m \u001b[0;34m=\u001b[0m \u001b[0;36m1\u001b[0m\u001b[0;34m)\u001b[0m\u001b[0;34m\u001b[0m\u001b[0m\n\u001b[1;32m     44\u001b[0m \u001b[0mdf_fits\u001b[0m\u001b[0;34m[\u001b[0m\u001b[0;34m'y_max'\u001b[0m\u001b[0;34m]\u001b[0m \u001b[0;34m=\u001b[0m \u001b[0mdf_fits\u001b[0m\u001b[0;34m.\u001b[0m\u001b[0mapply\u001b[0m\u001b[0;34m(\u001b[0m\u001b[0;32mlambda\u001b[0m \u001b[0mrow\u001b[0m\u001b[0;34m:\u001b[0m \u001b[0mrow\u001b[0m\u001b[0;34m.\u001b[0m\u001b[0mwidth_info\u001b[0m\u001b[0;34m[\u001b[0m\u001b[0;34m'y_max'\u001b[0m\u001b[0;34m]\u001b[0m\u001b[0;34m,\u001b[0m \u001b[0maxis\u001b[0m \u001b[0;34m=\u001b[0m \u001b[0;36m1\u001b[0m\u001b[0;34m)\u001b[0m\u001b[0;34m\u001b[0m\u001b[0m\n",
      "\u001b[0;32m~/anaconda3/lib/python3.7/site-packages/pandas/core/frame.py\u001b[0m in \u001b[0;36mapply\u001b[0;34m(self, func, axis, broadcast, raw, reduce, result_type, args, **kwds)\u001b[0m\n\u001b[1;32m   6012\u001b[0m                          \u001b[0margs\u001b[0m\u001b[0;34m=\u001b[0m\u001b[0margs\u001b[0m\u001b[0;34m,\u001b[0m\u001b[0;34m\u001b[0m\u001b[0m\n\u001b[1;32m   6013\u001b[0m                          kwds=kwds)\n\u001b[0;32m-> 6014\u001b[0;31m         \u001b[0;32mreturn\u001b[0m \u001b[0mop\u001b[0m\u001b[0;34m.\u001b[0m\u001b[0mget_result\u001b[0m\u001b[0;34m(\u001b[0m\u001b[0;34m)\u001b[0m\u001b[0;34m\u001b[0m\u001b[0m\n\u001b[0m\u001b[1;32m   6015\u001b[0m \u001b[0;34m\u001b[0m\u001b[0m\n\u001b[1;32m   6016\u001b[0m     \u001b[0;32mdef\u001b[0m \u001b[0mapplymap\u001b[0m\u001b[0;34m(\u001b[0m\u001b[0mself\u001b[0m\u001b[0;34m,\u001b[0m \u001b[0mfunc\u001b[0m\u001b[0;34m)\u001b[0m\u001b[0;34m:\u001b[0m\u001b[0;34m\u001b[0m\u001b[0m\n",
      "\u001b[0;32m~/anaconda3/lib/python3.7/site-packages/pandas/core/apply.py\u001b[0m in \u001b[0;36mget_result\u001b[0;34m(self)\u001b[0m\n\u001b[1;32m    140\u001b[0m             \u001b[0;32mreturn\u001b[0m \u001b[0mself\u001b[0m\u001b[0;34m.\u001b[0m\u001b[0mapply_raw\u001b[0m\u001b[0;34m(\u001b[0m\u001b[0;34m)\u001b[0m\u001b[0;34m\u001b[0m\u001b[0m\n\u001b[1;32m    141\u001b[0m \u001b[0;34m\u001b[0m\u001b[0m\n\u001b[0;32m--> 142\u001b[0;31m         \u001b[0;32mreturn\u001b[0m \u001b[0mself\u001b[0m\u001b[0;34m.\u001b[0m\u001b[0mapply_standard\u001b[0m\u001b[0;34m(\u001b[0m\u001b[0;34m)\u001b[0m\u001b[0;34m\u001b[0m\u001b[0m\n\u001b[0m\u001b[1;32m    143\u001b[0m \u001b[0;34m\u001b[0m\u001b[0m\n\u001b[1;32m    144\u001b[0m     \u001b[0;32mdef\u001b[0m \u001b[0mapply_empty_result\u001b[0m\u001b[0;34m(\u001b[0m\u001b[0mself\u001b[0m\u001b[0;34m)\u001b[0m\u001b[0;34m:\u001b[0m\u001b[0;34m\u001b[0m\u001b[0m\n",
      "\u001b[0;32m~/anaconda3/lib/python3.7/site-packages/pandas/core/apply.py\u001b[0m in \u001b[0;36mapply_standard\u001b[0;34m(self)\u001b[0m\n\u001b[1;32m    246\u001b[0m \u001b[0;34m\u001b[0m\u001b[0m\n\u001b[1;32m    247\u001b[0m         \u001b[0;31m# compute the result using the series generator\u001b[0m\u001b[0;34m\u001b[0m\u001b[0;34m\u001b[0m\u001b[0m\n\u001b[0;32m--> 248\u001b[0;31m         \u001b[0mself\u001b[0m\u001b[0;34m.\u001b[0m\u001b[0mapply_series_generator\u001b[0m\u001b[0;34m(\u001b[0m\u001b[0;34m)\u001b[0m\u001b[0;34m\u001b[0m\u001b[0m\n\u001b[0m\u001b[1;32m    249\u001b[0m \u001b[0;34m\u001b[0m\u001b[0m\n\u001b[1;32m    250\u001b[0m         \u001b[0;31m# wrap results\u001b[0m\u001b[0;34m\u001b[0m\u001b[0;34m\u001b[0m\u001b[0m\n",
      "\u001b[0;32m~/anaconda3/lib/python3.7/site-packages/pandas/core/apply.py\u001b[0m in \u001b[0;36mapply_series_generator\u001b[0;34m(self)\u001b[0m\n\u001b[1;32m    275\u001b[0m             \u001b[0;32mtry\u001b[0m\u001b[0;34m:\u001b[0m\u001b[0;34m\u001b[0m\u001b[0m\n\u001b[1;32m    276\u001b[0m                 \u001b[0;32mfor\u001b[0m \u001b[0mi\u001b[0m\u001b[0;34m,\u001b[0m \u001b[0mv\u001b[0m \u001b[0;32min\u001b[0m \u001b[0menumerate\u001b[0m\u001b[0;34m(\u001b[0m\u001b[0mseries_gen\u001b[0m\u001b[0;34m)\u001b[0m\u001b[0;34m:\u001b[0m\u001b[0;34m\u001b[0m\u001b[0m\n\u001b[0;32m--> 277\u001b[0;31m                     \u001b[0mresults\u001b[0m\u001b[0;34m[\u001b[0m\u001b[0mi\u001b[0m\u001b[0;34m]\u001b[0m \u001b[0;34m=\u001b[0m \u001b[0mself\u001b[0m\u001b[0;34m.\u001b[0m\u001b[0mf\u001b[0m\u001b[0;34m(\u001b[0m\u001b[0mv\u001b[0m\u001b[0;34m)\u001b[0m\u001b[0;34m\u001b[0m\u001b[0m\n\u001b[0m\u001b[1;32m    278\u001b[0m                     \u001b[0mkeys\u001b[0m\u001b[0;34m.\u001b[0m\u001b[0mappend\u001b[0m\u001b[0;34m(\u001b[0m\u001b[0mv\u001b[0m\u001b[0;34m.\u001b[0m\u001b[0mname\u001b[0m\u001b[0;34m)\u001b[0m\u001b[0;34m\u001b[0m\u001b[0m\n\u001b[1;32m    279\u001b[0m             \u001b[0;32mexcept\u001b[0m \u001b[0mException\u001b[0m \u001b[0;32mas\u001b[0m \u001b[0me\u001b[0m\u001b[0;34m:\u001b[0m\u001b[0;34m\u001b[0m\u001b[0m\n",
      "\u001b[0;32m<ipython-input-51-2d52ce1fe983>\u001b[0m in \u001b[0;36m<lambda>\u001b[0;34m(row)\u001b[0m\n\u001b[1;32m     40\u001b[0m \u001b[0mdf_fits\u001b[0m \u001b[0;34m=\u001b[0m \u001b[0mpd\u001b[0m\u001b[0;34m.\u001b[0m\u001b[0mconcat\u001b[0m\u001b[0;34m(\u001b[0m\u001b[0mdfs\u001b[0m\u001b[0;34m,\u001b[0m \u001b[0maxis\u001b[0m \u001b[0;34m=\u001b[0m \u001b[0;36m0\u001b[0m\u001b[0;34m)\u001b[0m\u001b[0;34m.\u001b[0m\u001b[0mreset_index\u001b[0m\u001b[0;34m(\u001b[0m\u001b[0mdrop\u001b[0m\u001b[0;34m=\u001b[0m\u001b[0;32mTrue\u001b[0m\u001b[0;34m)\u001b[0m\u001b[0;34m\u001b[0m\u001b[0m\n\u001b[1;32m     41\u001b[0m \u001b[0mdf_fits\u001b[0m\u001b[0;34m[\u001b[0m\u001b[0;34m'r_tracing'\u001b[0m\u001b[0;34m]\u001b[0m \u001b[0;34m=\u001b[0m \u001b[0mnp\u001b[0m\u001b[0;34m.\u001b[0m\u001b[0msqrt\u001b[0m\u001b[0;34m(\u001b[0m\u001b[0mdf_fits\u001b[0m\u001b[0;34m[\u001b[0m\u001b[0;34m'x_tracing'\u001b[0m\u001b[0;34m]\u001b[0m\u001b[0;34m**\u001b[0m\u001b[0;36m2\u001b[0m \u001b[0;34m+\u001b[0m \u001b[0mdf_fits\u001b[0m\u001b[0;34m[\u001b[0m\u001b[0;34m'y_tracing'\u001b[0m\u001b[0;34m]\u001b[0m\u001b[0;34m**\u001b[0m\u001b[0;36m2\u001b[0m\u001b[0;34m)\u001b[0m\u001b[0;34m\u001b[0m\u001b[0m\n\u001b[0;32m---> 42\u001b[0;31m \u001b[0mdf_fits\u001b[0m\u001b[0;34m[\u001b[0m\u001b[0;34m'width_info'\u001b[0m\u001b[0;34m]\u001b[0m \u001b[0;34m=\u001b[0m \u001b[0mdf_fits\u001b[0m\u001b[0;34m.\u001b[0m\u001b[0mapply\u001b[0m\u001b[0;34m(\u001b[0m\u001b[0;32mlambda\u001b[0m \u001b[0mrow\u001b[0m\u001b[0;34m:\u001b[0m \u001b[0mfind_widths_of_skewed_gaussian_dani\u001b[0m\u001b[0;34m(\u001b[0m\u001b[0mrow\u001b[0m\u001b[0;34m)\u001b[0m\u001b[0;34m,\u001b[0m \u001b[0maxis\u001b[0m \u001b[0;34m=\u001b[0m \u001b[0;36m1\u001b[0m\u001b[0;34m)\u001b[0m\u001b[0;34m\u001b[0m\u001b[0m\n\u001b[0m\u001b[1;32m     43\u001b[0m \u001b[0mdf_fits\u001b[0m\u001b[0;34m[\u001b[0m\u001b[0;34m'x_max'\u001b[0m\u001b[0;34m]\u001b[0m \u001b[0;34m=\u001b[0m \u001b[0mdf_fits\u001b[0m\u001b[0;34m.\u001b[0m\u001b[0mapply\u001b[0m\u001b[0;34m(\u001b[0m\u001b[0;32mlambda\u001b[0m \u001b[0mrow\u001b[0m\u001b[0;34m:\u001b[0m \u001b[0mrow\u001b[0m\u001b[0;34m.\u001b[0m\u001b[0mwidth_info\u001b[0m\u001b[0;34m[\u001b[0m\u001b[0;34m'x_max'\u001b[0m\u001b[0;34m]\u001b[0m\u001b[0;34m,\u001b[0m \u001b[0maxis\u001b[0m \u001b[0;34m=\u001b[0m \u001b[0;36m1\u001b[0m\u001b[0;34m)\u001b[0m\u001b[0;34m\u001b[0m\u001b[0m\n\u001b[1;32m     44\u001b[0m \u001b[0mdf_fits\u001b[0m\u001b[0;34m[\u001b[0m\u001b[0;34m'y_max'\u001b[0m\u001b[0;34m]\u001b[0m \u001b[0;34m=\u001b[0m \u001b[0mdf_fits\u001b[0m\u001b[0;34m.\u001b[0m\u001b[0mapply\u001b[0m\u001b[0;34m(\u001b[0m\u001b[0;32mlambda\u001b[0m \u001b[0mrow\u001b[0m\u001b[0;34m:\u001b[0m \u001b[0mrow\u001b[0m\u001b[0;34m.\u001b[0m\u001b[0mwidth_info\u001b[0m\u001b[0;34m[\u001b[0m\u001b[0;34m'y_max'\u001b[0m\u001b[0;34m]\u001b[0m\u001b[0;34m,\u001b[0m \u001b[0maxis\u001b[0m \u001b[0;34m=\u001b[0m \u001b[0;36m1\u001b[0m\u001b[0;34m)\u001b[0m\u001b[0;34m\u001b[0m\u001b[0m\n",
      "\u001b[0;32m<ipython-input-51-2d52ce1fe983>\u001b[0m in \u001b[0;36mfind_widths_of_skewed_gaussian_dani\u001b[0;34m(params, dx)\u001b[0m\n\u001b[1;32m      1\u001b[0m \u001b[0;32mdef\u001b[0m \u001b[0mfind_widths_of_skewed_gaussian_dani\u001b[0m\u001b[0;34m(\u001b[0m\u001b[0mparams\u001b[0m\u001b[0;34m,\u001b[0m \u001b[0mdx\u001b[0m\u001b[0;34m=\u001b[0m\u001b[0;36m0.001\u001b[0m\u001b[0;34m)\u001b[0m\u001b[0;34m:\u001b[0m\u001b[0;34m\u001b[0m\u001b[0m\n\u001b[1;32m      2\u001b[0m     \u001b[0;31m# Evaluar el modelo ajustado\u001b[0m\u001b[0;34m\u001b[0m\u001b[0;34m\u001b[0m\u001b[0m\n\u001b[0;32m----> 3\u001b[0;31m     \u001b[0mfitted_model\u001b[0m \u001b[0;34m=\u001b[0m \u001b[0meval_fitted_model_with_given_params\u001b[0m\u001b[0;34m(\u001b[0m\u001b[0mparams\u001b[0m\u001b[0;34m,\u001b[0m \u001b[0mdx\u001b[0m\u001b[0;34m=\u001b[0m\u001b[0mdx\u001b[0m\u001b[0;34m)\u001b[0m\u001b[0;34m\u001b[0m\u001b[0m\n\u001b[0m\u001b[1;32m      4\u001b[0m     \u001b[0mx_eval\u001b[0m \u001b[0;34m=\u001b[0m \u001b[0mfitted_model\u001b[0m\u001b[0;34m[\u001b[0m\u001b[0;34m'x_eval'\u001b[0m\u001b[0;34m]\u001b[0m\u001b[0;34m\u001b[0m\u001b[0m\n\u001b[1;32m      5\u001b[0m     \u001b[0my_eval\u001b[0m \u001b[0;34m=\u001b[0m \u001b[0mfitted_model\u001b[0m\u001b[0;34m[\u001b[0m\u001b[0;34m'y_eval'\u001b[0m\u001b[0;34m]\u001b[0m\u001b[0;34m\u001b[0m\u001b[0m\n",
      "\u001b[0;32m~/Documentos/UdeA/programas_finales/Routines_and_data/gauss_asym.py\u001b[0m in \u001b[0;36meval_fitted_model_with_given_params\u001b[0;34m(params, dx)\u001b[0m\n\u001b[1;32m    188\u001b[0m                                                     gamma = gamma)\n\u001b[1;32m    189\u001b[0m \u001b[0;34m\u001b[0m\u001b[0m\n\u001b[0;32m--> 190\u001b[0;31m     \u001b[0mx_eval\u001b[0m \u001b[0;34m=\u001b[0m \u001b[0mnp\u001b[0m\u001b[0;34m.\u001b[0m\u001b[0marange\u001b[0m\u001b[0;34m(\u001b[0m\u001b[0mnp\u001b[0m\u001b[0;34m.\u001b[0m\u001b[0mmin\u001b[0m\u001b[0;34m(\u001b[0m\u001b[0mx\u001b[0m\u001b[0;34m)\u001b[0m\u001b[0;34m-\u001b[0m\u001b[0;36m2\u001b[0m\u001b[0;34m,\u001b[0m \u001b[0mnp\u001b[0m\u001b[0;34m.\u001b[0m\u001b[0mmax\u001b[0m\u001b[0;34m(\u001b[0m\u001b[0mx\u001b[0m\u001b[0;34m)\u001b[0m\u001b[0;34m+\u001b[0m\u001b[0;36m2\u001b[0m\u001b[0;34m,\u001b[0m \u001b[0mdx\u001b[0m\u001b[0;34m)\u001b[0m\u001b[0;34m\u001b[0m\u001b[0m\n\u001b[0m\u001b[1;32m    191\u001b[0m     model_analytical_eval = model_analytical.eval(params = params_analytical,\n\u001b[1;32m    192\u001b[0m                                                 x = x_eval)\n",
      "\u001b[0;32m<__array_function__ internals>\u001b[0m in \u001b[0;36mamin\u001b[0;34m(*args, **kwargs)\u001b[0m\n",
      "\u001b[0;32m~/anaconda3/lib/python3.7/site-packages/numpy/core/fromnumeric.py\u001b[0m in \u001b[0;36mamin\u001b[0;34m(a, axis, out, keepdims, initial, where)\u001b[0m\n\u001b[1;32m   2878\u001b[0m     \"\"\"\n\u001b[1;32m   2879\u001b[0m     return _wrapreduction(a, np.minimum, 'min', axis, None, out,\n\u001b[0;32m-> 2880\u001b[0;31m                           keepdims=keepdims, initial=initial, where=where)\n\u001b[0m\u001b[1;32m   2881\u001b[0m \u001b[0;34m\u001b[0m\u001b[0m\n\u001b[1;32m   2882\u001b[0m \u001b[0;34m\u001b[0m\u001b[0m\n",
      "\u001b[0;32m~/anaconda3/lib/python3.7/site-packages/numpy/core/fromnumeric.py\u001b[0m in \u001b[0;36m_wrapreduction\u001b[0;34m(obj, ufunc, method, axis, dtype, out, **kwargs)\u001b[0m\n\u001b[1;32m     84\u001b[0m                 \u001b[0;32mreturn\u001b[0m \u001b[0mreduction\u001b[0m\u001b[0;34m(\u001b[0m\u001b[0maxis\u001b[0m\u001b[0;34m=\u001b[0m\u001b[0maxis\u001b[0m\u001b[0;34m,\u001b[0m \u001b[0mout\u001b[0m\u001b[0;34m=\u001b[0m\u001b[0mout\u001b[0m\u001b[0;34m,\u001b[0m \u001b[0;34m**\u001b[0m\u001b[0mpasskwargs\u001b[0m\u001b[0;34m)\u001b[0m\u001b[0;34m\u001b[0m\u001b[0m\n\u001b[1;32m     85\u001b[0m \u001b[0;34m\u001b[0m\u001b[0m\n\u001b[0;32m---> 86\u001b[0;31m     \u001b[0;32mreturn\u001b[0m \u001b[0mufunc\u001b[0m\u001b[0;34m.\u001b[0m\u001b[0mreduce\u001b[0m\u001b[0;34m(\u001b[0m\u001b[0mobj\u001b[0m\u001b[0;34m,\u001b[0m \u001b[0maxis\u001b[0m\u001b[0;34m,\u001b[0m \u001b[0mdtype\u001b[0m\u001b[0;34m,\u001b[0m \u001b[0mout\u001b[0m\u001b[0;34m,\u001b[0m \u001b[0;34m**\u001b[0m\u001b[0mpasskwargs\u001b[0m\u001b[0;34m)\u001b[0m\u001b[0;34m\u001b[0m\u001b[0m\n\u001b[0m\u001b[1;32m     87\u001b[0m \u001b[0;34m\u001b[0m\u001b[0m\n\u001b[1;32m     88\u001b[0m \u001b[0;34m\u001b[0m\u001b[0m\n",
      "\u001b[0;31mValueError\u001b[0m: ('zero-size array to reduction operation minimum which has no identity', 'occurred at index 0')"
     ]
    }
   ],
   "source": [
    "def find_widths_of_skewed_gaussian_dani(params, dx=0.001):\n",
    "    # Evaluar el modelo ajustado\n",
    "    fitted_model = eval_fitted_model_with_given_params(params, dx=dx)\n",
    "    x_eval = fitted_model['x_eval']\n",
    "    y_eval = fitted_model['y_eval']\n",
    "\n",
    "    # Verificar que x_eval y y_eval no estén vacíos\n",
    "    if len(x_eval) == 0 or len(y_eval) == 0:\n",
    "        print(f\"Advertencia: 'x_eval' o 'y_eval' están vacíos para params id: {params.get('id_tracing', 'desconocido')}\")\n",
    "        return {'x_max': np.nan, 'y_max': np.nan, 'w1': np.nan, 'w2': np.nan}\n",
    "\n",
    "    # Continúa si no están vacíos\n",
    "    x_max, y_max = find_maximum(x_eval, y_eval)\n",
    "\n",
    "    xs_line = np.arange(np.min(x_eval), np.max(x_eval), 0.01)\n",
    "    ys_line = np.full(len(xs_line), 0.5 * y_max)\n",
    "\n",
    "    first_line = LineString(np.column_stack((x_eval, y_eval)))\n",
    "    second_line = LineString(np.column_stack((xs_line, ys_line)))\n",
    "    intersection = first_line.intersection(second_line)\n",
    "\n",
    "    points_intercept = []\n",
    "    if isinstance(intersection, MultiPoint):\n",
    "        points_intercept = list(intersection)\n",
    "    elif not intersection.is_empty:\n",
    "        points_intercept = [intersection]\n",
    "\n",
    "    points_intercept = [[point.x, point.y] for point in points_intercept]\n",
    "\n",
    "    if len(points_intercept) >= 2:\n",
    "        w1 = x_max - points_intercept[1][0]\n",
    "        w2 = points_intercept[0][0] - x_max\n",
    "    else:\n",
    "        w1, w2 = np.nan, np.nan  # Si no hay suficientes intersecciones\n",
    "\n",
    "    return {'x_max': x_max, 'y_max': y_max, 'w1': w1, 'w2': w2}\n",
    "\n",
    "\n",
    "\n",
    "df_fits = pd.concat(dfs, axis = 0).reset_index(drop=True)\n",
    "df_fits['r_tracing'] = np.sqrt(df_fits['x_tracing']**2 + df_fits['y_tracing']**2)\n",
    "df_fits['width_info'] = df_fits.apply(lambda row: find_widths_of_skewed_gaussian_dani(row), axis = 1)\n",
    "df_fits['x_max'] = df_fits.apply(lambda row: row.width_info['x_max'], axis = 1)\n",
    "df_fits['y_max'] = df_fits.apply(lambda row: row.width_info['y_max'], axis = 1)\n",
    "df_fits['w1'] = df_fits.apply(lambda row: row.width_info['w1'], axis = 1)\n",
    "df_fits['w2'] = df_fits.apply(lambda row: row.width_info['w2'], axis = 1)"
   ]
  },
  {
   "cell_type": "code",
   "execution_count": 45,
   "metadata": {},
   "outputs": [],
   "source": [
    "fits_arm1 = df_fits[df_fits.arm == 1]\n",
    "fits_arm2 = df_fits[df_fits.arm == 2]"
   ]
  },
  {
   "cell_type": "code",
   "execution_count": 46,
   "metadata": {},
   "outputs": [
    {
     "data": {
      "application/vnd.jupyter.widget-view+json": {
       "model_id": "a0e69e9cf8594bf3b7c0f1b4c37233f0",
       "version_major": 2,
       "version_minor": 0
      },
      "image/png": "[encoded data removed]",
      "text/html": [
       "\n",
       "            <div style=\"display: inline-block;\">\n",
       "                <div class=\"jupyter-widgets widget-label\" style=\"text-align: center;\">\n",
       "                    Figure\n",
       "                </div>\n",
       "                <img src='data:image/png;base64,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' width=640.0/>\n",
       "            </div>\n",
       "        "
      ],
      "text/plain": [
       "Canvas(toolbar=Toolbar(toolitems=[('Home', 'Reset original view', 'home', 'home'), ('Back', 'Back to previous …"
      ]
     },
     "metadata": {},
     "output_type": "display_data"
    }
   ],
   "source": [
    "\n",
    "import matplotlib as mpl\n",
    "mpl.rcParams['text.usetex'] = False\n",
    "\n",
    "fig, ax = plt.subplots()\n",
    "ax.plot(fits_arm1.x_tracing, fits_arm1.y_tracing, marker = 'o', label = 'Arm1')\n",
    "ax.plot(fits_arm2.x_tracing, fits_arm2.y_tracing, marker = 'o', label = 'Arm2')\n",
    "ax.set_xlim(-20,20)\n",
    "ax.set_ylim(-20,20)\n",
    "ax.legend()\n",
    "ax.set_aspect('equal')"
   ]
  },
  {
   "cell_type": "code",
   "execution_count": 86,
   "metadata": {},
   "outputs": [],
   "source": [
    "def calc_euclidean(x1,y1,x2,y2):\n",
    "    return np.sqrt((x2 - x1)**2 + (y2 - y1)**2)"
   ]
  },
  {
   "cell_type": "code",
   "execution_count": 26,
   "metadata": {},
   "outputs": [
    {
     "ename": "NameError",
     "evalue": "name 'calc_euclidean' is not defined",
     "output_type": "error",
     "traceback": [
      "\u001b[0;31m---------------------------------------------------------------------------\u001b[0m",
      "\u001b[0;31mNameError\u001b[0m                                 Traceback (most recent call last)",
      "\u001b[0;32m<ipython-input-26-f374a7f21e15>\u001b[0m in \u001b[0;36m<module>\u001b[0;34m()\u001b[0m\n\u001b[1;32m      7\u001b[0m         \u001b[0mx2\u001b[0m \u001b[0;34m=\u001b[0m \u001b[0mdf_tracing_arm2\u001b[0m\u001b[0;34m.\u001b[0m\u001b[0miloc\u001b[0m\u001b[0;34m[\u001b[0m\u001b[0mi\u001b[0m\u001b[0;34m]\u001b[0m\u001b[0;34m.\u001b[0m\u001b[0mx\u001b[0m\u001b[0;34m\u001b[0m\u001b[0m\n\u001b[1;32m      8\u001b[0m         \u001b[0my2\u001b[0m \u001b[0;34m=\u001b[0m \u001b[0mdf_tracing_arm2\u001b[0m\u001b[0;34m.\u001b[0m\u001b[0miloc\u001b[0m\u001b[0;34m[\u001b[0m\u001b[0mi\u001b[0m\u001b[0;34m]\u001b[0m\u001b[0;34m.\u001b[0m\u001b[0my\u001b[0m\u001b[0;34m\u001b[0m\u001b[0m\n\u001b[0;32m----> 9\u001b[0;31m         \u001b[0mdist_previous\u001b[0m\u001b[0;34m.\u001b[0m\u001b[0mappend\u001b[0m\u001b[0;34m(\u001b[0m\u001b[0mcalc_euclidean\u001b[0m\u001b[0;34m(\u001b[0m\u001b[0mx1\u001b[0m\u001b[0;34m,\u001b[0m\u001b[0my1\u001b[0m\u001b[0;34m,\u001b[0m\u001b[0mx2\u001b[0m\u001b[0;34m,\u001b[0m\u001b[0my2\u001b[0m\u001b[0;34m)\u001b[0m\u001b[0;34m)\u001b[0m\u001b[0;34m\u001b[0m\u001b[0m\n\u001b[0m\u001b[1;32m     10\u001b[0m \u001b[0;34m\u001b[0m\u001b[0m\n\u001b[1;32m     11\u001b[0m     \u001b[0;32melse\u001b[0m\u001b[0;34m:\u001b[0m\u001b[0;34m\u001b[0m\u001b[0m\n",
      "\u001b[0;31mNameError\u001b[0m: name 'calc_euclidean' is not defined"
     ]
    }
   ],
   "source": [
    "dist_previous = []\n",
    "for i in range(len(df_tracing_arm2)):\n",
    "    if i == 0:\n",
    "        x1 = 0\n",
    "        y1 = 0\n",
    "        \n",
    "        x2 = df_tracing_arm2.iloc[i].x\n",
    "        y2 = df_tracing_arm2.iloc[i].y\n",
    "        dist_previous.append(calc_euclidean(x1,y1,x2,y2))\n",
    "        \n",
    "    else:\n",
    "        x1 = df_tracing_arm2.iloc[i-1].x\n",
    "        y1 = df_tracing_arm2.iloc[i-1].y\n",
    "        \n",
    "        x2 = df_tracing_arm2.iloc[i].x\n",
    "        y2 = df_tracing_arm2.iloc[i].y\n",
    "        \n",
    "        dist_previous.append(calc_euclidean(x1,y1,x2,y2))"
   ]
  },
  {
   "cell_type": "code",
   "execution_count": 27,
   "metadata": {},
   "outputs": [
    {
     "ename": "ValueError",
     "evalue": "Length of values does not match length of index",
     "output_type": "error",
     "traceback": [
      "\u001b[0;31m---------------------------------------------------------------------------\u001b[0m",
      "\u001b[0;31mValueError\u001b[0m                                Traceback (most recent call last)",
      "\u001b[0;32m<ipython-input-27-f78d998223cd>\u001b[0m in \u001b[0;36m<module>\u001b[0;34m()\u001b[0m\n\u001b[0;32m----> 1\u001b[0;31m \u001b[0mdf_tracing_arm2\u001b[0m\u001b[0;34m[\u001b[0m\u001b[0;34m'dist_previous'\u001b[0m\u001b[0;34m]\u001b[0m \u001b[0;34m=\u001b[0m \u001b[0mdist_previous\u001b[0m\u001b[0;34m\u001b[0m\u001b[0m\n\u001b[0m\u001b[1;32m      2\u001b[0m \u001b[0mdf_tracing_arm2\u001b[0m\u001b[0;34m[\u001b[0m\u001b[0;34m'arm_length'\u001b[0m\u001b[0;34m]\u001b[0m \u001b[0;34m=\u001b[0m \u001b[0mdf_tracing_arm2\u001b[0m\u001b[0;34m.\u001b[0m\u001b[0mdist_previous\u001b[0m\u001b[0;34m.\u001b[0m\u001b[0mcumsum\u001b[0m\u001b[0;34m(\u001b[0m\u001b[0;34m)\u001b[0m\u001b[0;34m\u001b[0m\u001b[0m\n",
      "\u001b[0;32m~/anaconda3/lib/python3.7/site-packages/pandas/core/frame.py\u001b[0m in \u001b[0;36m__setitem__\u001b[0;34m(self, key, value)\u001b[0m\n\u001b[1;32m   3117\u001b[0m         \u001b[0;32melse\u001b[0m\u001b[0;34m:\u001b[0m\u001b[0;34m\u001b[0m\u001b[0m\n\u001b[1;32m   3118\u001b[0m             \u001b[0;31m# set column\u001b[0m\u001b[0;34m\u001b[0m\u001b[0;34m\u001b[0m\u001b[0m\n\u001b[0;32m-> 3119\u001b[0;31m             \u001b[0mself\u001b[0m\u001b[0;34m.\u001b[0m\u001b[0m_set_item\u001b[0m\u001b[0;34m(\u001b[0m\u001b[0mkey\u001b[0m\u001b[0;34m,\u001b[0m \u001b[0mvalue\u001b[0m\u001b[0;34m)\u001b[0m\u001b[0;34m\u001b[0m\u001b[0m\n\u001b[0m\u001b[1;32m   3120\u001b[0m \u001b[0;34m\u001b[0m\u001b[0m\n\u001b[1;32m   3121\u001b[0m     \u001b[0;32mdef\u001b[0m \u001b[0m_setitem_slice\u001b[0m\u001b[0;34m(\u001b[0m\u001b[0mself\u001b[0m\u001b[0;34m,\u001b[0m \u001b[0mkey\u001b[0m\u001b[0;34m,\u001b[0m \u001b[0mvalue\u001b[0m\u001b[0;34m)\u001b[0m\u001b[0;34m:\u001b[0m\u001b[0;34m\u001b[0m\u001b[0m\n",
      "\u001b[0;32m~/anaconda3/lib/python3.7/site-packages/pandas/core/frame.py\u001b[0m in \u001b[0;36m_set_item\u001b[0;34m(self, key, value)\u001b[0m\n\u001b[1;32m   3192\u001b[0m \u001b[0;34m\u001b[0m\u001b[0m\n\u001b[1;32m   3193\u001b[0m         \u001b[0mself\u001b[0m\u001b[0;34m.\u001b[0m\u001b[0m_ensure_valid_index\u001b[0m\u001b[0;34m(\u001b[0m\u001b[0mvalue\u001b[0m\u001b[0;34m)\u001b[0m\u001b[0;34m\u001b[0m\u001b[0m\n\u001b[0;32m-> 3194\u001b[0;31m         \u001b[0mvalue\u001b[0m \u001b[0;34m=\u001b[0m \u001b[0mself\u001b[0m\u001b[0;34m.\u001b[0m\u001b[0m_sanitize_column\u001b[0m\u001b[0;34m(\u001b[0m\u001b[0mkey\u001b[0m\u001b[0;34m,\u001b[0m \u001b[0mvalue\u001b[0m\u001b[0;34m)\u001b[0m\u001b[0;34m\u001b[0m\u001b[0m\n\u001b[0m\u001b[1;32m   3195\u001b[0m         \u001b[0mNDFrame\u001b[0m\u001b[0;34m.\u001b[0m\u001b[0m_set_item\u001b[0m\u001b[0;34m(\u001b[0m\u001b[0mself\u001b[0m\u001b[0;34m,\u001b[0m \u001b[0mkey\u001b[0m\u001b[0;34m,\u001b[0m \u001b[0mvalue\u001b[0m\u001b[0;34m)\u001b[0m\u001b[0;34m\u001b[0m\u001b[0m\n\u001b[1;32m   3196\u001b[0m \u001b[0;34m\u001b[0m\u001b[0m\n",
      "\u001b[0;32m~/anaconda3/lib/python3.7/site-packages/pandas/core/frame.py\u001b[0m in \u001b[0;36m_sanitize_column\u001b[0;34m(self, key, value, broadcast)\u001b[0m\n\u001b[1;32m   3389\u001b[0m \u001b[0;34m\u001b[0m\u001b[0m\n\u001b[1;32m   3390\u001b[0m             \u001b[0;31m# turn me into an ndarray\u001b[0m\u001b[0;34m\u001b[0m\u001b[0;34m\u001b[0m\u001b[0m\n\u001b[0;32m-> 3391\u001b[0;31m             \u001b[0mvalue\u001b[0m \u001b[0;34m=\u001b[0m \u001b[0m_sanitize_index\u001b[0m\u001b[0;34m(\u001b[0m\u001b[0mvalue\u001b[0m\u001b[0;34m,\u001b[0m \u001b[0mself\u001b[0m\u001b[0;34m.\u001b[0m\u001b[0mindex\u001b[0m\u001b[0;34m,\u001b[0m \u001b[0mcopy\u001b[0m\u001b[0;34m=\u001b[0m\u001b[0;32mFalse\u001b[0m\u001b[0;34m)\u001b[0m\u001b[0;34m\u001b[0m\u001b[0m\n\u001b[0m\u001b[1;32m   3392\u001b[0m             \u001b[0;32mif\u001b[0m \u001b[0;32mnot\u001b[0m \u001b[0misinstance\u001b[0m\u001b[0;34m(\u001b[0m\u001b[0mvalue\u001b[0m\u001b[0;34m,\u001b[0m \u001b[0;34m(\u001b[0m\u001b[0mnp\u001b[0m\u001b[0;34m.\u001b[0m\u001b[0mndarray\u001b[0m\u001b[0;34m,\u001b[0m \u001b[0mIndex\u001b[0m\u001b[0;34m)\u001b[0m\u001b[0;34m)\u001b[0m\u001b[0;34m:\u001b[0m\u001b[0;34m\u001b[0m\u001b[0m\n\u001b[1;32m   3393\u001b[0m                 \u001b[0;32mif\u001b[0m \u001b[0misinstance\u001b[0m\u001b[0;34m(\u001b[0m\u001b[0mvalue\u001b[0m\u001b[0;34m,\u001b[0m \u001b[0mlist\u001b[0m\u001b[0;34m)\u001b[0m \u001b[0;32mand\u001b[0m \u001b[0mlen\u001b[0m\u001b[0;34m(\u001b[0m\u001b[0mvalue\u001b[0m\u001b[0;34m)\u001b[0m \u001b[0;34m>\u001b[0m \u001b[0;36m0\u001b[0m\u001b[0;34m:\u001b[0m\u001b[0;34m\u001b[0m\u001b[0m\n",
      "\u001b[0;32m~/anaconda3/lib/python3.7/site-packages/pandas/core/series.py\u001b[0m in \u001b[0;36m_sanitize_index\u001b[0;34m(data, index, copy)\u001b[0m\n\u001b[1;32m   3999\u001b[0m \u001b[0;34m\u001b[0m\u001b[0m\n\u001b[1;32m   4000\u001b[0m     \u001b[0;32mif\u001b[0m \u001b[0mlen\u001b[0m\u001b[0;34m(\u001b[0m\u001b[0mdata\u001b[0m\u001b[0;34m)\u001b[0m \u001b[0;34m!=\u001b[0m \u001b[0mlen\u001b[0m\u001b[0;34m(\u001b[0m\u001b[0mindex\u001b[0m\u001b[0;34m)\u001b[0m\u001b[0;34m:\u001b[0m\u001b[0;34m\u001b[0m\u001b[0m\n\u001b[0;32m-> 4001\u001b[0;31m         \u001b[0;32mraise\u001b[0m \u001b[0mValueError\u001b[0m\u001b[0;34m(\u001b[0m\u001b[0;34m'Length of values does not match length of '\u001b[0m \u001b[0;34m'index'\u001b[0m\u001b[0;34m)\u001b[0m\u001b[0;34m\u001b[0m\u001b[0m\n\u001b[0m\u001b[1;32m   4002\u001b[0m \u001b[0;34m\u001b[0m\u001b[0m\n\u001b[1;32m   4003\u001b[0m     \u001b[0;32mif\u001b[0m \u001b[0misinstance\u001b[0m\u001b[0;34m(\u001b[0m\u001b[0mdata\u001b[0m\u001b[0;34m,\u001b[0m \u001b[0mABCIndexClass\u001b[0m\u001b[0;34m)\u001b[0m \u001b[0;32mand\u001b[0m \u001b[0;32mnot\u001b[0m \u001b[0mcopy\u001b[0m\u001b[0;34m:\u001b[0m\u001b[0;34m\u001b[0m\u001b[0m\n",
      "\u001b[0;31mValueError\u001b[0m: Length of values does not match length of index"
     ]
    }
   ],
   "source": [
    "df_tracing_arm2['dist_previous'] = dist_previous\n",
    "df_tracing_arm2['arm_length'] = df_tracing_arm2.dist_previous.cumsum()"
   ]
  },
  {
   "cell_type": "code",
   "execution_count": 28,
   "metadata": {},
   "outputs": [],
   "source": [
    "def assign_length(id_tracing, df_tracing):\n",
    "    length = df_tracing[df_tracing.id == id_tracing].arm_length.values[0]\n",
    "    return length"
   ]
  },
  {
   "cell_type": "code",
   "execution_count": 29,
   "metadata": {},
   "outputs": [
    {
     "ename": "NameError",
     "evalue": "name 'fits_arm2' is not defined",
     "output_type": "error",
     "traceback": [
      "\u001b[0;31m---------------------------------------------------------------------------\u001b[0m",
      "\u001b[0;31mNameError\u001b[0m                                 Traceback (most recent call last)",
      "\u001b[0;32m<ipython-input-29-821fb1cd7ba6>\u001b[0m in \u001b[0;36m<module>\u001b[0;34m()\u001b[0m\n\u001b[0;32m----> 1\u001b[0;31m \u001b[0mfits_arm2\u001b[0m\u001b[0;34m[\u001b[0m\u001b[0;34m'arm_length'\u001b[0m\u001b[0;34m]\u001b[0m \u001b[0;34m=\u001b[0m \u001b[0mfits_arm2\u001b[0m\u001b[0;34m.\u001b[0m\u001b[0mapply\u001b[0m\u001b[0;34m(\u001b[0m\u001b[0;32mlambda\u001b[0m \u001b[0mrow\u001b[0m\u001b[0;34m:\u001b[0m \u001b[0massign_length\u001b[0m\u001b[0;34m(\u001b[0m\u001b[0mrow\u001b[0m\u001b[0;34m.\u001b[0m\u001b[0mid_tracing\u001b[0m\u001b[0;34m,\u001b[0m \u001b[0mdf_tracing_arm2\u001b[0m\u001b[0;34m)\u001b[0m\u001b[0;34m,\u001b[0m \u001b[0maxis\u001b[0m \u001b[0;34m=\u001b[0m \u001b[0;36m1\u001b[0m\u001b[0;34m)\u001b[0m\u001b[0;34m\u001b[0m\u001b[0m\n\u001b[0m",
      "\u001b[0;31mNameError\u001b[0m: name 'fits_arm2' is not defined"
     ]
    }
   ],
   "source": [
    "fits_arm2['arm_length'] = fits_arm2.apply(lambda row: assign_length(row.id_tracing, df_tracing_arm2), axis = 1)"
   ]
  },
  {
   "cell_type": "code",
   "execution_count": 91,
   "metadata": {},
   "outputs": [
    {
     "ename": "AttributeError",
     "evalue": "'DataFrame' object has no attribute 'arm_length'",
     "output_type": "error",
     "traceback": [
      "\u001b[0;31m---------------------------------------------------------------------------\u001b[0m",
      "\u001b[0;31mAttributeError\u001b[0m                            Traceback (most recent call last)",
      "\u001b[0;32m<ipython-input-91-64c215417116>\u001b[0m in \u001b[0;36m<module>\u001b[0;34m()\u001b[0m\n\u001b[1;32m      1\u001b[0m \u001b[0mfig\u001b[0m\u001b[0;34m,\u001b[0m\u001b[0max\u001b[0m \u001b[0;34m=\u001b[0m \u001b[0mplt\u001b[0m\u001b[0;34m.\u001b[0m\u001b[0msubplots\u001b[0m\u001b[0;34m(\u001b[0m\u001b[0;34m)\u001b[0m\u001b[0;34m\u001b[0m\u001b[0m\n\u001b[0;32m----> 2\u001b[0;31m \u001b[0max\u001b[0m\u001b[0;34m.\u001b[0m\u001b[0mscatter\u001b[0m\u001b[0;34m(\u001b[0m\u001b[0mfits_arm1\u001b[0m\u001b[0;34m.\u001b[0m\u001b[0marm_length\u001b[0m\u001b[0;34m,\u001b[0m \u001b[0mfits_arm1\u001b[0m\u001b[0;34m.\u001b[0m\u001b[0mgamma\u001b[0m\u001b[0;34m)\u001b[0m\u001b[0;34m\u001b[0m\u001b[0m\n\u001b[0m\u001b[1;32m      3\u001b[0m \u001b[0max\u001b[0m\u001b[0;34m.\u001b[0m\u001b[0mset_ylim\u001b[0m\u001b[0;34m(\u001b[0m\u001b[0;34m-\u001b[0m\u001b[0;36m1\u001b[0m\u001b[0;34m,\u001b[0m\u001b[0;36m1\u001b[0m\u001b[0;34m)\u001b[0m\u001b[0;34m\u001b[0m\u001b[0m\n",
      "\u001b[0;32m~/anaconda3/lib/python3.7/site-packages/pandas/core/generic.py\u001b[0m in \u001b[0;36m__getattr__\u001b[0;34m(self, name)\u001b[0m\n\u001b[1;32m   4374\u001b[0m             \u001b[0;32mif\u001b[0m \u001b[0mself\u001b[0m\u001b[0;34m.\u001b[0m\u001b[0m_info_axis\u001b[0m\u001b[0;34m.\u001b[0m\u001b[0m_can_hold_identifiers_and_holds_name\u001b[0m\u001b[0;34m(\u001b[0m\u001b[0mname\u001b[0m\u001b[0;34m)\u001b[0m\u001b[0;34m:\u001b[0m\u001b[0;34m\u001b[0m\u001b[0m\n\u001b[1;32m   4375\u001b[0m                 \u001b[0;32mreturn\u001b[0m \u001b[0mself\u001b[0m\u001b[0;34m[\u001b[0m\u001b[0mname\u001b[0m\u001b[0;34m]\u001b[0m\u001b[0;34m\u001b[0m\u001b[0m\n\u001b[0;32m-> 4376\u001b[0;31m             \u001b[0;32mreturn\u001b[0m \u001b[0mobject\u001b[0m\u001b[0;34m.\u001b[0m\u001b[0m__getattribute__\u001b[0m\u001b[0;34m(\u001b[0m\u001b[0mself\u001b[0m\u001b[0;34m,\u001b[0m \u001b[0mname\u001b[0m\u001b[0;34m)\u001b[0m\u001b[0;34m\u001b[0m\u001b[0m\n\u001b[0m\u001b[1;32m   4377\u001b[0m \u001b[0;34m\u001b[0m\u001b[0m\n\u001b[1;32m   4378\u001b[0m     \u001b[0;32mdef\u001b[0m \u001b[0m__setattr__\u001b[0m\u001b[0;34m(\u001b[0m\u001b[0mself\u001b[0m\u001b[0;34m,\u001b[0m \u001b[0mname\u001b[0m\u001b[0;34m,\u001b[0m \u001b[0mvalue\u001b[0m\u001b[0;34m)\u001b[0m\u001b[0;34m:\u001b[0m\u001b[0;34m\u001b[0m\u001b[0m\n",
      "\u001b[0;31mAttributeError\u001b[0m: 'DataFrame' object has no attribute 'arm_length'"
     ]
    },
    {
     "data": {
      "application/vnd.jupyter.widget-view+json": {
       "model_id": "8a6ed1a39f184e7d8c460696ad50a62e",
       "version_major": 2,
       "version_minor": 0
      },
      "image/png": "[encoded data removed]",
      "text/html": [
       "\n",
       "            <div style=\"display: inline-block;\">\n",
       "                <div class=\"jupyter-widgets widget-label\" style=\"text-align: center;\">\n",
       "                    Figure\n",
       "                </div>\n",
       "                <img src='data:image/png;base64,iVBORw0KGgoAAAANSUhEUgAAAoAAAAHgCAYAAAA10dzkAAAAOXRFWHRTb2Z0d2FyZQBNYXRwbG90bGliIHZlcnNpb24zLjUuMywgaHR0cHM6Ly9tYXRwbG90bGliLm9yZy/NK7nSAAAACXBIWXMAAA9hAAAPYQGoP6dpAAAeVklEQVR4nO3df2zV9b348VdbaKuZrSxcyo/1Xi5sTp0KCqOpzhhveseNhl3+uHdcXYBL/HHd2OKluZv4i3rHBlynhJuJIzK97o852DVqlgvB63pHFif3kgFN9IoYBYV5bYXcK+XiRqH9fP+4Xzs7ClpGWzivxyM5Qd/9fNrX8R08z3zOj5YVRVEEAABplA/3AAAADC0BCACQjAAEAEhGAAIAJCMAAQCSEYAAAMkIQACAZAQgAEAyAhAAIBkBCACQjAAEAEhGAAIAJCMAAQCSEYAAAMkIQACAZAQgAEAyAhAAIBkBCACQjAAEAEhGAAIAJCMAAQCSEYAAAMkIQACAZAQgAEAyAhAAIBkBCACQjAAEAEhGAAIAJCMAAQCSEYAAAMkIQACAZAQgAEAyAhAAIBkBCACQjAAEAEhGAAIAJCMAAQCSEYAAAMkIQACAZAQgAEAyAhAAIBkBCACQjAAEAEhGAAIAJCMAAQCSEYAAAMkIQACAZAQgAEAyAhAAIBkBCACQjAAEAEhGAAIAJFPSAfjzn/88Zs2aFePHj4+ysrJ45plnPvSczZs3xxVXXBFVVVXxyU9+Mh5//PFBnxMAYCiVdAAePnw4pkyZEqtXr/5Ix+/Zsyeuv/76uPbaa6OtrS3+9m//Nm6++eZ49tlnB3lSAIChU1YURTHcQwyFsrKyePrpp2P27NknPOaOO+6IDRs2xEsvvdS79ld/9Vfx7rvvxqZNm4ZgSgCAwVfSVwAHasuWLdHU1NRnbebMmbFly5ZhmggA4PQbMdwDnEna29ujrq6uz1pdXV10dnbGr3/96zjnnHP6fK2npyfeeOONGDlyZJSVlR33/aqqqqKqqmpQZwYABqYoijh06FCMHz8+ystzXgsTgL+H//qv/4rJkycP9xgAwCnYt29ffOITnxjuMYaFAPyAsWPHRkdHR5+1jo6OqKmpOe7qX0TEeeedFxERL7/8cu8/f5ArgABw5uns7Iz6+vp+H7uzEIAf0NjYGBs3buyz9txzz0VjY2O/x7//tO+ECROipqZm0OcDAE6f/l6+lUVJP/H9v//7v9HW1hZtbW0R8X8f89LW1hZ79+6NiIg777wz5s2b13v8bbfdFrt3745vfOMb8corr8TDDz8cP/7xj2PRokXDMT4AwKAo6QD85S9/GZdffnlcfvnlERHR3Nwcl19+eSxZsiQiIt5+++3eGIyI+OM//uPYsGFDPPfcczFlypR48MEH4/vf/37MnDlzWOYHABgMaT4HcDB0dnZGbW1tHDx40FPAAHCW8Phd4lcAAQA4ngAEAEhGAAIAJCMAAQCSEYAAAMkIQACAZAQgAEAyAhAAIBkBCACQjAAEAEhGAAIAJCMAAQCSEYAAAMkIQACAZAQgAEAyAhAAIBkBCACQjAAEAEhGAAIAJCMAAQCSEYAAAMkIQACAZAQgAEAyAhAAIBkBCACQjAAEAEhGAAIAJCMAAQCSEYAAAMkIQACAZAQgAEAyAhAAIBkBCACQjAAEAEhGAAIAJCMAAQCSEYAAAMkIQACAZAQgAEAyAhAAIBkBCACQjAAEAEhGAAIAJCMAAQCSEYAAAMkIQACAZAQgAEAyAhAAIBkBCACQjAAEAEhGAAIAJCMAAQCSEYAAAMkIQACAZAQgAEAyAhAAIBkBCACQjAAEAEhGAAIAJCMAAQCSEYAAAMkIQACAZAQgAEAyJR+Aq1evjokTJ0Z1dXU0NDTE1q1bT3r8qlWr4tOf/nScc845UV9fH4sWLYrf/OY3QzQtAMDgK+kAXL9+fTQ3N0dLS0ts3749pkyZEjNnzox33nmn3+OfeOKJWLx4cbS0tMTOnTvj0UcfjfXr18ddd901xJMDAAyekg7AlStXxi233BILFiyIiy++ONasWRPnnntuPPbYY/0e/8ILL8RVV10VN954Y0ycODE+//nPxw033PChVw0BAM4mJRuAXV1dsW3btmhqaupdKy8vj6amptiyZUu/51x55ZWxbdu23uDbvXt3bNy4Ma677rohmRkAYCiMGO4BBsuBAweiu7s76urq+qzX1dXFK6+80u85N954Yxw4cCA+97nPRVEUcezYsbjttts+9Cngzs7Ofterqqqiqqrq1O4AAMAgKdkrgKdi8+bNsWzZsnj44Ydj+/bt8dRTT8WGDRti6dKlJz2vvr4+amtrj7stX758iCYHAPjoSvYK4OjRo6OioiI6Ojr6rHd0dMTYsWP7Pefee++NuXPnxs033xwREZdeemkcPnw4br311rj77rujvLz/Xt63b1/U1NQct+7qHwBwJirZK4CVlZUxbdq0aG1t7V3r6emJ1tbWaGxs7Pec995777jIq6ioiIiIoihO+LNqamr6vQlAAOBMVLJXACMimpubY/78+TF9+vSYMWNGrFq1Kg4fPhwLFiyIiIh58+bFhAkTep+qnTVrVqxcuTIuv/zyaGhoiNdeey3uvffemDVrVm8IAgCc7Uo6AOfMmRP79++PJUuWRHt7e0ydOjU2bdrU+8aQvXv39rnid88990RZWVncc8898dZbb8Uf/MEfxKxZs+Lb3/72cN0FAIDTrqw42XObnFRnZ2fU1tbGwYMH+30NIABw5vH4XcKvAQQAoH8CEAAgGQEIAJCMAAQASEYAAgAkIwABAJIRgAAAyQhAAIBkBCAAQDICEAAgGQEIAJCMAAQASEYAAgAkIwABAJIRgAAAyQhAAIBkBCAAQDICEAAgGQEIAJCMAAQASEYAAgAkIwABAJIRgAAAyQhAAIBkBCAAQDICEAAgGQEIAJCMAAQASEYAAgAkIwABAJIRgAAAyQhAAIBkBCAAQDICEAAgGQEIAJCMAAQASEYAAgAkIwABAJIRgAAAyQhAAIBkBCAAQDICEAAgGQEIAJCMAAQASEYAAgAkIwABAJIRgAAAyQhAAIBkBCAAQDICEAAgGQEIAJCMAAQASEYAAgAkIwABAJIRgAAAyQhAAIBkBCAAQDICEAAgGQEIAJCMAAQASEYAAgAkIwABAJIRgAAAyZR8AK5evTomTpwY1dXV0dDQEFu3bj3p8e+++24sXLgwxo0bF1VVVXHBBRfExo0bh2haAIDBN2K4BxhM69evj+bm5lizZk00NDTEqlWrYubMmbFr164YM2bMccd3dXXFn/7pn8aYMWPiySefjAkTJsSbb74Z559//tAPDwAwSMqKoiiGe4jB0tDQEJ/97GfjoYceioiInp6eqK+vj6997WuxePHi445fs2ZNfOc734lXXnklRo4c+aHfv7OzM2pra+PgwYNRU1Nz2ucHAE4/j98l/BRwV1dXbNu2LZqamnrXysvLo6mpKbZs2dLvOT/5yU+isbExFi5cGHV1dXHJJZfEsmXLoru7+6Q/q7Ozs9/bkSNHTut9AgA4HUo2AA8cOBDd3d1RV1fXZ72uri7a29v7PWf37t3x5JNPRnd3d2zcuDHuvffeePDBB+Nb3/rWSX9WfX191NbWHndbvnz5abs/AACnS0m/BnCgenp6YsyYMfHII49ERUVFTJs2Ld566634zne+Ey0tLSc8b9++ff1eQq6qqhrMcQEATknJBuDo0aOjoqIiOjo6+qx3dHTE2LFj+z1n3LhxMXLkyKioqOhdu+iii6K9vT26urqisrKy3/NqamrSvoYAADj7lOxTwJWVlTFt2rRobW3tXevp6YnW1tZobGzs95yrrroqXnvttejp6elde/XVV2PcuHEnjD8AgLNNyQZgRERzc3OsXbs2fvCDH8TOnTvjy1/+chw+fDgWLFgQERHz5s2LO++8s/f4L3/5y/Hf//3fcfvtt8err74aGzZsiGXLlsXChQuH6y4AAJx2JfsUcETEnDlzYv/+/bFkyZJob2+PqVOnxqZNm3rfGLJ3794oL/9tA9fX18ezzz4bixYtissuuywmTJgQt99+e9xxxx3DdRcAAE67kv4cwMHmc4QA4Ozj8bvEnwIGAOB4AhAAIBkBCACQjAAEAEhGAAIAJCMAAQCSEYAAAMkIQACAZAQgAEAyAhAAIBkBCACQjAAEAEhGAAIAJCMAAQCSEYAAAMkIQACAZAQgAEAyAhAAIBkBCACQjAAEAEhGAAIAJCMAAQCSEYAAAMkIQACAZAQgAEAyAhAAIBkBCACQjAAEAEhGAAIAJCMAAQCSEYAAAMkIQACAZAQgAEAyAhAAIBkBCACQjAAEAEhGAAIAJCMAAQCSEYAAAMkIQACAZAQgAEAyAhAAIBkBCACQjAAEAEhGAAIAJCMAAQCSEYAAAMkIQACAZAQgAEAyAhAAIBkBCACQjAAEAEhGAAIAJCMAAQCSEYAAAMkIQACAZAQgAEAyAhAAIBkBCACQjAAEAEhGAAIAJCMAAQCSEYAAAMmUfACuXr06Jk6cGNXV1dHQ0BBbt279SOetW7cuysrKYvbs2YM7IADAECvpAFy/fn00NzdHS0tLbN++PaZMmRIzZ86Md95556TnvfHGG/F3f/d3cfXVVw/RpAAAQ6ekA3DlypVxyy23xIIFC+Liiy+ONWvWxLnnnhuPPfbYCc/p7u6OL33pS/H3f//3MWnSpCGcFgBgaJRsAHZ1dcW2bduiqampd628vDyamppiy5YtJzzvm9/8ZowZMyZuuummj/yzOjs7+70dOXLk97oPAACDoWQD8MCBA9Hd3R11dXV91uvq6qK9vb3fc55//vl49NFHY+3atQP6WfX19VFbW3vcbfny5ac8PwDAYBkx3AOcKQ4dOhRz586NtWvXxujRowd07r59+6Kmpua49aqqqtM1HgDAaVOyATh69OioqKiIjo6OPusdHR0xduzY445//fXX44033ohZs2b1rvX09ERExIgRI2LXrl0xefLkfn9WTU1NvwEIAHAmKtmngCsrK2PatGnR2trau9bT0xOtra3R2Nh43PEXXnhhvPjii9HW1tZ7+8IXvhDXXntttLW1RX19/VCODwAwaEr2CmBERHNzc8yfPz+mT58eM2bMiFWrVsXhw4djwYIFERExb968mDBhQixfvjyqq6vjkksu6XP++eefHxFx3DoAwNmspANwzpw5sX///liyZEm0t7fH1KlTY9OmTb1vDNm7d2+Ul5fsRVAAgH6VFUVRDPcQZ6vOzs6ora2NgwcPeg0gAJwlPH6X8GsAAQDonwAEAEhGAAIAJCMAAQCSEYAAAMkIQACAZAQgAEAyAhAAIBkBCACQjAAEAEhGAAIAJCMAAQCSEYAAAMkIQACAZAQgAEAyAhAAIBkBCACQjAAEAEhGAAIAJCMAAQCSEYAAAMkIQACAZAQgAEAyAhAAIBkBCACQjAAEAEhGAAIAJCMAAQCSEYAAAMkIQACAZAQgAEAyAhAAIBkBCACQjAAEAEhGAAIAJCMAAQCSEYAAAMkIQACAZAQgAEAyAhAAIBkBCACQjAAEAEhGAAIAJCMAAQCSEYAAAMkIQACAZAQgAEAyAhAAIBkBCACQjAAEAEhGAAIAJCMAAQCSEYAAAMkIQACAZAQgAEAyAhAAIBkBCACQjAAEAEhGAAIAJCMAAQCSEYAAAMkIQACAZAQgAEAyJR+Aq1evjokTJ0Z1dXU0NDTE1q1bT3js2rVr4+qrr45Ro0bFqFGjoqmp6aTHAwCcjUo6ANevXx/Nzc3R0tIS27dvjylTpsTMmTPjnXfe6ff4zZs3xw033BA/+9nPYsuWLVFfXx+f//zn46233hriyQEABk9ZURTFcA8xWBoaGuKzn/1sPPTQQxER0dPTE/X19fG1r30tFi9e/KHnd3d3x6hRo+Khhx6KefPmHff1zs7OqK2tjYMHD0ZNTc1pnx8AOP08fkeMGO4BBktXV1ds27Yt7rzzzt618vLyaGpqii1btnyk7/Hee+/F0aNH4+Mf//hJj+vs7Ox3vaqqKqqqqj760AAAQ6BknwI+cOBAdHd3R11dXZ/1urq6aG9v/0jf44477ojx48dHU1PTSY+rr6+P2tra427Lly8/5fkBAAZLyV4B/H2tWLEi1q1bF5s3b47q6uqTHrtv375+LyG7+gcAnIlKNgBHjx4dFRUV0dHR0We9o6Mjxo4de9JzH3jggVixYkX89Kc/jcsuu+xDf1ZNTU3a1xAAAGefkn0KuLKyMqZNmxatra29az09PdHa2hqNjY0nPO/++++PpUuXxqZNm2L69OlDMSoAwJAq2SuAERHNzc0xf/78mD59esyYMSNWrVoVhw8fjgULFkRExLx582LChAm9r9X7h3/4h1iyZEk88cQTMXHixN7XCn7sYx+Lj33sY8N2PwAATqeSDsA5c+bE/v37Y8mSJdHe3h5Tp06NTZs29b4xZO/evVFe/tuLoN/73veiq6sr/uIv/qLP92lpaYn77rtvKEcHABg0Jf05gIPN5wgBwNnH43cJvwYQAID+CUAAgGQEIABAMgIQACAZAQgAkIwABABIRgACACQjAAEAkhGAAADJCEAAgGQEIABAMgIQACAZAQgAkIwABABIRgACACQjAAEAkhGAAADJCEAAgGQEIABAMgIQACAZAQgAkIwABABIRgACACQjAAEAkhGAAADJCEAAgGQEIABAMgIQACAZAQgAkIwABABIRgACACQjAAEAkhGAAADJCEAAgGQEIABAMgIQACAZAQgAkIwABABIRgACACQjAAEAkhGAAADJCEAAgGQEIABAMgIQACAZAQgAkIwABABIRgACACQjAAEAkhGAAADJCEAAgGQEIABAMgIQACAZAQgAkIwABABIRgACACQjAAEAkhGAAADJCEAAgGQEIABAMgIQACAZAfh7OHLkSJ8/GT5HjhyJ++67z16cAezFmcV+nDnsxZnD43dEWVEUxXAPcbb61a9+FfX19bFv3774xCc+MdzjpNbZ2Rm1tbVx8ODBqKmpGe5xUrMXZxb7ceawF2cOj9+uAAIApFPyAbh69eqYOHFiVFdXR0NDQ2zduvWkx//zP/9zXHjhhVFdXR2XXnppbNy4cYgmBQAYGiUdgOvXr4/m5uZoaWmJ7du3x5QpU2LmzJnxzjvv9Hv8Cy+8EDfccEPcdNNNsWPHjpg9e3bMnj07XnrppSGeHABg8JR0AK5cuTJuueWWWLBgQVx88cWxZs2aOPfcc+Oxxx7r9/h//Md/jD/7sz+Lr3/963HRRRfF0qVL44orroiHHnpoiCcHABg8I4Z7gMHS1dUV27ZtizvvvLN3rby8PJqammLLli39nrNly5Zobm7uszZz5sx45pln+j3+/ffPvP322/1+vaqqKqqqqk5hegaqs7Ozz58MH3txZrEfZw57ceY4dOhQRPz2cTyjkg3AAwcORHd3d9TV1fVZr6uri1deeaXfc9rb2/s9vr29vd/jjx49GhERM2bMOA0TczrU19cP9wj8f/bizGI/zhz24szx/uN4RiUbgENh4sSJ8frrr8fIkSOjrKzsuK+7AggAZ56iKOLQoUMxfvz44R5l2JRsAI4ePToqKiqio6Ojz3pHR0eMHTu233PGjh07oOPLy8tj0qRJp2dgAGDI1NbWDvcIw6pk3wRSWVkZ06ZNi9bW1t61np6eaG1tjcbGxn7PaWxs7HN8RMRzzz13wuMBAM5GJXsFMCKiubk55s+fH9OnT48ZM2bEqlWr4vDhw7FgwYKIiJg3b15MmDAhli9fHhERt99+e1xzzTXx4IMPxvXXXx/r1q2LX/7yl/HII48M590AADitSjoA58yZE/v3748lS5ZEe3t7TJ06NTZt2tT7Ro+9e/dGeflvL4JeeeWV8cQTT8Q999wTd911V3zqU5+KZ555Ji655JLhugsAAKddyT4F/L6vfvWr8eabb8aRI0fiP/7jP6KhoaH3a5s3b47HH3+8z/F/+Zd/Gbt27YojR47ESy+9FHv27PGbRM4QA/mtLmvXro2rr746Ro0aFaNGjYqmpqYP3Ts+uoH+hp33rVu3LsrKymL27NmDO2AiA92Ld999NxYuXBjjxo2LqqqquOCCC/x/6jQa6H6sWrUqPv3pT8c555wT9fX1sWjRovjNb34zRNOWrp///Ocxa9asGD9+fJSVlZ3w49w+aPPmzXHFFVdEVVVVfPKTnzyuD0pOwQmtW7euqKysLB577LHiP//zP4tbbrmlOP/884uOjo5+j//FL35RVFRUFPfff3/x8ssvF/fcc08xcuTI4sUXXxziyUvPQPfixhtvLFavXl3s2LGj2LlzZ/HXf/3XRW1tbfGrX/1qiCcvPQPdi/ft2bOnmDBhQnH11VcXf/7nfz40w5a4ge7FkSNHiunTpxfXXXdd8fzzzxd79uwpNm/eXLS1tQ3x5KVpoPvxwx/+sKiqqip++MMfFnv27CmeffbZYty4ccWiRYuGePLSs3HjxuLuu+8unnrqqSIiiqeffvqkx+/evbs499xzi+bm5uLll18uvvvd7xYVFRXFpk2bhmbgYSAAT2LGjBnFwoULe/+9u7u7GD9+fLF8+fJ+j//iF79YXH/99X3WGhoair/5m78Z1DkzGOhe/K5jx44V5513XvGDH/xgsEZM41T24tixY8WVV15ZfP/73y/mz58vAE+Tge7F9773vWLSpElFV1fXUI2YykD3Y+HChcWf/Mmf9Flrbm4urrrqqkGdM5uPEoDf+MY3is985jN91ubMmVPMnDlzECcbXiX/FPCpev83iTQ1NfWufZTfJPLB4yP+7zeJnOh4PppT2Yvf9d5778XRo0fj4x//+GCNmcKp7sU3v/nNGDNmTNx0001DMWYKp7IXP/nJT6KxsTEWLlwYdXV1cckll8SyZcuiu7t7qMYuWaeyH1deeWVs27at92ni3bt3x8aNG+O6664bkpn5rYyP3yX9JpDfx1D8JhE+mlPZi991xx13xPjx44/7C87AnMpePP/88/Hoo49GW1vbEEyYx6nsxe7du+Pf/u3f4ktf+lJs3LgxXnvttfjKV74SR48ejZaWlqEYu2Sdyn7ceOONceDAgfjc5z4XRVHEsWPH4rbbbou77rprKEbmA070+N3Z2Rm//vWv45xzzhmmyQaPK4CUvBUrVsS6devi6aefjurq6uEeJ5VDhw7F3LlzY+3atTF69OjhHie9np6eGDNmTDzyyCMxbdq0mDNnTtx9992xZs2a4R4tpc2bN8eyZcvi4Ycfju3bt8dTTz0VGzZsiKVLlw73aCTgCuAJDMVvEuGjOZW9eN8DDzwQK1asiJ/+9Kdx2WWXDeaYKQx0L15//fV44403YtasWb1rPT09ERExYsSI2LVrV0yePHlwhy5Rp/L3Yty4cTFy5MioqKjoXbvooouivb09urq6orKyclBnLmWnsh/33ntvzJ07N26++eaIiLj00kvj8OHDceutt8bdd9/d52PKGFwnevyuqakpyat/Ea4AnpDfJHLmOJW9iIi4//77Y+nSpbFp06aYPn36UIxa8ga6FxdeeGG8+OKL0dbW1nv7whe+ENdee220tbVFfX39UI5fUk7l78VVV10Vr732Wm+ER0S8+uqrMW7cOPH3ezqV/XjvvfeOi7z347woisEbluOkfPwe7nehnMnWrVtXVFVVFY8//njx8ssvF7feemtx/vnnF+3t7UVRFMXcuXOLxYsX9x7/i1/8ohgxYkTxwAMPFDt37ixaWlp8DMxpMtC9WLFiRVFZWVk8+eSTxdtvv917O3To0HDdhZIx0L34Xd4FfPoMdC/27t1bnHfeecVXv/rVYteuXcW//Mu/FGPGjCm+9a1vDdddKCkD3Y+WlpbivPPOK370ox8Vu3fvLv71X/+1mDx5cvHFL35xuO5CyTh06FCxY8eOYseOHUVEFCtXrix27NhRvPnmm0VRFMXixYuLuXPn9h7//sfAfP3rXy927txZrF692sfAZPfd7363+MM//MOisrKymDFjRvHv//7vvV+75pprivnz5/c5/sc//nFxwQUXFJWVlcVnPvOZYsOGDUM8cekayF780R/9URERx91aWlqGfvASNNC/Fx8kAE+vge7FCy+8UDQ0NBRVVVXFpEmTim9/+9vFsWPHhnjq0jWQ/Th69Ghx3333FZMnTy6qq6uL+vr64itf+UrxP//zP0M/eIn52c9+1u9jwPv//efPn19cc801x50zderUorKyspg0aVLxT//0T0M+91AqKwrXmQEAMvEaQACAZAQgAEAyAhAAIBkBCACQjAAEAEhGAAIAJCMAAQCSEYAAAMkIQACAZAQgAEAyAhAAIBkBCACQjAAEAEhGAAIAJCMAAQCSEYAAAMkIQACAZAQgAEAyAhAAIBkBCACQjAAEAEhGAAIAJCMAAQCSEYAAAMkIQACAZAQgAEAyAhAAIBkBCACQjAAEAEhGAAIAJCMAAQCSEYAAAMkIQACAZAQgAEAyAhAAIBkBCACQzP8D+0nYg1q7sAsAAAAASUVORK5CYII=' width=640.0/>\n",
       "            </div>\n",
       "        "
      ],
      "text/plain": [
       "Canvas(toolbar=Toolbar(toolitems=[('Home', 'Reset original view', 'home', 'home'), ('Back', 'Back to previous …"
      ]
     },
     "metadata": {},
     "output_type": "display_data"
    }
   ],
   "source": [
    "fig,ax = plt.subplots()\n",
    "ax.scatter(fits_arm1.arm_length, fits_arm1.gamma)\n",
    "ax.set_ylim(-1,1)"
   ]
  },
  {
   "cell_type": "code",
   "execution_count": 92,
   "metadata": {},
   "outputs": [
    {
     "ename": "NameError",
     "evalue": "name 'arm1' is not defined",
     "output_type": "error",
     "traceback": [
      "\u001b[0;31m---------------------------------------------------------------------------\u001b[0m",
      "\u001b[0;31mNameError\u001b[0m                                 Traceback (most recent call last)",
      "\u001b[0;32m<ipython-input-92-bc0a71f77a6b>\u001b[0m in \u001b[0;36m<module>\u001b[0;34m()\u001b[0m\n\u001b[1;32m      1\u001b[0m \u001b[0mfig\u001b[0m\u001b[0;34m,\u001b[0m \u001b[0max\u001b[0m \u001b[0;34m=\u001b[0m \u001b[0mplt\u001b[0m\u001b[0;34m.\u001b[0m\u001b[0msubplots\u001b[0m\u001b[0;34m(\u001b[0m\u001b[0;34m)\u001b[0m\u001b[0;34m\u001b[0m\u001b[0m\n\u001b[0;32m----> 2\u001b[0;31m \u001b[0max\u001b[0m\u001b[0;34m.\u001b[0m\u001b[0mplot\u001b[0m\u001b[0;34m(\u001b[0m\u001b[0marm1\u001b[0m\u001b[0;34m.\u001b[0m\u001b[0mx_tracing\u001b[0m\u001b[0;34m,\u001b[0m \u001b[0marm1\u001b[0m\u001b[0;34m.\u001b[0m\u001b[0my_tracing\u001b[0m\u001b[0;34m)\u001b[0m\u001b[0;34m\u001b[0m\u001b[0m\n\u001b[0m\u001b[1;32m      3\u001b[0m \u001b[0max\u001b[0m\u001b[0;34m.\u001b[0m\u001b[0mplot\u001b[0m\u001b[0;34m(\u001b[0m\u001b[0marm2\u001b[0m\u001b[0;34m.\u001b[0m\u001b[0mx_tracing\u001b[0m\u001b[0;34m,\u001b[0m \u001b[0marm2\u001b[0m\u001b[0;34m.\u001b[0m\u001b[0my_tracing\u001b[0m\u001b[0;34m)\u001b[0m\u001b[0;34m\u001b[0m\u001b[0m\n\u001b[1;32m      4\u001b[0m \u001b[0max\u001b[0m\u001b[0;34m.\u001b[0m\u001b[0mset_xlim\u001b[0m\u001b[0;34m(\u001b[0m\u001b[0;34m-\u001b[0m\u001b[0;36m20\u001b[0m\u001b[0;34m,\u001b[0m\u001b[0;36m20\u001b[0m\u001b[0;34m)\u001b[0m\u001b[0;34m\u001b[0m\u001b[0m\n\u001b[1;32m      5\u001b[0m \u001b[0max\u001b[0m\u001b[0;34m.\u001b[0m\u001b[0mset_ylim\u001b[0m\u001b[0;34m(\u001b[0m\u001b[0;34m-\u001b[0m\u001b[0;36m20\u001b[0m\u001b[0;34m,\u001b[0m\u001b[0;36m20\u001b[0m\u001b[0;34m)\u001b[0m\u001b[0;34m\u001b[0m\u001b[0m\n",
      "\u001b[0;31mNameError\u001b[0m: name 'arm1' is not defined"
     ]
    },
    {
     "data": {
      "application/vnd.jupyter.widget-view+json": {
       "model_id": "54e4bfa07f1840479291f091ae689684",
       "version_major": 2,
       "version_minor": 0
      },
      "image/png": "[encoded data removed]",
      "text/html": [
       "\n",
       "            <div style=\"display: inline-block;\">\n",
       "                <div class=\"jupyter-widgets widget-label\" style=\"text-align: center;\">\n",
       "                    Figure\n",
       "                </div>\n",
       "                <img src='data:image/png;base64,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' width=640.0/>\n",
       "            </div>\n",
       "        "
      ],
      "text/plain": [
       "Canvas(toolbar=Toolbar(toolitems=[('Home', 'Reset original view', 'home', 'home'), ('Back', 'Back to previous …"
      ]
     },
     "metadata": {},
     "output_type": "display_data"
    }
   ],
   "source": [
    "fig, ax = plt.subplots()\n",
    "ax.plot(arm1.x_tracing, arm1.y_tracing)\n",
    "ax.plot(arm2.x_tracing, arm2.y_tracing)\n",
    "ax.set_xlim(-20,20)\n",
    "ax.set_ylim(-20,20)\n",
    "ax.set_aspect('equal')"
   ]
  },
  {
   "cell_type": "code",
   "execution_count": 126,
   "metadata": {},
   "outputs": [],
   "source": [
    "#df_fits.head\n",
    "#print(df_fits[\"amplitude\"], df_fits[\"center\"], df_fits[\"sigma\"],  df_fits[\"gamma\"], df_fits[\"x_tracing\"], df_fits[\"y_tracing\"], df_fits[\"x_max\"], df_fits[\"y_max\"], df_fits[\"w1\"], df_fits[\"w2\"], df_fits[\"arm\"], df_fits[\"fractured\"])\n",
    "#print(df_fits[\"w1\"], df_fits[\"w2\"])\n",
    "#df_fits.to_csv('Arm_width_rho.csv')"
   ]
  },
  {
   "cell_type": "code",
   "execution_count": 127,
   "metadata": {},
   "outputs": [],
   "source": [
    "df_print = pd.DataFrame(zip(df_fits.amplitude, df_fits.center, df_fits.sigma, df_fits.gamma, df_fits.x_tracing, df_fits.y_tracing, df_fits.x_max, df_fits.y_max, df_fits.w1, df_fits.w2, df_fits.arm, df_fits.fractured, df_fits.id_tracing))\n"
   ]
  },
  {
   "cell_type": "code",
   "execution_count": 128,
   "metadata": {},
   "outputs": [],
   "source": [
    "df_print.to_csv('Arm2_widths_rho_adicionales_Ago4.csv')"
   ]
  },
  {
   "cell_type": "code",
   "execution_count": null,
   "metadata": {},
   "outputs": [],
   "source": []
  },
  {
   "cell_type": "code",
   "execution_count": null,
   "metadata": {},
   "outputs": [],
   "source": []
  }
 ],
 "metadata": {
  "kernelspec": {
   "display_name": "Python 3",
   "language": "python",
   "name": "python3"
  },
  "language_info": {
   "codemirror_mode": {
    "name": "ipython",
    "version": 3
   },
   "file_extension": ".py",
   "mimetype": "text/x-python",
   "name": "python",
   "nbconvert_exporter": "python",
   "pygments_lexer": "ipython3",
   "version": "3.7.0"
  }
 },
 "nbformat": 4,
 "nbformat_minor": 5
}
