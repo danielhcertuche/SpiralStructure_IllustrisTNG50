{
 "cells": [
  {
   "cell_type": "code",
   "execution_count": 1,
   "metadata": {},
   "outputs": [
    {
     "name": "stdout",
     "output_type": "stream",
     "text": [
      "Requirement already satisfied: shapely in /home/daniel/anaconda3/lib/python3.7/site-packages (2.0.6)\n",
      "Requirement already satisfied: numpy<3,>=1.14 in /home/daniel/anaconda3/lib/python3.7/site-packages (from shapely) (1.21.6)\n",
      "\u001b[33mDEPRECATION: pandas 0.23.4 has a non-standard dependency specifier pytz>=2011k. pip 24.1 will enforce this behaviour change. A possible replacement is to upgrade to a newer version of pandas or contact the author to suggest that they release a version with a conforming dependency specifiers. Discussion can be found at https://github.com/pypa/pip/issues/12063\u001b[0m\u001b[33m\n",
      "\u001b[0m\u001b[33mDEPRECATION: unyt 2.8.0 has a non-standard dependency specifier numpy>=\"1.13.0\". pip 24.1 will enforce this behaviour change. A possible replacement is to upgrade to a newer version of unyt or contact the author to suggest that they release a version with a conforming dependency specifiers. Discussion can be found at https://github.com/pypa/pip/issues/12063\u001b[0m\u001b[33m\n",
      "\u001b[0m"
     ]
    }
   ],
   "source": [
    "import pandas as pd\n",
    "!pip install shapely"
   ]
  },
  {
   "cell_type": "code",
   "execution_count": 5,
   "metadata": {},
   "outputs": [],
   "source": [
    "%run ROUTINES/gauss_asym.py"
   ]
  },
  {
   "cell_type": "code",
   "execution_count": 6,
   "metadata": {},
   "outputs": [],
   "source": [
    "%matplotlib widget"
   ]
  },
  {
   "cell_type": "markdown",
   "metadata": {},
   "source": [
    "## Load fit info"
   ]
  },
  {
   "cell_type": "code",
   "execution_count": 8,
   "metadata": {},
   "outputs": [],
   "source": [
    "#df_fits = pd.read_csv('fit_info/fit_sobrevivientes_rho_arm2.csv')\n",
    "id_halo='17'\n",
    "df_fits = pd.read_csv(f'FIT_INFO/fit_params_rho_arm1_adicionales_HALO{id_halo}_.csv')\n",
    "df_fits['x'] = df_fits.apply(lambda row: convert_from_listAsAString_to_listOfFloats(row.x), axis = 1)\n",
    "df_fits['y'] = df_fits.apply(lambda row: convert_from_listAsAString_to_listOfFloats(row.y), axis = 1)"
   ]
  },
  {
   "cell_type": "code",
   "execution_count": 9,
   "metadata": {},
   "outputs": [
    {
     "data": {
      "text/html": [
       "<div>\n",
       "<style scoped>\n",
       "    .dataframe tbody tr th:only-of-type {\n",
       "        vertical-align: middle;\n",
       "    }\n",
       "\n",
       "    .dataframe tbody tr th {\n",
       "        vertical-align: top;\n",
       "    }\n",
       "\n",
       "    .dataframe thead th {\n",
       "        text-align: right;\n",
       "    }\n",
       "</style>\n",
       "<table border=\"1\" class=\"dataframe\">\n",
       "  <thead>\n",
       "    <tr style=\"text-align: right;\">\n",
       "      <th></th>\n",
       "      <th>amplitude</th>\n",
       "      <th>center</th>\n",
       "      <th>delta</th>\n",
       "      <th>fractured</th>\n",
       "      <th>gamma</th>\n",
       "      <th>id_tracing</th>\n",
       "      <th>sigma</th>\n",
       "      <th>stderr_amplitude</th>\n",
       "      <th>stderr_center</th>\n",
       "      <th>stderr_gamma</th>\n",
       "      <th>stderr_sigma</th>\n",
       "      <th>x</th>\n",
       "      <th>x_tracing</th>\n",
       "      <th>y</th>\n",
       "      <th>y_tracing</th>\n",
       "    </tr>\n",
       "  </thead>\n",
       "  <tbody>\n",
       "    <tr>\n",
       "      <th>0</th>\n",
       "      <td>0.000011</td>\n",
       "      <td>4.879365</td>\n",
       "      <td>0.05</td>\n",
       "      <td>False</td>\n",
       "      <td>0.686374</td>\n",
       "      <td>14.0</td>\n",
       "      <td>0.393644</td>\n",
       "      <td>0.000001</td>\n",
       "      <td>0.889328</td>\n",
       "      <td>4.443072</td>\n",
       "      <td>0.49581</td>\n",
       "      <td>[4.298750736065823, 4.480197704769558, 4.59564...</td>\n",
       "      <td>-4.902597</td>\n",
       "      <td>[2.877623224295711e-06, 4.410360268359912e-06,...</td>\n",
       "      <td>-0.813312</td>\n",
       "    </tr>\n",
       "  </tbody>\n",
       "</table>\n",
       "</div>"
      ],
      "text/plain": [
       "   amplitude    center  delta  fractured     gamma  id_tracing     sigma  \\\n",
       "0   0.000011  4.879365   0.05      False  0.686374        14.0  0.393644   \n",
       "\n",
       "   stderr_amplitude  stderr_center  stderr_gamma  stderr_sigma  \\\n",
       "0          0.000001       0.889328      4.443072       0.49581   \n",
       "\n",
       "                                                   x  x_tracing  \\\n",
       "0  [4.298750736065823, 4.480197704769558, 4.59564...  -4.902597   \n",
       "\n",
       "                                                   y  y_tracing  \n",
       "0  [2.877623224295711e-06, 4.410360268359912e-06,...  -0.813312  "
      ]
     },
     "execution_count": 9,
     "metadata": {},
     "output_type": "execute_result"
    }
   ],
   "source": [
    "df_fits.tail(3)"
   ]
  },
  {
   "cell_type": "code",
   "execution_count": 10,
   "metadata": {},
   "outputs": [],
   "source": [
    "params = df_fits.iloc[0] # Para investigar los resultado del fit de un punto, llamamos su fila en el DataFrame"
   ]
  },
  {
   "cell_type": "code",
   "execution_count": 11,
   "metadata": {},
   "outputs": [
    {
     "data": {
      "text/plain": [
       "amplitude                                                 1.13657e-05\n",
       "center                                                        4.87937\n",
       "delta                                                            0.05\n",
       "fractured                                                       False\n",
       "gamma                                                        0.686374\n",
       "id_tracing                                                         14\n",
       "sigma                                                        0.393644\n",
       "stderr_amplitude                                          1.36373e-06\n",
       "stderr_center                                                0.889328\n",
       "stderr_gamma                                                  4.44307\n",
       "stderr_sigma                                                  0.49581\n",
       "x                   [4.298750736065823, 4.480197704769558, 4.59564...\n",
       "x_tracing                                                     -4.9026\n",
       "y                   [2.877623224295711e-06, 4.410360268359912e-06,...\n",
       "y_tracing                                                   -0.813312\n",
       "Name: 0, dtype: object"
      ]
     },
     "execution_count": 11,
     "metadata": {},
     "output_type": "execute_result"
    }
   ],
   "source": [
    "params"
   ]
  },
  {
   "cell_type": "code",
   "execution_count": 12,
   "metadata": {},
   "outputs": [],
   "source": [
    "#import numpy as np\n",
    "\n",
    "# Convertir las columnas 'x' y 'y' de cadenas a arrays numéricos\n",
    "#params['x'] = np.array(params['x'].split('\\\\n'), dtype=float)\n",
    "#params['y'] = np.array(params['y'].split('\\\\n'), dtype=float)\n",
    "\n",
    "# Verificar los resultados\n",
    "#print(\"X values:\", params['x'])\n",
    "#print(\"Y values:\", params['y'])\n"
   ]
  },
  {
   "cell_type": "code",
   "execution_count": 13,
   "metadata": {},
   "outputs": [],
   "source": [
    "import matplotlib as mpl\n",
    "mpl.rcParams['text.usetex'] = False\n"
   ]
  },
  {
   "cell_type": "code",
   "execution_count": 14,
   "metadata": {},
   "outputs": [],
   "source": [
    "from shapely.geometry import LineString\n",
    "\n",
    "def find_widths_of_skewed_gaussian_dani(params, dx=0.001):\n",
    "    # Evaluar el modelo ajustado\n",
    "    fitted_model = eval_fitted_model_with_given_params(params, dx=dx)\n",
    "    x_eval = fitted_model['x_eval']\n",
    "    y_eval = fitted_model['y_eval']\n",
    "\n",
    "    # Encuentra el máximo\n",
    "    x_max, y_max = find_maximum(x_eval, y_eval)\n",
    "\n",
    "    # Generar la línea horizontal en y = y_max / 2\n",
    "    xs_line = np.arange(np.min(x_eval), np.max(x_eval), 0.01)\n",
    "    ys_line = np.full(len(xs_line), 0.5 * y_max)\n",
    "\n",
    "    # Crear LineString para las dos líneas\n",
    "    first_line = LineString(np.column_stack((x_eval, y_eval)))\n",
    "    second_line = LineString(np.column_stack((xs_line, ys_line)))\n",
    "    intersection = first_line.intersection(second_line)\n",
    "\n",
    "    points_intercept = []\n",
    "\n",
    "    # Si la intersección es un solo punto\n",
    "    if intersection.geom_type == 'Point':\n",
    "        points_intercept = [(intersection.x, intersection.y)]\n",
    "    # Si la intersección es una colección de puntos\n",
    "    elif hasattr(intersection, 'geoms'):\n",
    "        points_intercept = [(point.x, point.y) for point in intersection.geoms]\n",
    "    # Si no hay intersección\n",
    "    elif intersection.is_empty:\n",
    "        return {'x_max': x_max, 'y_max': y_max, 'w1': np.nan, 'w2': np.nan}\n",
    "\n",
    "    # Asegurarse de que hay suficientes puntos de intersección\n",
    "    if len(points_intercept) >= 2:\n",
    "        w1 = x_max - points_intercept[1][0]\n",
    "        w2 = points_intercept[0][0] - x_max\n",
    "    else:\n",
    "        w1, w2 = np.nan, np.nan  # Si no hay suficientes intersecciones\n",
    "\n",
    "    return {'x_max': x_max, 'y_max': y_max, 'w1': w1, 'w2': w2}\n",
    "\n",
    "def plot_fit_and_widths_dani(params, ax, dx=0.001):\n",
    "    width_info = find_widths_of_skewed_gaussian_dani(params, dx=dx)\n",
    "\n",
    "    dict_eval = eval_fitted_model_with_given_params(params, dx=dx)\n",
    "    x_eval = dict_eval['x_eval']\n",
    "    y_eval = dict_eval['y_eval']\n",
    "\n",
    "    # Plotea la función ajustada\n",
    "    ax.plot(x_eval, y_eval, lw=2.5, label='Fitted Function')\n",
    "\n",
    "    # Máximos y anchos\n",
    "    ax.axvline(x=width_info['x_max'], color='red', lw=1.5, label='x_max = {:.3f}'.format(width_info['x_max']))\n",
    "    ax.axhline(y=width_info['y_max'], ls='--', color='k', label='y_max = {:.2e}'.format(width_info['y_max']))\n",
    "    ax.axhline(y=0.5 * width_info['y_max'], color='green', lw=1.5, label='y_max / 2 = {:.2e}'.format(0.5 * width_info['y_max']))\n",
    "\n",
    "    # Líneas verticales para w1 y w2\n",
    "    ax.axvline(x=np.abs(width_info['x_max'] - width_info['w1']), color='magenta', lw=1.5, ls='--', label='w1 = {:.3f}'.format(width_info['w1']))\n",
    "    ax.axvline(x=np.abs(width_info['x_max'] + width_info['w2']), color='purple', lw=1.5, ls='--', label='w2 = {:.3f}'.format(width_info['w2']))\n",
    "\n",
    "    # Ajustar etiquetas de los ticks\n",
    "    xt = ax.get_xticks()\n",
    "    tick1 = '{:.2f}'.format(np.abs(width_info['x_max'] - width_info['w1']))\n",
    "    tick2 = '{:.2f}'.format(np.abs(width_info['x_max'] + width_info['w2']))\n",
    "    xt = np.append(xt, [float(tick1), float(tick2)])\n",
    "\n",
    "    ax.set_xticks(xt)\n",
    "    ax.set_xticklabels(xt)\n",
    "\n",
    "    ax.grid(alpha=0.5, lw=1, ls='--')\n",
    "    ax.legend(loc='upper left')\n",
    "\n"
   ]
  },
  {
   "cell_type": "code",
   "execution_count": 15,
   "metadata": {},
   "outputs": [
    {
     "data": {
      "text/plain": [
       "[4.298750736065823,\n",
       " 4.480197704769558,\n",
       " 4.595641102659986,\n",
       " 4.626711406630787,\n",
       " 4.695825686772351,\n",
       " 4.726516453617603,\n",
       " 4.783991146206907,\n",
       " 4.831536720727768,\n",
       " 4.891709531251387,\n",
       " 4.927783004590375,\n",
       " 4.99639907392481,\n",
       " 5.046018519909557,\n",
       " 5.096894050089259,\n",
       " 5.141744518621398,\n",
       " 5.198349486370291,\n",
       " 5.234137359813754,\n",
       " 5.281849701605776,\n",
       " 5.3062249448493,\n",
       " 5.380328171646238,\n",
       " 5.433253583718268,\n",
       " 5.495549161831466]"
      ]
     },
     "execution_count": 15,
     "metadata": {},
     "output_type": "execute_result"
    }
   ],
   "source": [
    "params['x']"
   ]
  },
  {
   "cell_type": "code",
   "execution_count": 16,
   "metadata": {},
   "outputs": [
    {
     "data": {
      "application/vnd.jupyter.widget-view+json": {
       "model_id": "a50e2071dade4506bb9c17c1ff9b2404",
       "version_major": 2,
       "version_minor": 0
      },
      "image/png": "[encoded data removed]",
      "text/html": [
       "\n",
       "            <div style=\"display: inline-block;\">\n",
       "                <div class=\"jupyter-widgets widget-label\" style=\"text-align: center;\">\n",
       "                    Figure\n",
       "                </div>\n",
       "                <img src='data:image/png;base64,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' width=640.0/>\n",
       "            </div>\n",
       "        "
      ],
      "text/plain": [
       "Canvas(toolbar=Toolbar(toolitems=[('Home', 'Reset original view', 'home', 'home'), ('Back', 'Back to previous …"
      ]
     },
     "metadata": {},
     "output_type": "display_data"
    }
   ],
   "source": [
    "\n",
    "import matplotlib as mpl\n",
    "mpl.rcParams['text.usetex'] = False\n",
    "\n",
    "# Graficamos el fit y los puntos con los que se hizo el fit\n",
    "fig, ax = plt.subplots()\n",
    "ax.scatter(params.x, params.y, color = 'C0', marker = 'x') # Envoltorio\n",
    "model_eval = eval_fitted_model_with_given_params(params, dx = 0.01) # Funcion en gauss_asym.py\n",
    "x_eval = model_eval['x_eval']\n",
    "y_eval = model_eval['y_eval']\n",
    "ax.plot(x_eval, y_eval,color = 'C1'); # Fit"
   ]
  },
  {
   "cell_type": "code",
   "execution_count": null,
   "metadata": {},
   "outputs": [],
   "source": []
  },
  {
   "cell_type": "markdown",
   "metadata": {},
   "source": [
    "## Calculate width of a fit"
   ]
  },
  {
   "cell_type": "code",
   "execution_count": 17,
   "metadata": {},
   "outputs": [],
   "source": [
    "%run ROUTINES/gauss_asym.py"
   ]
  },
  {
   "cell_type": "code",
   "execution_count": 18,
   "metadata": {},
   "outputs": [],
   "source": [
    "dx = 0.001 # Discretizacion para mapear la gaussiana"
   ]
  },
  {
   "cell_type": "code",
   "execution_count": 19,
   "metadata": {},
   "outputs": [],
   "source": [
    "width_info = find_widths_of_skewed_gaussian_dani(params, dx = dx) # Funcion en gauss_asym.py"
   ]
  },
  {
   "cell_type": "code",
   "execution_count": 20,
   "metadata": {},
   "outputs": [
    {
     "data": {
      "text/plain": [
       "{'x_max': 5.04675073606552,\n",
       " 'y_max': 1.2939163502216605e-05,\n",
       " 'w1': 0.4070495618020171,\n",
       " 'w2': 0.41721007411450817}"
      ]
     },
     "execution_count": 20,
     "metadata": {},
     "output_type": "execute_result"
    }
   ],
   "source": [
    "width_info # Retorna la ubicacion del maximo (x_max, y_max) y el ancho a la izquierda (w1) y a la derecha (w2)"
   ]
  },
  {
   "cell_type": "code",
   "execution_count": 21,
   "metadata": {},
   "outputs": [],
   "source": [
    "#fig, ax = plt.subplots(figsize=(10,5))\n",
    "#plot_fit_and_widths(params, ax, dx = dx) # Funcion en gauss_asym.py"
   ]
  },
  {
   "cell_type": "code",
   "execution_count": 22,
   "metadata": {},
   "outputs": [],
   "source": [
    "# Podemos aplicar find_widths_of_skewed_gaussian() a toda la tabla con la informacion de los parametros \n",
    "\n",
    "df_fits['width_info'] = df_fits.apply(lambda row: find_widths_of_skewed_gaussian_dani(row), axis = 1)\n",
    "df_fits['x_max'] = df_fits.apply(lambda row: row.width_info['x_max'], axis = 1)\n",
    "df_fits['y_max'] = df_fits.apply(lambda row: row.width_info['y_max'], axis = 1)\n",
    "df_fits['w1'] = df_fits.apply(lambda row: row.width_info['w1'], axis = 1)\n",
    "df_fits['w2'] = df_fits.apply(lambda row: row.width_info['w2'], axis = 1)"
   ]
  },
  {
   "cell_type": "code",
   "execution_count": 23,
   "metadata": {},
   "outputs": [
    {
     "data": {
      "text/html": [
       "<div>\n",
       "<style scoped>\n",
       "    .dataframe tbody tr th:only-of-type {\n",
       "        vertical-align: middle;\n",
       "    }\n",
       "\n",
       "    .dataframe tbody tr th {\n",
       "        vertical-align: top;\n",
       "    }\n",
       "\n",
       "    .dataframe thead th {\n",
       "        text-align: right;\n",
       "    }\n",
       "</style>\n",
       "<table border=\"1\" class=\"dataframe\">\n",
       "  <thead>\n",
       "    <tr style=\"text-align: right;\">\n",
       "      <th></th>\n",
       "      <th>amplitude</th>\n",
       "      <th>center</th>\n",
       "      <th>delta</th>\n",
       "      <th>fractured</th>\n",
       "      <th>gamma</th>\n",
       "      <th>id_tracing</th>\n",
       "      <th>sigma</th>\n",
       "      <th>stderr_amplitude</th>\n",
       "      <th>stderr_center</th>\n",
       "      <th>stderr_gamma</th>\n",
       "      <th>stderr_sigma</th>\n",
       "      <th>x</th>\n",
       "      <th>x_tracing</th>\n",
       "      <th>y</th>\n",
       "      <th>y_tracing</th>\n",
       "      <th>width_info</th>\n",
       "      <th>x_max</th>\n",
       "      <th>y_max</th>\n",
       "      <th>w1</th>\n",
       "      <th>w2</th>\n",
       "    </tr>\n",
       "  </thead>\n",
       "  <tbody>\n",
       "    <tr>\n",
       "      <th>0</th>\n",
       "      <td>0.000011</td>\n",
       "      <td>4.879365</td>\n",
       "      <td>0.05</td>\n",
       "      <td>False</td>\n",
       "      <td>0.686374</td>\n",
       "      <td>14.0</td>\n",
       "      <td>0.393644</td>\n",
       "      <td>0.000001</td>\n",
       "      <td>0.889328</td>\n",
       "      <td>4.443072</td>\n",
       "      <td>0.49581</td>\n",
       "      <td>[4.298750736065823, 4.480197704769558, 4.59564...</td>\n",
       "      <td>-4.902597</td>\n",
       "      <td>[2.877623224295711e-06, 4.410360268359912e-06,...</td>\n",
       "      <td>-0.813312</td>\n",
       "      <td>{'x_max': 5.04675073606552, 'y_max': 1.2939163...</td>\n",
       "      <td>5.046751</td>\n",
       "      <td>0.000013</td>\n",
       "      <td>0.40705</td>\n",
       "      <td>0.41721</td>\n",
       "    </tr>\n",
       "  </tbody>\n",
       "</table>\n",
       "</div>"
      ],
      "text/plain": [
       "   amplitude    center  delta  fractured     gamma  id_tracing     sigma  \\\n",
       "0   0.000011  4.879365   0.05      False  0.686374        14.0  0.393644   \n",
       "\n",
       "   stderr_amplitude  stderr_center  stderr_gamma  stderr_sigma  \\\n",
       "0          0.000001       0.889328      4.443072       0.49581   \n",
       "\n",
       "                                                   x  x_tracing  \\\n",
       "0  [4.298750736065823, 4.480197704769558, 4.59564...  -4.902597   \n",
       "\n",
       "                                                   y  y_tracing  \\\n",
       "0  [2.877623224295711e-06, 4.410360268359912e-06,...  -0.813312   \n",
       "\n",
       "                                          width_info     x_max     y_max  \\\n",
       "0  {'x_max': 5.04675073606552, 'y_max': 1.2939163...  5.046751  0.000013   \n",
       "\n",
       "        w1       w2  \n",
       "0  0.40705  0.41721  "
      ]
     },
     "execution_count": 23,
     "metadata": {},
     "output_type": "execute_result"
    }
   ],
   "source": [
    "\n",
    "\n",
    "df_fits.head(10)"
   ]
  },
  {
   "cell_type": "code",
   "execution_count": 24,
   "metadata": {},
   "outputs": [
    {
     "data": {
      "text/html": [
       "<div>\n",
       "<style scoped>\n",
       "    .dataframe tbody tr th:only-of-type {\n",
       "        vertical-align: middle;\n",
       "    }\n",
       "\n",
       "    .dataframe tbody tr th {\n",
       "        vertical-align: top;\n",
       "    }\n",
       "\n",
       "    .dataframe thead th {\n",
       "        text-align: right;\n",
       "    }\n",
       "</style>\n",
       "<table border=\"1\" class=\"dataframe\">\n",
       "  <thead>\n",
       "    <tr style=\"text-align: right;\">\n",
       "      <th></th>\n",
       "      <th>amplitude</th>\n",
       "      <th>center</th>\n",
       "      <th>delta</th>\n",
       "      <th>fractured</th>\n",
       "      <th>gamma</th>\n",
       "      <th>id_tracing</th>\n",
       "      <th>sigma</th>\n",
       "      <th>stderr_amplitude</th>\n",
       "      <th>stderr_center</th>\n",
       "      <th>stderr_gamma</th>\n",
       "      <th>stderr_sigma</th>\n",
       "      <th>x</th>\n",
       "      <th>x_tracing</th>\n",
       "      <th>y</th>\n",
       "      <th>y_tracing</th>\n",
       "      <th>width_info</th>\n",
       "      <th>x_max</th>\n",
       "      <th>y_max</th>\n",
       "      <th>w1</th>\n",
       "      <th>w2</th>\n",
       "    </tr>\n",
       "  </thead>\n",
       "  <tbody>\n",
       "    <tr>\n",
       "      <th>0</th>\n",
       "      <td>0.000011</td>\n",
       "      <td>4.879365</td>\n",
       "      <td>0.05</td>\n",
       "      <td>False</td>\n",
       "      <td>0.686374</td>\n",
       "      <td>14.0</td>\n",
       "      <td>0.393644</td>\n",
       "      <td>0.000001</td>\n",
       "      <td>0.889328</td>\n",
       "      <td>4.443072</td>\n",
       "      <td>0.49581</td>\n",
       "      <td>[4.298750736065823, 4.480197704769558, 4.59564...</td>\n",
       "      <td>-4.902597</td>\n",
       "      <td>[2.877623224295711e-06, 4.410360268359912e-06,...</td>\n",
       "      <td>-0.813312</td>\n",
       "      <td>{'x_max': 5.04675073606552, 'y_max': 1.2939163...</td>\n",
       "      <td>5.046751</td>\n",
       "      <td>0.000013</td>\n",
       "      <td>0.40705</td>\n",
       "      <td>0.41721</td>\n",
       "    </tr>\n",
       "  </tbody>\n",
       "</table>\n",
       "</div>"
      ],
      "text/plain": [
       "   amplitude    center  delta  fractured     gamma  id_tracing     sigma  \\\n",
       "0   0.000011  4.879365   0.05      False  0.686374        14.0  0.393644   \n",
       "\n",
       "   stderr_amplitude  stderr_center  stderr_gamma  stderr_sigma  \\\n",
       "0          0.000001       0.889328      4.443072       0.49581   \n",
       "\n",
       "                                                   x  x_tracing  \\\n",
       "0  [4.298750736065823, 4.480197704769558, 4.59564...  -4.902597   \n",
       "\n",
       "                                                   y  y_tracing  \\\n",
       "0  [2.877623224295711e-06, 4.410360268359912e-06,...  -0.813312   \n",
       "\n",
       "                                          width_info     x_max     y_max  \\\n",
       "0  {'x_max': 5.04675073606552, 'y_max': 1.2939163...  5.046751  0.000013   \n",
       "\n",
       "        w1       w2  \n",
       "0  0.40705  0.41721  "
      ]
     },
     "execution_count": 24,
     "metadata": {},
     "output_type": "execute_result"
    }
   ],
   "source": [
    "df_fits"
   ]
  },
  {
   "cell_type": "markdown",
   "metadata": {},
   "source": [
    "## Results"
   ]
  },
  {
   "cell_type": "code",
   "execution_count": 26,
   "metadata": {},
   "outputs": [],
   "source": [
    "df_tracing_arm1 = pd.read_csv(f'DATA/processed/TracingPoints/arm_tracing_{id_halo}_arm1_rho_dani.csv')\n",
    "df_tracing_arm1['arm'] = [1]*len(df_tracing_arm1)\n",
    "df_tracing_arm1['id'] = np.arange(0,len(df_tracing_arm1),1)\n",
    "\n",
    "df_tracing_arm2 = pd.read_csv(f'DATA/processed/TracingPoints/arm_tracing_{id_halo}_arm2_rho_dani.csv')\n",
    "df_tracing_arm2['arm'] = [2]*len(df_tracing_arm2)\n",
    "df_tracing_arm2['id'] = np.arange(0,len(df_tracing_arm2),1)\n",
    "\n",
    "df_arms = pd.concat([df_tracing_arm1,df_tracing_arm2], axis = 0).reset_index(drop=True)"
   ]
  },
  {
   "cell_type": "code",
   "execution_count": 27,
   "metadata": {},
   "outputs": [
    {
     "data": {
      "text/html": [
       "<div>\n",
       "<style scoped>\n",
       "    .dataframe tbody tr th:only-of-type {\n",
       "        vertical-align: middle;\n",
       "    }\n",
       "\n",
       "    .dataframe tbody tr th {\n",
       "        vertical-align: top;\n",
       "    }\n",
       "\n",
       "    .dataframe thead th {\n",
       "        text-align: right;\n",
       "    }\n",
       "</style>\n",
       "<table border=\"1\" class=\"dataframe\">\n",
       "  <thead>\n",
       "    <tr style=\"text-align: right;\">\n",
       "      <th></th>\n",
       "      <th>x</th>\n",
       "      <th>y</th>\n",
       "      <th>arm</th>\n",
       "      <th>id</th>\n",
       "    </tr>\n",
       "  </thead>\n",
       "  <tbody>\n",
       "    <tr>\n",
       "      <th>0</th>\n",
       "      <td>12.707792</td>\n",
       "      <td>14.355519</td>\n",
       "      <td>1</td>\n",
       "      <td>0</td>\n",
       "    </tr>\n",
       "    <tr>\n",
       "      <th>1</th>\n",
       "      <td>10.993506</td>\n",
       "      <td>14.459416</td>\n",
       "      <td>1</td>\n",
       "      <td>1</td>\n",
       "    </tr>\n",
       "    <tr>\n",
       "      <th>2</th>\n",
       "      <td>7.668831</td>\n",
       "      <td>14.407468</td>\n",
       "      <td>1</td>\n",
       "      <td>2</td>\n",
       "    </tr>\n",
       "    <tr>\n",
       "      <th>3</th>\n",
       "      <td>2.006494</td>\n",
       "      <td>12.952922</td>\n",
       "      <td>1</td>\n",
       "      <td>3</td>\n",
       "    </tr>\n",
       "    <tr>\n",
       "      <th>4</th>\n",
       "      <td>1.175325</td>\n",
       "      <td>12.069805</td>\n",
       "      <td>1</td>\n",
       "      <td>4</td>\n",
       "    </tr>\n",
       "    <tr>\n",
       "      <th>5</th>\n",
       "      <td>-0.279221</td>\n",
       "      <td>10.926948</td>\n",
       "      <td>1</td>\n",
       "      <td>5</td>\n",
       "    </tr>\n",
       "    <tr>\n",
       "      <th>6</th>\n",
       "      <td>-1.941558</td>\n",
       "      <td>9.680195</td>\n",
       "      <td>1</td>\n",
       "      <td>6</td>\n",
       "    </tr>\n",
       "    <tr>\n",
       "      <th>7</th>\n",
       "      <td>-2.512987</td>\n",
       "      <td>8.537338</td>\n",
       "      <td>1</td>\n",
       "      <td>7</td>\n",
       "    </tr>\n",
       "    <tr>\n",
       "      <th>8</th>\n",
       "      <td>-2.928571</td>\n",
       "      <td>7.082792</td>\n",
       "      <td>1</td>\n",
       "      <td>8</td>\n",
       "    </tr>\n",
       "    <tr>\n",
       "      <th>9</th>\n",
       "      <td>-3.551948</td>\n",
       "      <td>6.095779</td>\n",
       "      <td>1</td>\n",
       "      <td>9</td>\n",
       "    </tr>\n",
       "    <tr>\n",
       "      <th>10</th>\n",
       "      <td>-3.915584</td>\n",
       "      <td>4.952922</td>\n",
       "      <td>1</td>\n",
       "      <td>10</td>\n",
       "    </tr>\n",
       "    <tr>\n",
       "      <th>11</th>\n",
       "      <td>-4.487013</td>\n",
       "      <td>3.498377</td>\n",
       "      <td>1</td>\n",
       "      <td>11</td>\n",
       "    </tr>\n",
       "    <tr>\n",
       "      <th>12</th>\n",
       "      <td>-4.694805</td>\n",
       "      <td>1.887987</td>\n",
       "      <td>1</td>\n",
       "      <td>12</td>\n",
       "    </tr>\n",
       "    <tr>\n",
       "      <th>13</th>\n",
       "      <td>-4.694805</td>\n",
       "      <td>0.225649</td>\n",
       "      <td>1</td>\n",
       "      <td>13</td>\n",
       "    </tr>\n",
       "    <tr>\n",
       "      <th>14</th>\n",
       "      <td>-4.902597</td>\n",
       "      <td>-0.813312</td>\n",
       "      <td>1</td>\n",
       "      <td>14</td>\n",
       "    </tr>\n",
       "    <tr>\n",
       "      <th>15</th>\n",
       "      <td>-4.175325</td>\n",
       "      <td>-1.592532</td>\n",
       "      <td>1</td>\n",
       "      <td>15</td>\n",
       "    </tr>\n",
       "    <tr>\n",
       "      <th>16</th>\n",
       "      <td>-2.772727</td>\n",
       "      <td>-2.839286</td>\n",
       "      <td>1</td>\n",
       "      <td>16</td>\n",
       "    </tr>\n",
       "    <tr>\n",
       "      <th>17</th>\n",
       "      <td>-1.006494</td>\n",
       "      <td>-2.527597</td>\n",
       "      <td>1</td>\n",
       "      <td>17</td>\n",
       "    </tr>\n",
       "    <tr>\n",
       "      <th>18</th>\n",
       "      <td>0.344156</td>\n",
       "      <td>-2.319805</td>\n",
       "      <td>1</td>\n",
       "      <td>18</td>\n",
       "    </tr>\n",
       "    <tr>\n",
       "      <th>19</th>\n",
       "      <td>1.123377</td>\n",
       "      <td>-1.436688</td>\n",
       "      <td>1</td>\n",
       "      <td>19</td>\n",
       "    </tr>\n",
       "    <tr>\n",
       "      <th>20</th>\n",
       "      <td>1.694805</td>\n",
       "      <td>-0.553571</td>\n",
       "      <td>1</td>\n",
       "      <td>20</td>\n",
       "    </tr>\n",
       "    <tr>\n",
       "      <th>21</th>\n",
       "      <td>1.746753</td>\n",
       "      <td>0.900974</td>\n",
       "      <td>1</td>\n",
       "      <td>21</td>\n",
       "    </tr>\n",
       "    <tr>\n",
       "      <th>22</th>\n",
       "      <td>0.344156</td>\n",
       "      <td>1.316558</td>\n",
       "      <td>1</td>\n",
       "      <td>22</td>\n",
       "    </tr>\n",
       "    <tr>\n",
       "      <th>23</th>\n",
       "      <td>-7.915584</td>\n",
       "      <td>-7.670455</td>\n",
       "      <td>2</td>\n",
       "      <td>0</td>\n",
       "    </tr>\n",
       "    <tr>\n",
       "      <th>24</th>\n",
       "      <td>-6.409091</td>\n",
       "      <td>-8.034091</td>\n",
       "      <td>2</td>\n",
       "      <td>1</td>\n",
       "    </tr>\n",
       "    <tr>\n",
       "      <th>25</th>\n",
       "      <td>-5.110390</td>\n",
       "      <td>-8.189935</td>\n",
       "      <td>2</td>\n",
       "      <td>2</td>\n",
       "    </tr>\n",
       "    <tr>\n",
       "      <th>26</th>\n",
       "      <td>-1.785714</td>\n",
       "      <td>-9.280844</td>\n",
       "      <td>2</td>\n",
       "      <td>3</td>\n",
       "    </tr>\n",
       "    <tr>\n",
       "      <th>27</th>\n",
       "      <td>-0.487013</td>\n",
       "      <td>-9.332792</td>\n",
       "      <td>2</td>\n",
       "      <td>4</td>\n",
       "    </tr>\n",
       "    <tr>\n",
       "      <th>28</th>\n",
       "      <td>0.240260</td>\n",
       "      <td>-9.280844</td>\n",
       "      <td>2</td>\n",
       "      <td>5</td>\n",
       "    </tr>\n",
       "    <tr>\n",
       "      <th>29</th>\n",
       "      <td>1.019481</td>\n",
       "      <td>-8.969156</td>\n",
       "      <td>2</td>\n",
       "      <td>6</td>\n",
       "    </tr>\n",
       "    <tr>\n",
       "      <th>30</th>\n",
       "      <td>2.110390</td>\n",
       "      <td>-8.293831</td>\n",
       "      <td>2</td>\n",
       "      <td>7</td>\n",
       "    </tr>\n",
       "    <tr>\n",
       "      <th>31</th>\n",
       "      <td>2.993506</td>\n",
       "      <td>-7.774351</td>\n",
       "      <td>2</td>\n",
       "      <td>8</td>\n",
       "    </tr>\n",
       "    <tr>\n",
       "      <th>32</th>\n",
       "      <td>3.564935</td>\n",
       "      <td>-7.306818</td>\n",
       "      <td>2</td>\n",
       "      <td>9</td>\n",
       "    </tr>\n",
       "    <tr>\n",
       "      <th>33</th>\n",
       "      <td>4.344156</td>\n",
       "      <td>-6.787338</td>\n",
       "      <td>2</td>\n",
       "      <td>10</td>\n",
       "    </tr>\n",
       "    <tr>\n",
       "      <th>34</th>\n",
       "      <td>5.019481</td>\n",
       "      <td>-6.060065</td>\n",
       "      <td>2</td>\n",
       "      <td>11</td>\n",
       "    </tr>\n",
       "    <tr>\n",
       "      <th>35</th>\n",
       "      <td>5.746753</td>\n",
       "      <td>-5.125000</td>\n",
       "      <td>2</td>\n",
       "      <td>12</td>\n",
       "    </tr>\n",
       "    <tr>\n",
       "      <th>36</th>\n",
       "      <td>6.422078</td>\n",
       "      <td>-4.397727</td>\n",
       "      <td>2</td>\n",
       "      <td>13</td>\n",
       "    </tr>\n",
       "    <tr>\n",
       "      <th>37</th>\n",
       "      <td>6.941558</td>\n",
       "      <td>-3.722403</td>\n",
       "      <td>2</td>\n",
       "      <td>14</td>\n",
       "    </tr>\n",
       "    <tr>\n",
       "      <th>38</th>\n",
       "      <td>7.512987</td>\n",
       "      <td>-2.683442</td>\n",
       "      <td>2</td>\n",
       "      <td>15</td>\n",
       "    </tr>\n",
       "    <tr>\n",
       "      <th>39</th>\n",
       "      <td>7.668831</td>\n",
       "      <td>-0.917208</td>\n",
       "      <td>2</td>\n",
       "      <td>16</td>\n",
       "    </tr>\n",
       "    <tr>\n",
       "      <th>40</th>\n",
       "      <td>7.564935</td>\n",
       "      <td>0.069805</td>\n",
       "      <td>2</td>\n",
       "      <td>17</td>\n",
       "    </tr>\n",
       "    <tr>\n",
       "      <th>41</th>\n",
       "      <td>7.305195</td>\n",
       "      <td>1.264610</td>\n",
       "      <td>2</td>\n",
       "      <td>18</td>\n",
       "    </tr>\n",
       "    <tr>\n",
       "      <th>42</th>\n",
       "      <td>6.422078</td>\n",
       "      <td>1.991883</td>\n",
       "      <td>2</td>\n",
       "      <td>19</td>\n",
       "    </tr>\n",
       "    <tr>\n",
       "      <th>43</th>\n",
       "      <td>1.279221</td>\n",
       "      <td>4.849026</td>\n",
       "      <td>2</td>\n",
       "      <td>20</td>\n",
       "    </tr>\n",
       "    <tr>\n",
       "      <th>44</th>\n",
       "      <td>0.188312</td>\n",
       "      <td>4.121753</td>\n",
       "      <td>2</td>\n",
       "      <td>21</td>\n",
       "    </tr>\n",
       "    <tr>\n",
       "      <th>45</th>\n",
       "      <td>-0.746753</td>\n",
       "      <td>3.550325</td>\n",
       "      <td>2</td>\n",
       "      <td>22</td>\n",
       "    </tr>\n",
       "    <tr>\n",
       "      <th>46</th>\n",
       "      <td>-1.889610</td>\n",
       "      <td>3.030844</td>\n",
       "      <td>2</td>\n",
       "      <td>23</td>\n",
       "    </tr>\n",
       "    <tr>\n",
       "      <th>47</th>\n",
       "      <td>-2.512987</td>\n",
       "      <td>2.147727</td>\n",
       "      <td>2</td>\n",
       "      <td>24</td>\n",
       "    </tr>\n",
       "    <tr>\n",
       "      <th>48</th>\n",
       "      <td>-2.928571</td>\n",
       "      <td>0.693182</td>\n",
       "      <td>2</td>\n",
       "      <td>25</td>\n",
       "    </tr>\n",
       "    <tr>\n",
       "      <th>49</th>\n",
       "      <td>-2.668831</td>\n",
       "      <td>-0.865260</td>\n",
       "      <td>2</td>\n",
       "      <td>26</td>\n",
       "    </tr>\n",
       "  </tbody>\n",
       "</table>\n",
       "</div>"
      ],
      "text/plain": [
       "            x          y  arm  id\n",
       "0   12.707792  14.355519    1   0\n",
       "1   10.993506  14.459416    1   1\n",
       "2    7.668831  14.407468    1   2\n",
       "3    2.006494  12.952922    1   3\n",
       "4    1.175325  12.069805    1   4\n",
       "5   -0.279221  10.926948    1   5\n",
       "6   -1.941558   9.680195    1   6\n",
       "7   -2.512987   8.537338    1   7\n",
       "8   -2.928571   7.082792    1   8\n",
       "9   -3.551948   6.095779    1   9\n",
       "10  -3.915584   4.952922    1  10\n",
       "11  -4.487013   3.498377    1  11\n",
       "12  -4.694805   1.887987    1  12\n",
       "13  -4.694805   0.225649    1  13\n",
       "14  -4.902597  -0.813312    1  14\n",
       "15  -4.175325  -1.592532    1  15\n",
       "16  -2.772727  -2.839286    1  16\n",
       "17  -1.006494  -2.527597    1  17\n",
       "18   0.344156  -2.319805    1  18\n",
       "19   1.123377  -1.436688    1  19\n",
       "20   1.694805  -0.553571    1  20\n",
       "21   1.746753   0.900974    1  21\n",
       "22   0.344156   1.316558    1  22\n",
       "23  -7.915584  -7.670455    2   0\n",
       "24  -6.409091  -8.034091    2   1\n",
       "25  -5.110390  -8.189935    2   2\n",
       "26  -1.785714  -9.280844    2   3\n",
       "27  -0.487013  -9.332792    2   4\n",
       "28   0.240260  -9.280844    2   5\n",
       "29   1.019481  -8.969156    2   6\n",
       "30   2.110390  -8.293831    2   7\n",
       "31   2.993506  -7.774351    2   8\n",
       "32   3.564935  -7.306818    2   9\n",
       "33   4.344156  -6.787338    2  10\n",
       "34   5.019481  -6.060065    2  11\n",
       "35   5.746753  -5.125000    2  12\n",
       "36   6.422078  -4.397727    2  13\n",
       "37   6.941558  -3.722403    2  14\n",
       "38   7.512987  -2.683442    2  15\n",
       "39   7.668831  -0.917208    2  16\n",
       "40   7.564935   0.069805    2  17\n",
       "41   7.305195   1.264610    2  18\n",
       "42   6.422078   1.991883    2  19\n",
       "43   1.279221   4.849026    2  20\n",
       "44   0.188312   4.121753    2  21\n",
       "45  -0.746753   3.550325    2  22\n",
       "46  -1.889610   3.030844    2  23\n",
       "47  -2.512987   2.147727    2  24\n",
       "48  -2.928571   0.693182    2  25\n",
       "49  -2.668831  -0.865260    2  26"
      ]
     },
     "execution_count": 27,
     "metadata": {},
     "output_type": "execute_result"
    }
   ],
   "source": [
    "df_arms"
   ]
  },
  {
   "cell_type": "code",
   "execution_count": 30,
   "metadata": {},
   "outputs": [
    {
     "ename": "ValueError",
     "evalue": "No objects to concatenate",
     "output_type": "error",
     "traceback": [
      "\u001b[0;31m---------------------------------------------------------------------------\u001b[0m",
      "\u001b[0;31mValueError\u001b[0m                                Traceback (most recent call last)",
      "\u001b[0;32m<ipython-input-30-abe537433342>\u001b[0m in \u001b[0;36m<module>\u001b[0;34m()\u001b[0m\n\u001b[0;32m----> 1\u001b[0;31m \u001b[0mDf_fits\u001b[0m \u001b[0;34m=\u001b[0m \u001b[0mpd\u001b[0m\u001b[0;34m.\u001b[0m\u001b[0mconcat\u001b[0m\u001b[0;34m(\u001b[0m\u001b[0mdfs\u001b[0m\u001b[0;34m,\u001b[0m \u001b[0maxis\u001b[0m \u001b[0;34m=\u001b[0m \u001b[0;36m0\u001b[0m\u001b[0;34m)\u001b[0m\u001b[0;34m.\u001b[0m\u001b[0mreset_index\u001b[0m\u001b[0;34m(\u001b[0m\u001b[0mdrop\u001b[0m\u001b[0;34m=\u001b[0m\u001b[0;32mTrue\u001b[0m\u001b[0;34m)\u001b[0m\u001b[0;34m\u001b[0m\u001b[0m\n\u001b[0m\u001b[1;32m      2\u001b[0m \u001b[0mdf_fits\u001b[0m\u001b[0;34m[\u001b[0m\u001b[0;34m'r_tracing'\u001b[0m\u001b[0;34m]\u001b[0m \u001b[0;34m=\u001b[0m \u001b[0mnp\u001b[0m\u001b[0;34m.\u001b[0m\u001b[0msqrt\u001b[0m\u001b[0;34m(\u001b[0m\u001b[0mdf_fits\u001b[0m\u001b[0;34m[\u001b[0m\u001b[0;34m'x_tracing'\u001b[0m\u001b[0;34m]\u001b[0m\u001b[0;34m**\u001b[0m\u001b[0;36m2\u001b[0m \u001b[0;34m+\u001b[0m \u001b[0mdf_fits\u001b[0m\u001b[0;34m[\u001b[0m\u001b[0;34m'y_tracing'\u001b[0m\u001b[0;34m]\u001b[0m\u001b[0;34m**\u001b[0m\u001b[0;36m2\u001b[0m\u001b[0;34m)\u001b[0m\u001b[0;34m\u001b[0m\u001b[0m\n\u001b[1;32m      3\u001b[0m \u001b[0mdf_fits\u001b[0m\u001b[0;34m[\u001b[0m\u001b[0;34m'width_info'\u001b[0m\u001b[0;34m]\u001b[0m \u001b[0;34m=\u001b[0m \u001b[0mdf_fits\u001b[0m\u001b[0;34m.\u001b[0m\u001b[0mapply\u001b[0m\u001b[0;34m(\u001b[0m\u001b[0;32mlambda\u001b[0m \u001b[0mrow\u001b[0m\u001b[0;34m:\u001b[0m \u001b[0mfind_widths_of_skewed_gaussian_dani\u001b[0m\u001b[0;34m(\u001b[0m\u001b[0mrow\u001b[0m\u001b[0;34m)\u001b[0m\u001b[0;34m,\u001b[0m \u001b[0maxis\u001b[0m \u001b[0;34m=\u001b[0m \u001b[0;36m1\u001b[0m\u001b[0;34m)\u001b[0m\u001b[0;34m\u001b[0m\u001b[0m\n\u001b[1;32m      4\u001b[0m \u001b[0mdf_fits\u001b[0m\u001b[0;34m[\u001b[0m\u001b[0;34m'x_max'\u001b[0m\u001b[0;34m]\u001b[0m \u001b[0;34m=\u001b[0m \u001b[0mdf_fits\u001b[0m\u001b[0;34m.\u001b[0m\u001b[0mapply\u001b[0m\u001b[0;34m(\u001b[0m\u001b[0;32mlambda\u001b[0m \u001b[0mrow\u001b[0m\u001b[0;34m:\u001b[0m \u001b[0mrow\u001b[0m\u001b[0;34m.\u001b[0m\u001b[0mwidth_info\u001b[0m\u001b[0;34m[\u001b[0m\u001b[0;34m'x_max'\u001b[0m\u001b[0;34m]\u001b[0m\u001b[0;34m,\u001b[0m \u001b[0maxis\u001b[0m \u001b[0;34m=\u001b[0m \u001b[0;36m1\u001b[0m\u001b[0;34m)\u001b[0m\u001b[0;34m\u001b[0m\u001b[0m\n\u001b[1;32m      5\u001b[0m \u001b[0mdf_fits\u001b[0m\u001b[0;34m[\u001b[0m\u001b[0;34m'y_max'\u001b[0m\u001b[0;34m]\u001b[0m \u001b[0;34m=\u001b[0m \u001b[0mdf_fits\u001b[0m\u001b[0;34m.\u001b[0m\u001b[0mapply\u001b[0m\u001b[0;34m(\u001b[0m\u001b[0;32mlambda\u001b[0m \u001b[0mrow\u001b[0m\u001b[0;34m:\u001b[0m \u001b[0mrow\u001b[0m\u001b[0;34m.\u001b[0m\u001b[0mwidth_info\u001b[0m\u001b[0;34m[\u001b[0m\u001b[0;34m'y_max'\u001b[0m\u001b[0;34m]\u001b[0m\u001b[0;34m,\u001b[0m \u001b[0maxis\u001b[0m \u001b[0;34m=\u001b[0m \u001b[0;36m1\u001b[0m\u001b[0;34m)\u001b[0m\u001b[0;34m\u001b[0m\u001b[0m\n",
      "\u001b[0;32m~/anaconda3/lib/python3.7/site-packages/pandas/core/reshape/concat.py\u001b[0m in \u001b[0;36mconcat\u001b[0;34m(objs, axis, join, join_axes, ignore_index, keys, levels, names, verify_integrity, sort, copy)\u001b[0m\n\u001b[1;32m    223\u001b[0m                        \u001b[0mkeys\u001b[0m\u001b[0;34m=\u001b[0m\u001b[0mkeys\u001b[0m\u001b[0;34m,\u001b[0m \u001b[0mlevels\u001b[0m\u001b[0;34m=\u001b[0m\u001b[0mlevels\u001b[0m\u001b[0;34m,\u001b[0m \u001b[0mnames\u001b[0m\u001b[0;34m=\u001b[0m\u001b[0mnames\u001b[0m\u001b[0;34m,\u001b[0m\u001b[0;34m\u001b[0m\u001b[0m\n\u001b[1;32m    224\u001b[0m                        \u001b[0mverify_integrity\u001b[0m\u001b[0;34m=\u001b[0m\u001b[0mverify_integrity\u001b[0m\u001b[0;34m,\u001b[0m\u001b[0;34m\u001b[0m\u001b[0m\n\u001b[0;32m--> 225\u001b[0;31m                        copy=copy, sort=sort)\n\u001b[0m\u001b[1;32m    226\u001b[0m     \u001b[0;32mreturn\u001b[0m \u001b[0mop\u001b[0m\u001b[0;34m.\u001b[0m\u001b[0mget_result\u001b[0m\u001b[0;34m(\u001b[0m\u001b[0;34m)\u001b[0m\u001b[0;34m\u001b[0m\u001b[0m\n\u001b[1;32m    227\u001b[0m \u001b[0;34m\u001b[0m\u001b[0m\n",
      "\u001b[0;32m~/anaconda3/lib/python3.7/site-packages/pandas/core/reshape/concat.py\u001b[0m in \u001b[0;36m__init__\u001b[0;34m(self, objs, axis, join, join_axes, keys, levels, names, ignore_index, verify_integrity, copy, sort)\u001b[0m\n\u001b[1;32m    257\u001b[0m \u001b[0;34m\u001b[0m\u001b[0m\n\u001b[1;32m    258\u001b[0m         \u001b[0;32mif\u001b[0m \u001b[0mlen\u001b[0m\u001b[0;34m(\u001b[0m\u001b[0mobjs\u001b[0m\u001b[0;34m)\u001b[0m \u001b[0;34m==\u001b[0m \u001b[0;36m0\u001b[0m\u001b[0;34m:\u001b[0m\u001b[0;34m\u001b[0m\u001b[0m\n\u001b[0;32m--> 259\u001b[0;31m             \u001b[0;32mraise\u001b[0m \u001b[0mValueError\u001b[0m\u001b[0;34m(\u001b[0m\u001b[0;34m'No objects to concatenate'\u001b[0m\u001b[0;34m)\u001b[0m\u001b[0;34m\u001b[0m\u001b[0m\n\u001b[0m\u001b[1;32m    260\u001b[0m \u001b[0;34m\u001b[0m\u001b[0m\n\u001b[1;32m    261\u001b[0m         \u001b[0;32mif\u001b[0m \u001b[0mkeys\u001b[0m \u001b[0;32mis\u001b[0m \u001b[0;32mNone\u001b[0m\u001b[0;34m:\u001b[0m\u001b[0;34m\u001b[0m\u001b[0m\n",
      "\u001b[0;31mValueError\u001b[0m: No objects to concatenate"
     ]
    }
   ],
   "source": [
    "Df_fits = pd.concat(dfs, axis = 0).reset_index(drop=True)\n",
    "df_fits['r_tracing'] = np.sqrt(df_fits['x_tracing']**2 + df_fits['y_tracing']**2)\n",
    "df_fits['width_info'] = df_fits.apply(lambda row: find_widths_of_skewed_gaussian_dani(row), axis = 1)\n",
    "df_fits['x_max'] = df_fits.apply(lambda row: row.width_info['x_max'], axis = 1)\n",
    "df_fits['y_max'] = df_fits.apply(lambda row: row.width_info['y_max'], axis = 1)\n",
    "df_fits['w1'] = df_fits.apply(lambda row: row.width_info['w1'], axis = 1)\n",
    "df_fits['w2'] = df_fits.apply(lambda row: row.width_info['w2'], axis = 1)"
   ]
  },
  {
   "cell_type": "code",
   "execution_count": 54,
   "metadata": {},
   "outputs": [
    {
     "data": {
      "text/html": [
       "<div>\n",
       "<style scoped>\n",
       "    .dataframe tbody tr th:only-of-type {\n",
       "        vertical-align: middle;\n",
       "    }\n",
       "\n",
       "    .dataframe tbody tr th {\n",
       "        vertical-align: top;\n",
       "    }\n",
       "\n",
       "    .dataframe thead th {\n",
       "        text-align: right;\n",
       "    }\n",
       "</style>\n",
       "<table border=\"1\" class=\"dataframe\">\n",
       "  <thead>\n",
       "    <tr style=\"text-align: right;\">\n",
       "      <th></th>\n",
       "      <th>amplitude</th>\n",
       "      <th>center</th>\n",
       "      <th>delta</th>\n",
       "      <th>fractured</th>\n",
       "      <th>gamma</th>\n",
       "      <th>id_tracing</th>\n",
       "      <th>sigma</th>\n",
       "      <th>stderr_amplitude</th>\n",
       "      <th>stderr_center</th>\n",
       "      <th>stderr_gamma</th>\n",
       "      <th>stderr_sigma</th>\n",
       "      <th>x</th>\n",
       "      <th>x_tracing</th>\n",
       "      <th>y</th>\n",
       "      <th>y_tracing</th>\n",
       "      <th>arm</th>\n",
       "      <th>r_tracing</th>\n",
       "    </tr>\n",
       "  </thead>\n",
       "  <tbody>\n",
       "    <tr>\n",
       "      <th>0</th>\n",
       "      <td>0.000053</td>\n",
       "      <td>3.999801</td>\n",
       "      <td>0.05</td>\n",
       "      <td>False</td>\n",
       "      <td>8.627322</td>\n",
       "      <td>11.0</td>\n",
       "      <td>0.567687</td>\n",
       "      <td>0.000003</td>\n",
       "      <td>0.010485</td>\n",
       "      <td>2.699845</td>\n",
       "      <td>0.040324</td>\n",
       "      <td>[]</td>\n",
       "      <td>4.062040</td>\n",
       "      <td>[]</td>\n",
       "      <td>-0.727385</td>\n",
       "      <td>1</td>\n",
       "      <td>4.126652</td>\n",
       "    </tr>\n",
       "    <tr>\n",
       "      <th>1</th>\n",
       "      <td>0.000069</td>\n",
       "      <td>6.262372</td>\n",
       "      <td>0.05</td>\n",
       "      <td>False</td>\n",
       "      <td>-6.766237</td>\n",
       "      <td>10.0</td>\n",
       "      <td>0.838236</td>\n",
       "      <td>0.000003</td>\n",
       "      <td>0.012504</td>\n",
       "      <td>1.430586</td>\n",
       "      <td>0.047692</td>\n",
       "      <td>[]</td>\n",
       "      <td>4.705896</td>\n",
       "      <td>[]</td>\n",
       "      <td>3.687626</td>\n",
       "      <td>2</td>\n",
       "      <td>5.978632</td>\n",
       "    </tr>\n",
       "  </tbody>\n",
       "</table>\n",
       "</div>"
      ],
      "text/plain": [
       "   amplitude    center  delta  fractured     gamma  id_tracing     sigma  \\\n",
       "0   0.000053  3.999801   0.05      False  8.627322        11.0  0.567687   \n",
       "1   0.000069  6.262372   0.05      False -6.766237        10.0  0.838236   \n",
       "\n",
       "   stderr_amplitude  stderr_center  stderr_gamma  stderr_sigma   x  x_tracing  \\\n",
       "0          0.000003       0.010485      2.699845      0.040324  []   4.062040   \n",
       "1          0.000003       0.012504      1.430586      0.047692  []   4.705896   \n",
       "\n",
       "    y  y_tracing  arm  r_tracing  \n",
       "0  []  -0.727385    1   4.126652  \n",
       "1  []   3.687626    2   5.978632  "
      ]
     },
     "execution_count": 54,
     "metadata": {},
     "output_type": "execute_result"
    }
   ],
   "source": [
    " df_fits"
   ]
  },
  {
   "cell_type": "code",
   "execution_count": null,
   "metadata": {},
   "outputs": [],
   "source": []
  },
  {
   "cell_type": "code",
   "execution_count": 50,
   "metadata": {},
   "outputs": [
    {
     "name": "stdout",
     "output_type": "stream",
     "text": [
      "Warning: '3.9788599527732094.031751695703194.0764528709097544.1235650705372714.1807042037231914.23017599204354954.2782614042112114.3310004266441844.3652943084778014.4348081364430564.4673361252345484.5309835083459474.5762179334839884.6070144456228754.6754875332935974.7560303729174134.808814602392955' no es un valor flotante válido y fue ignorado.\n",
      "Warning: '3.0209795581740124-054.617662749779218-056.800699942885886-057.452475837088583-056.657351839743788-056.479155503254344-056.653150349303122-056.664092705077921-056.476765842424603-055.8498587663892905-054.4336981624099006-055.775780758976523-053.4155793487701334-053.8097804694029365-054.1123955120651595-052.815382537075955-053.165758346057595-05' no es un valor flotante válido y fue ignorado.\n",
      "Warning: '5.0959381831986275.1190487766258515.1932301377420435.2507363221926995.2990708459313415.326808822928645.45328870288859155.5002961597133335.5523248469146885.5644303088963775.6387991007633295.7014372717491625.7486654911305295.8011449998327425.8476840712507955.90603602408715665.9387740236416926.0033765212922286.0538157753195186.10044408959842156.1516707906529616.1994056019082786.2552914498479926.2951215129356816.334483164667784' no es un valor flotante válido y fue ignorado.\n",
      "Warning: '2.0867398429453386-052.7499260462807506-052.8761487521598847-052.9220094951714048-054.149750048585981-054.2247082522625185-053.457229740829243-053.7165833709075776-055.1181420561914595-054.045859469938895-055.101074897306998-055.117757964509424-055.9014541850862425-055.9372842259251086-055.6186000229695556-056.230806256712218-056.144866078109045-056.056564022088377-055.8611120667532984-055.645267010759468-054.977619766749226-055.4528970152074524-053.3338009810183846-051.9985851225799062-052.1440651859367616-05' no es un valor flotante válido y fue ignorado.\n"
     ]
    }
   ],
   "source": [
    "import re\n",
    "\n",
    "def convert_from_listAsAString_to_listOfFloats(string):\n",
    "    # Limpia el string para eliminar cualquier caracter no numérico válido.\n",
    "    string_clean = re.sub(r'[^\\d.\\n-]', '', string)  # Elimina todo excepto dígitos, puntos decimales, saltos de línea y guiones.\n",
    "    \n",
    "    # Divide la cadena en líneas y convierte a flotantes, filtrando los valores inválidos.\n",
    "    splitted = string_clean.strip().split('\\\\n')\n",
    "    listOfFloats = []\n",
    "    for s in splitted:\n",
    "        try:\n",
    "            listOfFloats.append(float(s))\n",
    "        except ValueError:\n",
    "            print(f\"Warning: '{s}' no es un valor flotante válido y fue ignorado.\")\n",
    "    return listOfFloats\n",
    "\n",
    "# Aplicar la función en las columnas 'x' y 'y'\n",
    "dfs = []\n",
    "for i, arm in enumerate(['arm1', 'arm2']):\n",
    "    df_fits = pd.read_csv('fit_info/fit_params_rho_{}_adicionales_dani.csv'.format(arm))\n",
    "    \n",
    "    # Aplicar la limpieza y conversión en las columnas 'x' y 'y'\n",
    "    df_fits['x'] = df_fits.apply(lambda row: convert_from_listAsAString_to_listOfFloats(row.x), axis=1)\n",
    "    df_fits['y'] = df_fits.apply(lambda row: convert_from_listAsAString_to_listOfFloats(row.y), axis=1)\n",
    "    \n",
    "    # Añadir la columna 'arm'\n",
    "    df_fits['arm'] = [i+1] * len(df_fits)\n",
    "    \n",
    "    dfs.append(df_fits)\n",
    "\n"
   ]
  },
  {
   "cell_type": "code",
   "execution_count": 51,
   "metadata": {},
   "outputs": [
    {
     "ename": "ValueError",
     "evalue": "('zero-size array to reduction operation minimum which has no identity', 'occurred at index 0')",
     "output_type": "error",
     "traceback": [
      "\u001b[0;31m---------------------------------------------------------------------------\u001b[0m",
      "\u001b[0;31mValueError\u001b[0m                                Traceback (most recent call last)",
      "\u001b[0;32m<ipython-input-51-2d52ce1fe983>\u001b[0m in \u001b[0;36m<module>\u001b[0;34m()\u001b[0m\n\u001b[1;32m     40\u001b[0m \u001b[0mdf_fits\u001b[0m \u001b[0;34m=\u001b[0m \u001b[0mpd\u001b[0m\u001b[0;34m.\u001b[0m\u001b[0mconcat\u001b[0m\u001b[0;34m(\u001b[0m\u001b[0mdfs\u001b[0m\u001b[0;34m,\u001b[0m \u001b[0maxis\u001b[0m \u001b[0;34m=\u001b[0m \u001b[0;36m0\u001b[0m\u001b[0;34m)\u001b[0m\u001b[0;34m.\u001b[0m\u001b[0mreset_index\u001b[0m\u001b[0;34m(\u001b[0m\u001b[0mdrop\u001b[0m\u001b[0;34m=\u001b[0m\u001b[0;32mTrue\u001b[0m\u001b[0;34m)\u001b[0m\u001b[0;34m\u001b[0m\u001b[0m\n\u001b[1;32m     41\u001b[0m \u001b[0mdf_fits\u001b[0m\u001b[0;34m[\u001b[0m\u001b[0;34m'r_tracing'\u001b[0m\u001b[0;34m]\u001b[0m \u001b[0;34m=\u001b[0m \u001b[0mnp\u001b[0m\u001b[0;34m.\u001b[0m\u001b[0msqrt\u001b[0m\u001b[0;34m(\u001b[0m\u001b[0mdf_fits\u001b[0m\u001b[0;34m[\u001b[0m\u001b[0;34m'x_tracing'\u001b[0m\u001b[0;34m]\u001b[0m\u001b[0;34m**\u001b[0m\u001b[0;36m2\u001b[0m \u001b[0;34m+\u001b[0m \u001b[0mdf_fits\u001b[0m\u001b[0;34m[\u001b[0m\u001b[0;34m'y_tracing'\u001b[0m\u001b[0;34m]\u001b[0m\u001b[0;34m**\u001b[0m\u001b[0;36m2\u001b[0m\u001b[0;34m)\u001b[0m\u001b[0;34m\u001b[0m\u001b[0m\n\u001b[0;32m---> 42\u001b[0;31m \u001b[0mdf_fits\u001b[0m\u001b[0;34m[\u001b[0m\u001b[0;34m'width_info'\u001b[0m\u001b[0;34m]\u001b[0m \u001b[0;34m=\u001b[0m \u001b[0mdf_fits\u001b[0m\u001b[0;34m.\u001b[0m\u001b[0mapply\u001b[0m\u001b[0;34m(\u001b[0m\u001b[0;32mlambda\u001b[0m \u001b[0mrow\u001b[0m\u001b[0;34m:\u001b[0m \u001b[0mfind_widths_of_skewed_gaussian_dani\u001b[0m\u001b[0;34m(\u001b[0m\u001b[0mrow\u001b[0m\u001b[0;34m)\u001b[0m\u001b[0;34m,\u001b[0m \u001b[0maxis\u001b[0m \u001b[0;34m=\u001b[0m \u001b[0;36m1\u001b[0m\u001b[0;34m)\u001b[0m\u001b[0;34m\u001b[0m\u001b[0m\n\u001b[0m\u001b[1;32m     43\u001b[0m \u001b[0mdf_fits\u001b[0m\u001b[0;34m[\u001b[0m\u001b[0;34m'x_max'\u001b[0m\u001b[0;34m]\u001b[0m \u001b[0;34m=\u001b[0m \u001b[0mdf_fits\u001b[0m\u001b[0;34m.\u001b[0m\u001b[0mapply\u001b[0m\u001b[0;34m(\u001b[0m\u001b[0;32mlambda\u001b[0m \u001b[0mrow\u001b[0m\u001b[0;34m:\u001b[0m \u001b[0mrow\u001b[0m\u001b[0;34m.\u001b[0m\u001b[0mwidth_info\u001b[0m\u001b[0;34m[\u001b[0m\u001b[0;34m'x_max'\u001b[0m\u001b[0;34m]\u001b[0m\u001b[0;34m,\u001b[0m \u001b[0maxis\u001b[0m \u001b[0;34m=\u001b[0m \u001b[0;36m1\u001b[0m\u001b[0;34m)\u001b[0m\u001b[0;34m\u001b[0m\u001b[0m\n\u001b[1;32m     44\u001b[0m \u001b[0mdf_fits\u001b[0m\u001b[0;34m[\u001b[0m\u001b[0;34m'y_max'\u001b[0m\u001b[0;34m]\u001b[0m \u001b[0;34m=\u001b[0m \u001b[0mdf_fits\u001b[0m\u001b[0;34m.\u001b[0m\u001b[0mapply\u001b[0m\u001b[0;34m(\u001b[0m\u001b[0;32mlambda\u001b[0m \u001b[0mrow\u001b[0m\u001b[0;34m:\u001b[0m \u001b[0mrow\u001b[0m\u001b[0;34m.\u001b[0m\u001b[0mwidth_info\u001b[0m\u001b[0;34m[\u001b[0m\u001b[0;34m'y_max'\u001b[0m\u001b[0;34m]\u001b[0m\u001b[0;34m,\u001b[0m \u001b[0maxis\u001b[0m \u001b[0;34m=\u001b[0m \u001b[0;36m1\u001b[0m\u001b[0;34m)\u001b[0m\u001b[0;34m\u001b[0m\u001b[0m\n",
      "\u001b[0;32m~/anaconda3/lib/python3.7/site-packages/pandas/core/frame.py\u001b[0m in \u001b[0;36mapply\u001b[0;34m(self, func, axis, broadcast, raw, reduce, result_type, args, **kwds)\u001b[0m\n\u001b[1;32m   6012\u001b[0m                          \u001b[0margs\u001b[0m\u001b[0;34m=\u001b[0m\u001b[0margs\u001b[0m\u001b[0;34m,\u001b[0m\u001b[0;34m\u001b[0m\u001b[0m\n\u001b[1;32m   6013\u001b[0m                          kwds=kwds)\n\u001b[0;32m-> 6014\u001b[0;31m         \u001b[0;32mreturn\u001b[0m \u001b[0mop\u001b[0m\u001b[0;34m.\u001b[0m\u001b[0mget_result\u001b[0m\u001b[0;34m(\u001b[0m\u001b[0;34m)\u001b[0m\u001b[0;34m\u001b[0m\u001b[0m\n\u001b[0m\u001b[1;32m   6015\u001b[0m \u001b[0;34m\u001b[0m\u001b[0m\n\u001b[1;32m   6016\u001b[0m     \u001b[0;32mdef\u001b[0m \u001b[0mapplymap\u001b[0m\u001b[0;34m(\u001b[0m\u001b[0mself\u001b[0m\u001b[0;34m,\u001b[0m \u001b[0mfunc\u001b[0m\u001b[0;34m)\u001b[0m\u001b[0;34m:\u001b[0m\u001b[0;34m\u001b[0m\u001b[0m\n",
      "\u001b[0;32m~/anaconda3/lib/python3.7/site-packages/pandas/core/apply.py\u001b[0m in \u001b[0;36mget_result\u001b[0;34m(self)\u001b[0m\n\u001b[1;32m    140\u001b[0m             \u001b[0;32mreturn\u001b[0m \u001b[0mself\u001b[0m\u001b[0;34m.\u001b[0m\u001b[0mapply_raw\u001b[0m\u001b[0;34m(\u001b[0m\u001b[0;34m)\u001b[0m\u001b[0;34m\u001b[0m\u001b[0m\n\u001b[1;32m    141\u001b[0m \u001b[0;34m\u001b[0m\u001b[0m\n\u001b[0;32m--> 142\u001b[0;31m         \u001b[0;32mreturn\u001b[0m \u001b[0mself\u001b[0m\u001b[0;34m.\u001b[0m\u001b[0mapply_standard\u001b[0m\u001b[0;34m(\u001b[0m\u001b[0;34m)\u001b[0m\u001b[0;34m\u001b[0m\u001b[0m\n\u001b[0m\u001b[1;32m    143\u001b[0m \u001b[0;34m\u001b[0m\u001b[0m\n\u001b[1;32m    144\u001b[0m     \u001b[0;32mdef\u001b[0m \u001b[0mapply_empty_result\u001b[0m\u001b[0;34m(\u001b[0m\u001b[0mself\u001b[0m\u001b[0;34m)\u001b[0m\u001b[0;34m:\u001b[0m\u001b[0;34m\u001b[0m\u001b[0m\n",
      "\u001b[0;32m~/anaconda3/lib/python3.7/site-packages/pandas/core/apply.py\u001b[0m in \u001b[0;36mapply_standard\u001b[0;34m(self)\u001b[0m\n\u001b[1;32m    246\u001b[0m \u001b[0;34m\u001b[0m\u001b[0m\n\u001b[1;32m    247\u001b[0m         \u001b[0;31m# compute the result using the series generator\u001b[0m\u001b[0;34m\u001b[0m\u001b[0;34m\u001b[0m\u001b[0m\n\u001b[0;32m--> 248\u001b[0;31m         \u001b[0mself\u001b[0m\u001b[0;34m.\u001b[0m\u001b[0mapply_series_generator\u001b[0m\u001b[0;34m(\u001b[0m\u001b[0;34m)\u001b[0m\u001b[0;34m\u001b[0m\u001b[0m\n\u001b[0m\u001b[1;32m    249\u001b[0m \u001b[0;34m\u001b[0m\u001b[0m\n\u001b[1;32m    250\u001b[0m         \u001b[0;31m# wrap results\u001b[0m\u001b[0;34m\u001b[0m\u001b[0;34m\u001b[0m\u001b[0m\n",
      "\u001b[0;32m~/anaconda3/lib/python3.7/site-packages/pandas/core/apply.py\u001b[0m in \u001b[0;36mapply_series_generator\u001b[0;34m(self)\u001b[0m\n\u001b[1;32m    275\u001b[0m             \u001b[0;32mtry\u001b[0m\u001b[0;34m:\u001b[0m\u001b[0;34m\u001b[0m\u001b[0m\n\u001b[1;32m    276\u001b[0m                 \u001b[0;32mfor\u001b[0m \u001b[0mi\u001b[0m\u001b[0;34m,\u001b[0m \u001b[0mv\u001b[0m \u001b[0;32min\u001b[0m \u001b[0menumerate\u001b[0m\u001b[0;34m(\u001b[0m\u001b[0mseries_gen\u001b[0m\u001b[0;34m)\u001b[0m\u001b[0;34m:\u001b[0m\u001b[0;34m\u001b[0m\u001b[0m\n\u001b[0;32m--> 277\u001b[0;31m                     \u001b[0mresults\u001b[0m\u001b[0;34m[\u001b[0m\u001b[0mi\u001b[0m\u001b[0;34m]\u001b[0m \u001b[0;34m=\u001b[0m \u001b[0mself\u001b[0m\u001b[0;34m.\u001b[0m\u001b[0mf\u001b[0m\u001b[0;34m(\u001b[0m\u001b[0mv\u001b[0m\u001b[0;34m)\u001b[0m\u001b[0;34m\u001b[0m\u001b[0m\n\u001b[0m\u001b[1;32m    278\u001b[0m                     \u001b[0mkeys\u001b[0m\u001b[0;34m.\u001b[0m\u001b[0mappend\u001b[0m\u001b[0;34m(\u001b[0m\u001b[0mv\u001b[0m\u001b[0;34m.\u001b[0m\u001b[0mname\u001b[0m\u001b[0;34m)\u001b[0m\u001b[0;34m\u001b[0m\u001b[0m\n\u001b[1;32m    279\u001b[0m             \u001b[0;32mexcept\u001b[0m \u001b[0mException\u001b[0m \u001b[0;32mas\u001b[0m \u001b[0me\u001b[0m\u001b[0;34m:\u001b[0m\u001b[0;34m\u001b[0m\u001b[0m\n",
      "\u001b[0;32m<ipython-input-51-2d52ce1fe983>\u001b[0m in \u001b[0;36m<lambda>\u001b[0;34m(row)\u001b[0m\n\u001b[1;32m     40\u001b[0m \u001b[0mdf_fits\u001b[0m \u001b[0;34m=\u001b[0m \u001b[0mpd\u001b[0m\u001b[0;34m.\u001b[0m\u001b[0mconcat\u001b[0m\u001b[0;34m(\u001b[0m\u001b[0mdfs\u001b[0m\u001b[0;34m,\u001b[0m \u001b[0maxis\u001b[0m \u001b[0;34m=\u001b[0m \u001b[0;36m0\u001b[0m\u001b[0;34m)\u001b[0m\u001b[0;34m.\u001b[0m\u001b[0mreset_index\u001b[0m\u001b[0;34m(\u001b[0m\u001b[0mdrop\u001b[0m\u001b[0;34m=\u001b[0m\u001b[0;32mTrue\u001b[0m\u001b[0;34m)\u001b[0m\u001b[0;34m\u001b[0m\u001b[0m\n\u001b[1;32m     41\u001b[0m \u001b[0mdf_fits\u001b[0m\u001b[0;34m[\u001b[0m\u001b[0;34m'r_tracing'\u001b[0m\u001b[0;34m]\u001b[0m \u001b[0;34m=\u001b[0m \u001b[0mnp\u001b[0m\u001b[0;34m.\u001b[0m\u001b[0msqrt\u001b[0m\u001b[0;34m(\u001b[0m\u001b[0mdf_fits\u001b[0m\u001b[0;34m[\u001b[0m\u001b[0;34m'x_tracing'\u001b[0m\u001b[0;34m]\u001b[0m\u001b[0;34m**\u001b[0m\u001b[0;36m2\u001b[0m \u001b[0;34m+\u001b[0m \u001b[0mdf_fits\u001b[0m\u001b[0;34m[\u001b[0m\u001b[0;34m'y_tracing'\u001b[0m\u001b[0;34m]\u001b[0m\u001b[0;34m**\u001b[0m\u001b[0;36m2\u001b[0m\u001b[0;34m)\u001b[0m\u001b[0;34m\u001b[0m\u001b[0m\n\u001b[0;32m---> 42\u001b[0;31m \u001b[0mdf_fits\u001b[0m\u001b[0;34m[\u001b[0m\u001b[0;34m'width_info'\u001b[0m\u001b[0;34m]\u001b[0m \u001b[0;34m=\u001b[0m \u001b[0mdf_fits\u001b[0m\u001b[0;34m.\u001b[0m\u001b[0mapply\u001b[0m\u001b[0;34m(\u001b[0m\u001b[0;32mlambda\u001b[0m \u001b[0mrow\u001b[0m\u001b[0;34m:\u001b[0m \u001b[0mfind_widths_of_skewed_gaussian_dani\u001b[0m\u001b[0;34m(\u001b[0m\u001b[0mrow\u001b[0m\u001b[0;34m)\u001b[0m\u001b[0;34m,\u001b[0m \u001b[0maxis\u001b[0m \u001b[0;34m=\u001b[0m \u001b[0;36m1\u001b[0m\u001b[0;34m)\u001b[0m\u001b[0;34m\u001b[0m\u001b[0m\n\u001b[0m\u001b[1;32m     43\u001b[0m \u001b[0mdf_fits\u001b[0m\u001b[0;34m[\u001b[0m\u001b[0;34m'x_max'\u001b[0m\u001b[0;34m]\u001b[0m \u001b[0;34m=\u001b[0m \u001b[0mdf_fits\u001b[0m\u001b[0;34m.\u001b[0m\u001b[0mapply\u001b[0m\u001b[0;34m(\u001b[0m\u001b[0;32mlambda\u001b[0m \u001b[0mrow\u001b[0m\u001b[0;34m:\u001b[0m \u001b[0mrow\u001b[0m\u001b[0;34m.\u001b[0m\u001b[0mwidth_info\u001b[0m\u001b[0;34m[\u001b[0m\u001b[0;34m'x_max'\u001b[0m\u001b[0;34m]\u001b[0m\u001b[0;34m,\u001b[0m \u001b[0maxis\u001b[0m \u001b[0;34m=\u001b[0m \u001b[0;36m1\u001b[0m\u001b[0;34m)\u001b[0m\u001b[0;34m\u001b[0m\u001b[0m\n\u001b[1;32m     44\u001b[0m \u001b[0mdf_fits\u001b[0m\u001b[0;34m[\u001b[0m\u001b[0;34m'y_max'\u001b[0m\u001b[0;34m]\u001b[0m \u001b[0;34m=\u001b[0m \u001b[0mdf_fits\u001b[0m\u001b[0;34m.\u001b[0m\u001b[0mapply\u001b[0m\u001b[0;34m(\u001b[0m\u001b[0;32mlambda\u001b[0m \u001b[0mrow\u001b[0m\u001b[0;34m:\u001b[0m \u001b[0mrow\u001b[0m\u001b[0;34m.\u001b[0m\u001b[0mwidth_info\u001b[0m\u001b[0;34m[\u001b[0m\u001b[0;34m'y_max'\u001b[0m\u001b[0;34m]\u001b[0m\u001b[0;34m,\u001b[0m \u001b[0maxis\u001b[0m \u001b[0;34m=\u001b[0m \u001b[0;36m1\u001b[0m\u001b[0;34m)\u001b[0m\u001b[0;34m\u001b[0m\u001b[0m\n",
      "\u001b[0;32m<ipython-input-51-2d52ce1fe983>\u001b[0m in \u001b[0;36mfind_widths_of_skewed_gaussian_dani\u001b[0;34m(params, dx)\u001b[0m\n\u001b[1;32m      1\u001b[0m \u001b[0;32mdef\u001b[0m \u001b[0mfind_widths_of_skewed_gaussian_dani\u001b[0m\u001b[0;34m(\u001b[0m\u001b[0mparams\u001b[0m\u001b[0;34m,\u001b[0m \u001b[0mdx\u001b[0m\u001b[0;34m=\u001b[0m\u001b[0;36m0.001\u001b[0m\u001b[0;34m)\u001b[0m\u001b[0;34m:\u001b[0m\u001b[0;34m\u001b[0m\u001b[0m\n\u001b[1;32m      2\u001b[0m     \u001b[0;31m# Evaluar el modelo ajustado\u001b[0m\u001b[0;34m\u001b[0m\u001b[0;34m\u001b[0m\u001b[0m\n\u001b[0;32m----> 3\u001b[0;31m     \u001b[0mfitted_model\u001b[0m \u001b[0;34m=\u001b[0m \u001b[0meval_fitted_model_with_given_params\u001b[0m\u001b[0;34m(\u001b[0m\u001b[0mparams\u001b[0m\u001b[0;34m,\u001b[0m \u001b[0mdx\u001b[0m\u001b[0;34m=\u001b[0m\u001b[0mdx\u001b[0m\u001b[0;34m)\u001b[0m\u001b[0;34m\u001b[0m\u001b[0m\n\u001b[0m\u001b[1;32m      4\u001b[0m     \u001b[0mx_eval\u001b[0m \u001b[0;34m=\u001b[0m \u001b[0mfitted_model\u001b[0m\u001b[0;34m[\u001b[0m\u001b[0;34m'x_eval'\u001b[0m\u001b[0;34m]\u001b[0m\u001b[0;34m\u001b[0m\u001b[0m\n\u001b[1;32m      5\u001b[0m     \u001b[0my_eval\u001b[0m \u001b[0;34m=\u001b[0m \u001b[0mfitted_model\u001b[0m\u001b[0;34m[\u001b[0m\u001b[0;34m'y_eval'\u001b[0m\u001b[0;34m]\u001b[0m\u001b[0;34m\u001b[0m\u001b[0m\n",
      "\u001b[0;32m~/Documentos/UdeA/programas_finales/Routines_and_data/gauss_asym.py\u001b[0m in \u001b[0;36meval_fitted_model_with_given_params\u001b[0;34m(params, dx)\u001b[0m\n\u001b[1;32m    188\u001b[0m                                                     gamma = gamma)\n\u001b[1;32m    189\u001b[0m \u001b[0;34m\u001b[0m\u001b[0m\n\u001b[0;32m--> 190\u001b[0;31m     \u001b[0mx_eval\u001b[0m \u001b[0;34m=\u001b[0m \u001b[0mnp\u001b[0m\u001b[0;34m.\u001b[0m\u001b[0marange\u001b[0m\u001b[0;34m(\u001b[0m\u001b[0mnp\u001b[0m\u001b[0;34m.\u001b[0m\u001b[0mmin\u001b[0m\u001b[0;34m(\u001b[0m\u001b[0mx\u001b[0m\u001b[0;34m)\u001b[0m\u001b[0;34m-\u001b[0m\u001b[0;36m2\u001b[0m\u001b[0;34m,\u001b[0m \u001b[0mnp\u001b[0m\u001b[0;34m.\u001b[0m\u001b[0mmax\u001b[0m\u001b[0;34m(\u001b[0m\u001b[0mx\u001b[0m\u001b[0;34m)\u001b[0m\u001b[0;34m+\u001b[0m\u001b[0;36m2\u001b[0m\u001b[0;34m,\u001b[0m \u001b[0mdx\u001b[0m\u001b[0;34m)\u001b[0m\u001b[0;34m\u001b[0m\u001b[0m\n\u001b[0m\u001b[1;32m    191\u001b[0m     model_analytical_eval = model_analytical.eval(params = params_analytical,\n\u001b[1;32m    192\u001b[0m                                                 x = x_eval)\n",
      "\u001b[0;32m<__array_function__ internals>\u001b[0m in \u001b[0;36mamin\u001b[0;34m(*args, **kwargs)\u001b[0m\n",
      "\u001b[0;32m~/anaconda3/lib/python3.7/site-packages/numpy/core/fromnumeric.py\u001b[0m in \u001b[0;36mamin\u001b[0;34m(a, axis, out, keepdims, initial, where)\u001b[0m\n\u001b[1;32m   2878\u001b[0m     \"\"\"\n\u001b[1;32m   2879\u001b[0m     return _wrapreduction(a, np.minimum, 'min', axis, None, out,\n\u001b[0;32m-> 2880\u001b[0;31m                           keepdims=keepdims, initial=initial, where=where)\n\u001b[0m\u001b[1;32m   2881\u001b[0m \u001b[0;34m\u001b[0m\u001b[0m\n\u001b[1;32m   2882\u001b[0m \u001b[0;34m\u001b[0m\u001b[0m\n",
      "\u001b[0;32m~/anaconda3/lib/python3.7/site-packages/numpy/core/fromnumeric.py\u001b[0m in \u001b[0;36m_wrapreduction\u001b[0;34m(obj, ufunc, method, axis, dtype, out, **kwargs)\u001b[0m\n\u001b[1;32m     84\u001b[0m                 \u001b[0;32mreturn\u001b[0m \u001b[0mreduction\u001b[0m\u001b[0;34m(\u001b[0m\u001b[0maxis\u001b[0m\u001b[0;34m=\u001b[0m\u001b[0maxis\u001b[0m\u001b[0;34m,\u001b[0m \u001b[0mout\u001b[0m\u001b[0;34m=\u001b[0m\u001b[0mout\u001b[0m\u001b[0;34m,\u001b[0m \u001b[0;34m**\u001b[0m\u001b[0mpasskwargs\u001b[0m\u001b[0;34m)\u001b[0m\u001b[0;34m\u001b[0m\u001b[0m\n\u001b[1;32m     85\u001b[0m \u001b[0;34m\u001b[0m\u001b[0m\n\u001b[0;32m---> 86\u001b[0;31m     \u001b[0;32mreturn\u001b[0m \u001b[0mufunc\u001b[0m\u001b[0;34m.\u001b[0m\u001b[0mreduce\u001b[0m\u001b[0;34m(\u001b[0m\u001b[0mobj\u001b[0m\u001b[0;34m,\u001b[0m \u001b[0maxis\u001b[0m\u001b[0;34m,\u001b[0m \u001b[0mdtype\u001b[0m\u001b[0;34m,\u001b[0m \u001b[0mout\u001b[0m\u001b[0;34m,\u001b[0m \u001b[0;34m**\u001b[0m\u001b[0mpasskwargs\u001b[0m\u001b[0;34m)\u001b[0m\u001b[0;34m\u001b[0m\u001b[0m\n\u001b[0m\u001b[1;32m     87\u001b[0m \u001b[0;34m\u001b[0m\u001b[0m\n\u001b[1;32m     88\u001b[0m \u001b[0;34m\u001b[0m\u001b[0m\n",
      "\u001b[0;31mValueError\u001b[0m: ('zero-size array to reduction operation minimum which has no identity', 'occurred at index 0')"
     ]
    }
   ],
   "source": [
    "def find_widths_of_skewed_gaussian_dani(params, dx=0.001):\n",
    "    # Evaluar el modelo ajustado\n",
    "    fitted_model = eval_fitted_model_with_given_params(params, dx=dx)\n",
    "    x_eval = fitted_model['x_eval']\n",
    "    y_eval = fitted_model['y_eval']\n",
    "\n",
    "    # Verificar que x_eval y y_eval no estén vacíos\n",
    "    if len(x_eval) == 0 or len(y_eval) == 0:\n",
    "        print(f\"Advertencia: 'x_eval' o 'y_eval' están vacíos para params id: {params.get('id_tracing', 'desconocido')}\")\n",
    "        return {'x_max': np.nan, 'y_max': np.nan, 'w1': np.nan, 'w2': np.nan}\n",
    "\n",
    "    # Continúa si no están vacíos\n",
    "    x_max, y_max = find_maximum(x_eval, y_eval)\n",
    "\n",
    "    xs_line = np.arange(np.min(x_eval), np.max(x_eval), 0.01)\n",
    "    ys_line = np.full(len(xs_line), 0.5 * y_max)\n",
    "\n",
    "    first_line = LineString(np.column_stack((x_eval, y_eval)))\n",
    "    second_line = LineString(np.column_stack((xs_line, ys_line)))\n",
    "    intersection = first_line.intersection(second_line)\n",
    "\n",
    "    points_intercept = []\n",
    "    if isinstance(intersection, MultiPoint):\n",
    "        points_intercept = list(intersection)\n",
    "    elif not intersection.is_empty:\n",
    "        points_intercept = [intersection]\n",
    "\n",
    "    points_intercept = [[point.x, point.y] for point in points_intercept]\n",
    "\n",
    "    if len(points_intercept) >= 2:\n",
    "        w1 = x_max - points_intercept[1][0]\n",
    "        w2 = points_intercept[0][0] - x_max\n",
    "    else:\n",
    "        w1, w2 = np.nan, np.nan  # Si no hay suficientes intersecciones\n",
    "\n",
    "    return {'x_max': x_max, 'y_max': y_max, 'w1': w1, 'w2': w2}\n",
    "\n",
    "\n",
    "\n",
    "df_fits = pd.concat(dfs, axis = 0).reset_index(drop=True)\n",
    "df_fits['r_tracing'] = np.sqrt(df_fits['x_tracing']**2 + df_fits['y_tracing']**2)\n",
    "df_fits['width_info'] = df_fits.apply(lambda row: find_widths_of_skewed_gaussian_dani(row), axis = 1)\n",
    "df_fits['x_max'] = df_fits.apply(lambda row: row.width_info['x_max'], axis = 1)\n",
    "df_fits['y_max'] = df_fits.apply(lambda row: row.width_info['y_max'], axis = 1)\n",
    "df_fits['w1'] = df_fits.apply(lambda row: row.width_info['w1'], axis = 1)\n",
    "df_fits['w2'] = df_fits.apply(lambda row: row.width_info['w2'], axis = 1)"
   ]
  },
  {
   "cell_type": "code",
   "execution_count": 31,
   "metadata": {},
   "outputs": [
    {
     "ename": "AttributeError",
     "evalue": "'DataFrame' object has no attribute 'arm'",
     "output_type": "error",
     "traceback": [
      "\u001b[0;31m---------------------------------------------------------------------------\u001b[0m",
      "\u001b[0;31mAttributeError\u001b[0m                            Traceback (most recent call last)",
      "\u001b[0;32m<ipython-input-31-f7dacd5fb477>\u001b[0m in \u001b[0;36m<module>\u001b[0;34m()\u001b[0m\n\u001b[0;32m----> 1\u001b[0;31m \u001b[0mfits_arm1\u001b[0m \u001b[0;34m=\u001b[0m \u001b[0mdf_fits\u001b[0m\u001b[0;34m[\u001b[0m\u001b[0mdf_fits\u001b[0m\u001b[0;34m.\u001b[0m\u001b[0marm\u001b[0m \u001b[0;34m==\u001b[0m \u001b[0;36m1\u001b[0m\u001b[0;34m]\u001b[0m\u001b[0;34m\u001b[0m\u001b[0m\n\u001b[0m\u001b[1;32m      2\u001b[0m \u001b[0mfits_arm2\u001b[0m \u001b[0;34m=\u001b[0m \u001b[0mdf_fits\u001b[0m\u001b[0;34m[\u001b[0m\u001b[0mdf_fits\u001b[0m\u001b[0;34m.\u001b[0m\u001b[0marm\u001b[0m \u001b[0;34m==\u001b[0m \u001b[0;36m2\u001b[0m\u001b[0;34m]\u001b[0m\u001b[0;34m\u001b[0m\u001b[0m\n",
      "\u001b[0;32m~/anaconda3/lib/python3.7/site-packages/pandas/core/generic.py\u001b[0m in \u001b[0;36m__getattr__\u001b[0;34m(self, name)\u001b[0m\n\u001b[1;32m   4374\u001b[0m             \u001b[0;32mif\u001b[0m \u001b[0mself\u001b[0m\u001b[0;34m.\u001b[0m\u001b[0m_info_axis\u001b[0m\u001b[0;34m.\u001b[0m\u001b[0m_can_hold_identifiers_and_holds_name\u001b[0m\u001b[0;34m(\u001b[0m\u001b[0mname\u001b[0m\u001b[0;34m)\u001b[0m\u001b[0;34m:\u001b[0m\u001b[0;34m\u001b[0m\u001b[0m\n\u001b[1;32m   4375\u001b[0m                 \u001b[0;32mreturn\u001b[0m \u001b[0mself\u001b[0m\u001b[0;34m[\u001b[0m\u001b[0mname\u001b[0m\u001b[0;34m]\u001b[0m\u001b[0;34m\u001b[0m\u001b[0m\n\u001b[0;32m-> 4376\u001b[0;31m             \u001b[0;32mreturn\u001b[0m \u001b[0mobject\u001b[0m\u001b[0;34m.\u001b[0m\u001b[0m__getattribute__\u001b[0m\u001b[0;34m(\u001b[0m\u001b[0mself\u001b[0m\u001b[0;34m,\u001b[0m \u001b[0mname\u001b[0m\u001b[0;34m)\u001b[0m\u001b[0;34m\u001b[0m\u001b[0m\n\u001b[0m\u001b[1;32m   4377\u001b[0m \u001b[0;34m\u001b[0m\u001b[0m\n\u001b[1;32m   4378\u001b[0m     \u001b[0;32mdef\u001b[0m \u001b[0m__setattr__\u001b[0m\u001b[0;34m(\u001b[0m\u001b[0mself\u001b[0m\u001b[0;34m,\u001b[0m \u001b[0mname\u001b[0m\u001b[0;34m,\u001b[0m \u001b[0mvalue\u001b[0m\u001b[0;34m)\u001b[0m\u001b[0;34m:\u001b[0m\u001b[0;34m\u001b[0m\u001b[0m\n",
      "\u001b[0;31mAttributeError\u001b[0m: 'DataFrame' object has no attribute 'arm'"
     ]
    }
   ],
   "source": [
    "fits_arm1 = df_fits[df_fits.arm == 1]\n",
    "fits_arm2 = df_fits[df_fits.arm == 2]"
   ]
  },
  {
   "cell_type": "code",
   "execution_count": 32,
   "metadata": {},
   "outputs": [
    {
     "ename": "NameError",
     "evalue": "name 'fits_arm1' is not defined",
     "output_type": "error",
     "traceback": [
      "\u001b[0;31m---------------------------------------------------------------------------\u001b[0m",
      "\u001b[0;31mNameError\u001b[0m                                 Traceback (most recent call last)",
      "\u001b[0;32m<ipython-input-32-ccd76084cf79>\u001b[0m in \u001b[0;36m<module>\u001b[0;34m()\u001b[0m\n\u001b[1;32m      4\u001b[0m \u001b[0;34m\u001b[0m\u001b[0m\n\u001b[1;32m      5\u001b[0m \u001b[0mfig\u001b[0m\u001b[0;34m,\u001b[0m \u001b[0max\u001b[0m \u001b[0;34m=\u001b[0m \u001b[0mplt\u001b[0m\u001b[0;34m.\u001b[0m\u001b[0msubplots\u001b[0m\u001b[0;34m(\u001b[0m\u001b[0;34m)\u001b[0m\u001b[0;34m\u001b[0m\u001b[0m\n\u001b[0;32m----> 6\u001b[0;31m \u001b[0max\u001b[0m\u001b[0;34m.\u001b[0m\u001b[0mplot\u001b[0m\u001b[0;34m(\u001b[0m\u001b[0mfits_arm1\u001b[0m\u001b[0;34m.\u001b[0m\u001b[0mx_tracing\u001b[0m\u001b[0;34m,\u001b[0m \u001b[0mfits_arm1\u001b[0m\u001b[0;34m.\u001b[0m\u001b[0my_tracing\u001b[0m\u001b[0;34m,\u001b[0m \u001b[0mmarker\u001b[0m \u001b[0;34m=\u001b[0m \u001b[0;34m'o'\u001b[0m\u001b[0;34m,\u001b[0m \u001b[0mlabel\u001b[0m \u001b[0;34m=\u001b[0m \u001b[0;34m'Arm1'\u001b[0m\u001b[0;34m)\u001b[0m\u001b[0;34m\u001b[0m\u001b[0m\n\u001b[0m\u001b[1;32m      7\u001b[0m \u001b[0max\u001b[0m\u001b[0;34m.\u001b[0m\u001b[0mplot\u001b[0m\u001b[0;34m(\u001b[0m\u001b[0mfits_arm2\u001b[0m\u001b[0;34m.\u001b[0m\u001b[0mx_tracing\u001b[0m\u001b[0;34m,\u001b[0m \u001b[0mfits_arm2\u001b[0m\u001b[0;34m.\u001b[0m\u001b[0my_tracing\u001b[0m\u001b[0;34m,\u001b[0m \u001b[0mmarker\u001b[0m \u001b[0;34m=\u001b[0m \u001b[0;34m'o'\u001b[0m\u001b[0;34m,\u001b[0m \u001b[0mlabel\u001b[0m \u001b[0;34m=\u001b[0m \u001b[0;34m'Arm2'\u001b[0m\u001b[0;34m)\u001b[0m\u001b[0;34m\u001b[0m\u001b[0m\n\u001b[1;32m      8\u001b[0m \u001b[0max\u001b[0m\u001b[0;34m.\u001b[0m\u001b[0mset_xlim\u001b[0m\u001b[0;34m(\u001b[0m\u001b[0;34m-\u001b[0m\u001b[0;36m20\u001b[0m\u001b[0;34m,\u001b[0m\u001b[0;36m20\u001b[0m\u001b[0;34m)\u001b[0m\u001b[0;34m\u001b[0m\u001b[0m\n",
      "\u001b[0;31mNameError\u001b[0m: name 'fits_arm1' is not defined"
     ]
    },
    {
     "data": {
      "application/vnd.jupyter.widget-view+json": {
       "model_id": "af1fcd931bda44fcb8a775df8bea25fa",
       "version_major": 2,
       "version_minor": 0
      },
      "image/png": "[encoded data removed]",
      "text/html": [
       "\n",
       "            <div style=\"display: inline-block;\">\n",
       "                <div class=\"jupyter-widgets widget-label\" style=\"text-align: center;\">\n",
       "                    Figure\n",
       "                </div>\n",
       "                <img src='data:image/png;base64,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' width=640.0/>\n",
       "            </div>\n",
       "        "
      ],
      "text/plain": [
       "Canvas(toolbar=Toolbar(toolitems=[('Home', 'Reset original view', 'home', 'home'), ('Back', 'Back to previous …"
      ]
     },
     "metadata": {},
     "output_type": "display_data"
    }
   ],
   "source": [
    "\n",
    "import matplotlib as mpl\n",
    "mpl.rcParams['text.usetex'] = False\n",
    "\n",
    "fig, ax = plt.subplots()\n",
    "ax.plot(fits_arm1.x_tracing, fits_arm1.y_tracing, marker = 'o', label = 'Arm1')\n",
    "ax.plot(fits_arm2.x_tracing, fits_arm2.y_tracing, marker = 'o', label = 'Arm2')\n",
    "ax.set_xlim(-20,20)\n",
    "ax.set_ylim(-20,20)\n",
    "ax.legend()\n",
    "ax.set_aspect('equal')"
   ]
  },
  {
   "cell_type": "code",
   "execution_count": 86,
   "metadata": {},
   "outputs": [],
   "source": [
    "def calc_euclidean(x1,y1,x2,y2):\n",
    "    return np.sqrt((x2 - x1)**2 + (y2 - y1)**2)"
   ]
  },
  {
   "cell_type": "code",
   "execution_count": 26,
   "metadata": {},
   "outputs": [
    {
     "ename": "NameError",
     "evalue": "name 'calc_euclidean' is not defined",
     "output_type": "error",
     "traceback": [
      "\u001b[0;31m---------------------------------------------------------------------------\u001b[0m",
      "\u001b[0;31mNameError\u001b[0m                                 Traceback (most recent call last)",
      "\u001b[0;32m<ipython-input-26-f374a7f21e15>\u001b[0m in \u001b[0;36m<module>\u001b[0;34m()\u001b[0m\n\u001b[1;32m      7\u001b[0m         \u001b[0mx2\u001b[0m \u001b[0;34m=\u001b[0m \u001b[0mdf_tracing_arm2\u001b[0m\u001b[0;34m.\u001b[0m\u001b[0miloc\u001b[0m\u001b[0;34m[\u001b[0m\u001b[0mi\u001b[0m\u001b[0;34m]\u001b[0m\u001b[0;34m.\u001b[0m\u001b[0mx\u001b[0m\u001b[0;34m\u001b[0m\u001b[0m\n\u001b[1;32m      8\u001b[0m         \u001b[0my2\u001b[0m \u001b[0;34m=\u001b[0m \u001b[0mdf_tracing_arm2\u001b[0m\u001b[0;34m.\u001b[0m\u001b[0miloc\u001b[0m\u001b[0;34m[\u001b[0m\u001b[0mi\u001b[0m\u001b[0;34m]\u001b[0m\u001b[0;34m.\u001b[0m\u001b[0my\u001b[0m\u001b[0;34m\u001b[0m\u001b[0m\n\u001b[0;32m----> 9\u001b[0;31m         \u001b[0mdist_previous\u001b[0m\u001b[0;34m.\u001b[0m\u001b[0mappend\u001b[0m\u001b[0;34m(\u001b[0m\u001b[0mcalc_euclidean\u001b[0m\u001b[0;34m(\u001b[0m\u001b[0mx1\u001b[0m\u001b[0;34m,\u001b[0m\u001b[0my1\u001b[0m\u001b[0;34m,\u001b[0m\u001b[0mx2\u001b[0m\u001b[0;34m,\u001b[0m\u001b[0my2\u001b[0m\u001b[0;34m)\u001b[0m\u001b[0;34m)\u001b[0m\u001b[0;34m\u001b[0m\u001b[0m\n\u001b[0m\u001b[1;32m     10\u001b[0m \u001b[0;34m\u001b[0m\u001b[0m\n\u001b[1;32m     11\u001b[0m     \u001b[0;32melse\u001b[0m\u001b[0;34m:\u001b[0m\u001b[0;34m\u001b[0m\u001b[0m\n",
      "\u001b[0;31mNameError\u001b[0m: name 'calc_euclidean' is not defined"
     ]
    }
   ],
   "source": [
    "dist_previous = []\n",
    "for i in range(len(df_tracing_arm2)):\n",
    "    if i == 0:\n",
    "        x1 = 0\n",
    "        y1 = 0\n",
    "        \n",
    "        x2 = df_tracing_arm2.iloc[i].x\n",
    "        y2 = df_tracing_arm2.iloc[i].y\n",
    "        dist_previous.append(calc_euclidean(x1,y1,x2,y2))\n",
    "        \n",
    "    else:\n",
    "        x1 = df_tracing_arm2.iloc[i-1].x\n",
    "        y1 = df_tracing_arm2.iloc[i-1].y\n",
    "        \n",
    "        x2 = df_tracing_arm2.iloc[i].x\n",
    "        y2 = df_tracing_arm2.iloc[i].y\n",
    "        \n",
    "        dist_previous.append(calc_euclidean(x1,y1,x2,y2))"
   ]
  },
  {
   "cell_type": "code",
   "execution_count": 27,
   "metadata": {},
   "outputs": [
    {
     "ename": "ValueError",
     "evalue": "Length of values does not match length of index",
     "output_type": "error",
     "traceback": [
      "\u001b[0;31m---------------------------------------------------------------------------\u001b[0m",
      "\u001b[0;31mValueError\u001b[0m                                Traceback (most recent call last)",
      "\u001b[0;32m<ipython-input-27-f78d998223cd>\u001b[0m in \u001b[0;36m<module>\u001b[0;34m()\u001b[0m\n\u001b[0;32m----> 1\u001b[0;31m \u001b[0mdf_tracing_arm2\u001b[0m\u001b[0;34m[\u001b[0m\u001b[0;34m'dist_previous'\u001b[0m\u001b[0;34m]\u001b[0m \u001b[0;34m=\u001b[0m \u001b[0mdist_previous\u001b[0m\u001b[0;34m\u001b[0m\u001b[0m\n\u001b[0m\u001b[1;32m      2\u001b[0m \u001b[0mdf_tracing_arm2\u001b[0m\u001b[0;34m[\u001b[0m\u001b[0;34m'arm_length'\u001b[0m\u001b[0;34m]\u001b[0m \u001b[0;34m=\u001b[0m \u001b[0mdf_tracing_arm2\u001b[0m\u001b[0;34m.\u001b[0m\u001b[0mdist_previous\u001b[0m\u001b[0;34m.\u001b[0m\u001b[0mcumsum\u001b[0m\u001b[0;34m(\u001b[0m\u001b[0;34m)\u001b[0m\u001b[0;34m\u001b[0m\u001b[0m\n",
      "\u001b[0;32m~/anaconda3/lib/python3.7/site-packages/pandas/core/frame.py\u001b[0m in \u001b[0;36m__setitem__\u001b[0;34m(self, key, value)\u001b[0m\n\u001b[1;32m   3117\u001b[0m         \u001b[0;32melse\u001b[0m\u001b[0;34m:\u001b[0m\u001b[0;34m\u001b[0m\u001b[0m\n\u001b[1;32m   3118\u001b[0m             \u001b[0;31m# set column\u001b[0m\u001b[0;34m\u001b[0m\u001b[0;34m\u001b[0m\u001b[0m\n\u001b[0;32m-> 3119\u001b[0;31m             \u001b[0mself\u001b[0m\u001b[0;34m.\u001b[0m\u001b[0m_set_item\u001b[0m\u001b[0;34m(\u001b[0m\u001b[0mkey\u001b[0m\u001b[0;34m,\u001b[0m \u001b[0mvalue\u001b[0m\u001b[0;34m)\u001b[0m\u001b[0;34m\u001b[0m\u001b[0m\n\u001b[0m\u001b[1;32m   3120\u001b[0m \u001b[0;34m\u001b[0m\u001b[0m\n\u001b[1;32m   3121\u001b[0m     \u001b[0;32mdef\u001b[0m \u001b[0m_setitem_slice\u001b[0m\u001b[0;34m(\u001b[0m\u001b[0mself\u001b[0m\u001b[0;34m,\u001b[0m \u001b[0mkey\u001b[0m\u001b[0;34m,\u001b[0m \u001b[0mvalue\u001b[0m\u001b[0;34m)\u001b[0m\u001b[0;34m:\u001b[0m\u001b[0;34m\u001b[0m\u001b[0m\n",
      "\u001b[0;32m~/anaconda3/lib/python3.7/site-packages/pandas/core/frame.py\u001b[0m in \u001b[0;36m_set_item\u001b[0;34m(self, key, value)\u001b[0m\n\u001b[1;32m   3192\u001b[0m \u001b[0;34m\u001b[0m\u001b[0m\n\u001b[1;32m   3193\u001b[0m         \u001b[0mself\u001b[0m\u001b[0;34m.\u001b[0m\u001b[0m_ensure_valid_index\u001b[0m\u001b[0;34m(\u001b[0m\u001b[0mvalue\u001b[0m\u001b[0;34m)\u001b[0m\u001b[0;34m\u001b[0m\u001b[0m\n\u001b[0;32m-> 3194\u001b[0;31m         \u001b[0mvalue\u001b[0m \u001b[0;34m=\u001b[0m \u001b[0mself\u001b[0m\u001b[0;34m.\u001b[0m\u001b[0m_sanitize_column\u001b[0m\u001b[0;34m(\u001b[0m\u001b[0mkey\u001b[0m\u001b[0;34m,\u001b[0m \u001b[0mvalue\u001b[0m\u001b[0;34m)\u001b[0m\u001b[0;34m\u001b[0m\u001b[0m\n\u001b[0m\u001b[1;32m   3195\u001b[0m         \u001b[0mNDFrame\u001b[0m\u001b[0;34m.\u001b[0m\u001b[0m_set_item\u001b[0m\u001b[0;34m(\u001b[0m\u001b[0mself\u001b[0m\u001b[0;34m,\u001b[0m \u001b[0mkey\u001b[0m\u001b[0;34m,\u001b[0m \u001b[0mvalue\u001b[0m\u001b[0;34m)\u001b[0m\u001b[0;34m\u001b[0m\u001b[0m\n\u001b[1;32m   3196\u001b[0m \u001b[0;34m\u001b[0m\u001b[0m\n",
      "\u001b[0;32m~/anaconda3/lib/python3.7/site-packages/pandas/core/frame.py\u001b[0m in \u001b[0;36m_sanitize_column\u001b[0;34m(self, key, value, broadcast)\u001b[0m\n\u001b[1;32m   3389\u001b[0m \u001b[0;34m\u001b[0m\u001b[0m\n\u001b[1;32m   3390\u001b[0m             \u001b[0;31m# turn me into an ndarray\u001b[0m\u001b[0;34m\u001b[0m\u001b[0;34m\u001b[0m\u001b[0m\n\u001b[0;32m-> 3391\u001b[0;31m             \u001b[0mvalue\u001b[0m \u001b[0;34m=\u001b[0m \u001b[0m_sanitize_index\u001b[0m\u001b[0;34m(\u001b[0m\u001b[0mvalue\u001b[0m\u001b[0;34m,\u001b[0m \u001b[0mself\u001b[0m\u001b[0;34m.\u001b[0m\u001b[0mindex\u001b[0m\u001b[0;34m,\u001b[0m \u001b[0mcopy\u001b[0m\u001b[0;34m=\u001b[0m\u001b[0;32mFalse\u001b[0m\u001b[0;34m)\u001b[0m\u001b[0;34m\u001b[0m\u001b[0m\n\u001b[0m\u001b[1;32m   3392\u001b[0m             \u001b[0;32mif\u001b[0m \u001b[0;32mnot\u001b[0m \u001b[0misinstance\u001b[0m\u001b[0;34m(\u001b[0m\u001b[0mvalue\u001b[0m\u001b[0;34m,\u001b[0m \u001b[0;34m(\u001b[0m\u001b[0mnp\u001b[0m\u001b[0;34m.\u001b[0m\u001b[0mndarray\u001b[0m\u001b[0;34m,\u001b[0m \u001b[0mIndex\u001b[0m\u001b[0;34m)\u001b[0m\u001b[0;34m)\u001b[0m\u001b[0;34m:\u001b[0m\u001b[0;34m\u001b[0m\u001b[0m\n\u001b[1;32m   3393\u001b[0m                 \u001b[0;32mif\u001b[0m \u001b[0misinstance\u001b[0m\u001b[0;34m(\u001b[0m\u001b[0mvalue\u001b[0m\u001b[0;34m,\u001b[0m \u001b[0mlist\u001b[0m\u001b[0;34m)\u001b[0m \u001b[0;32mand\u001b[0m \u001b[0mlen\u001b[0m\u001b[0;34m(\u001b[0m\u001b[0mvalue\u001b[0m\u001b[0;34m)\u001b[0m \u001b[0;34m>\u001b[0m \u001b[0;36m0\u001b[0m\u001b[0;34m:\u001b[0m\u001b[0;34m\u001b[0m\u001b[0m\n",
      "\u001b[0;32m~/anaconda3/lib/python3.7/site-packages/pandas/core/series.py\u001b[0m in \u001b[0;36m_sanitize_index\u001b[0;34m(data, index, copy)\u001b[0m\n\u001b[1;32m   3999\u001b[0m \u001b[0;34m\u001b[0m\u001b[0m\n\u001b[1;32m   4000\u001b[0m     \u001b[0;32mif\u001b[0m \u001b[0mlen\u001b[0m\u001b[0;34m(\u001b[0m\u001b[0mdata\u001b[0m\u001b[0;34m)\u001b[0m \u001b[0;34m!=\u001b[0m \u001b[0mlen\u001b[0m\u001b[0;34m(\u001b[0m\u001b[0mindex\u001b[0m\u001b[0;34m)\u001b[0m\u001b[0;34m:\u001b[0m\u001b[0;34m\u001b[0m\u001b[0m\n\u001b[0;32m-> 4001\u001b[0;31m         \u001b[0;32mraise\u001b[0m \u001b[0mValueError\u001b[0m\u001b[0;34m(\u001b[0m\u001b[0;34m'Length of values does not match length of '\u001b[0m \u001b[0;34m'index'\u001b[0m\u001b[0;34m)\u001b[0m\u001b[0;34m\u001b[0m\u001b[0m\n\u001b[0m\u001b[1;32m   4002\u001b[0m \u001b[0;34m\u001b[0m\u001b[0m\n\u001b[1;32m   4003\u001b[0m     \u001b[0;32mif\u001b[0m \u001b[0misinstance\u001b[0m\u001b[0;34m(\u001b[0m\u001b[0mdata\u001b[0m\u001b[0;34m,\u001b[0m \u001b[0mABCIndexClass\u001b[0m\u001b[0;34m)\u001b[0m \u001b[0;32mand\u001b[0m \u001b[0;32mnot\u001b[0m \u001b[0mcopy\u001b[0m\u001b[0;34m:\u001b[0m\u001b[0;34m\u001b[0m\u001b[0m\n",
      "\u001b[0;31mValueError\u001b[0m: Length of values does not match length of index"
     ]
    }
   ],
   "source": [
    "df_tracing_arm2['dist_previous'] = dist_previous\n",
    "df_tracing_arm2['arm_length'] = df_tracing_arm2.dist_previous.cumsum()"
   ]
  },
  {
   "cell_type": "code",
   "execution_count": 28,
   "metadata": {},
   "outputs": [],
   "source": [
    "def assign_length(id_tracing, df_tracing):\n",
    "    length = df_tracing[df_tracing.id == id_tracing].arm_length.values[0]\n",
    "    return length"
   ]
  },
  {
   "cell_type": "code",
   "execution_count": 29,
   "metadata": {},
   "outputs": [
    {
     "ename": "NameError",
     "evalue": "name 'fits_arm2' is not defined",
     "output_type": "error",
     "traceback": [
      "\u001b[0;31m---------------------------------------------------------------------------\u001b[0m",
      "\u001b[0;31mNameError\u001b[0m                                 Traceback (most recent call last)",
      "\u001b[0;32m<ipython-input-29-821fb1cd7ba6>\u001b[0m in \u001b[0;36m<module>\u001b[0;34m()\u001b[0m\n\u001b[0;32m----> 1\u001b[0;31m \u001b[0mfits_arm2\u001b[0m\u001b[0;34m[\u001b[0m\u001b[0;34m'arm_length'\u001b[0m\u001b[0;34m]\u001b[0m \u001b[0;34m=\u001b[0m \u001b[0mfits_arm2\u001b[0m\u001b[0;34m.\u001b[0m\u001b[0mapply\u001b[0m\u001b[0;34m(\u001b[0m\u001b[0;32mlambda\u001b[0m \u001b[0mrow\u001b[0m\u001b[0;34m:\u001b[0m \u001b[0massign_length\u001b[0m\u001b[0;34m(\u001b[0m\u001b[0mrow\u001b[0m\u001b[0;34m.\u001b[0m\u001b[0mid_tracing\u001b[0m\u001b[0;34m,\u001b[0m \u001b[0mdf_tracing_arm2\u001b[0m\u001b[0;34m)\u001b[0m\u001b[0;34m,\u001b[0m \u001b[0maxis\u001b[0m \u001b[0;34m=\u001b[0m \u001b[0;36m1\u001b[0m\u001b[0;34m)\u001b[0m\u001b[0;34m\u001b[0m\u001b[0m\n\u001b[0m",
      "\u001b[0;31mNameError\u001b[0m: name 'fits_arm2' is not defined"
     ]
    }
   ],
   "source": [
    "fits_arm2['arm_length'] = fits_arm2.apply(lambda row: assign_length(row.id_tracing, df_tracing_arm2), axis = 1)"
   ]
  },
  {
   "cell_type": "code",
   "execution_count": 91,
   "metadata": {},
   "outputs": [
    {
     "ename": "AttributeError",
     "evalue": "'DataFrame' object has no attribute 'arm_length'",
     "output_type": "error",
     "traceback": [
      "\u001b[0;31m---------------------------------------------------------------------------\u001b[0m",
      "\u001b[0;31mAttributeError\u001b[0m                            Traceback (most recent call last)",
      "\u001b[0;32m<ipython-input-91-64c215417116>\u001b[0m in \u001b[0;36m<module>\u001b[0;34m()\u001b[0m\n\u001b[1;32m      1\u001b[0m \u001b[0mfig\u001b[0m\u001b[0;34m,\u001b[0m\u001b[0max\u001b[0m \u001b[0;34m=\u001b[0m \u001b[0mplt\u001b[0m\u001b[0;34m.\u001b[0m\u001b[0msubplots\u001b[0m\u001b[0;34m(\u001b[0m\u001b[0;34m)\u001b[0m\u001b[0;34m\u001b[0m\u001b[0m\n\u001b[0;32m----> 2\u001b[0;31m \u001b[0max\u001b[0m\u001b[0;34m.\u001b[0m\u001b[0mscatter\u001b[0m\u001b[0;34m(\u001b[0m\u001b[0mfits_arm1\u001b[0m\u001b[0;34m.\u001b[0m\u001b[0marm_length\u001b[0m\u001b[0;34m,\u001b[0m \u001b[0mfits_arm1\u001b[0m\u001b[0;34m.\u001b[0m\u001b[0mgamma\u001b[0m\u001b[0;34m)\u001b[0m\u001b[0;34m\u001b[0m\u001b[0m\n\u001b[0m\u001b[1;32m      3\u001b[0m \u001b[0max\u001b[0m\u001b[0;34m.\u001b[0m\u001b[0mset_ylim\u001b[0m\u001b[0;34m(\u001b[0m\u001b[0;34m-\u001b[0m\u001b[0;36m1\u001b[0m\u001b[0;34m,\u001b[0m\u001b[0;36m1\u001b[0m\u001b[0;34m)\u001b[0m\u001b[0;34m\u001b[0m\u001b[0m\n",
      "\u001b[0;32m~/anaconda3/lib/python3.7/site-packages/pandas/core/generic.py\u001b[0m in \u001b[0;36m__getattr__\u001b[0;34m(self, name)\u001b[0m\n\u001b[1;32m   4374\u001b[0m             \u001b[0;32mif\u001b[0m \u001b[0mself\u001b[0m\u001b[0;34m.\u001b[0m\u001b[0m_info_axis\u001b[0m\u001b[0;34m.\u001b[0m\u001b[0m_can_hold_identifiers_and_holds_name\u001b[0m\u001b[0;34m(\u001b[0m\u001b[0mname\u001b[0m\u001b[0;34m)\u001b[0m\u001b[0;34m:\u001b[0m\u001b[0;34m\u001b[0m\u001b[0m\n\u001b[1;32m   4375\u001b[0m                 \u001b[0;32mreturn\u001b[0m \u001b[0mself\u001b[0m\u001b[0;34m[\u001b[0m\u001b[0mname\u001b[0m\u001b[0;34m]\u001b[0m\u001b[0;34m\u001b[0m\u001b[0m\n\u001b[0;32m-> 4376\u001b[0;31m             \u001b[0;32mreturn\u001b[0m \u001b[0mobject\u001b[0m\u001b[0;34m.\u001b[0m\u001b[0m__getattribute__\u001b[0m\u001b[0;34m(\u001b[0m\u001b[0mself\u001b[0m\u001b[0;34m,\u001b[0m \u001b[0mname\u001b[0m\u001b[0;34m)\u001b[0m\u001b[0;34m\u001b[0m\u001b[0m\n\u001b[0m\u001b[1;32m   4377\u001b[0m \u001b[0;34m\u001b[0m\u001b[0m\n\u001b[1;32m   4378\u001b[0m     \u001b[0;32mdef\u001b[0m \u001b[0m__setattr__\u001b[0m\u001b[0;34m(\u001b[0m\u001b[0mself\u001b[0m\u001b[0;34m,\u001b[0m \u001b[0mname\u001b[0m\u001b[0;34m,\u001b[0m \u001b[0mvalue\u001b[0m\u001b[0;34m)\u001b[0m\u001b[0;34m:\u001b[0m\u001b[0;34m\u001b[0m\u001b[0m\n",
      "\u001b[0;31mAttributeError\u001b[0m: 'DataFrame' object has no attribute 'arm_length'"
     ]
    },
    {
     "data": {
      "application/vnd.jupyter.widget-view+json": {
       "model_id": "8a6ed1a39f184e7d8c460696ad50a62e",
       "version_major": 2,
       "version_minor": 0
      },
      "image/png": "[encoded data removed]",
      "text/html": [
       "\n",
       "            <div style=\"display: inline-block;\">\n",
       "                <div class=\"jupyter-widgets widget-label\" style=\"text-align: center;\">\n",
       "                    Figure\n",
       "                </div>\n",
       "                <img src='data:image/png;base64,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' width=640.0/>\n",
       "            </div>\n",
       "        "
      ],
      "text/plain": [
       "Canvas(toolbar=Toolbar(toolitems=[('Home', 'Reset original view', 'home', 'home'), ('Back', 'Back to previous …"
      ]
     },
     "metadata": {},
     "output_type": "display_data"
    }
   ],
   "source": [
    "fig,ax = plt.subplots()\n",
    "ax.scatter(fits_arm1.arm_length, fits_arm1.gamma)\n",
    "ax.set_ylim(-1,1)"
   ]
  },
  {
   "cell_type": "code",
   "execution_count": 92,
   "metadata": {},
   "outputs": [
    {
     "ename": "NameError",
     "evalue": "name 'arm1' is not defined",
     "output_type": "error",
     "traceback": [
      "\u001b[0;31m---------------------------------------------------------------------------\u001b[0m",
      "\u001b[0;31mNameError\u001b[0m                                 Traceback (most recent call last)",
      "\u001b[0;32m<ipython-input-92-bc0a71f77a6b>\u001b[0m in \u001b[0;36m<module>\u001b[0;34m()\u001b[0m\n\u001b[1;32m      1\u001b[0m \u001b[0mfig\u001b[0m\u001b[0;34m,\u001b[0m \u001b[0max\u001b[0m \u001b[0;34m=\u001b[0m \u001b[0mplt\u001b[0m\u001b[0;34m.\u001b[0m\u001b[0msubplots\u001b[0m\u001b[0;34m(\u001b[0m\u001b[0;34m)\u001b[0m\u001b[0;34m\u001b[0m\u001b[0m\n\u001b[0;32m----> 2\u001b[0;31m \u001b[0max\u001b[0m\u001b[0;34m.\u001b[0m\u001b[0mplot\u001b[0m\u001b[0;34m(\u001b[0m\u001b[0marm1\u001b[0m\u001b[0;34m.\u001b[0m\u001b[0mx_tracing\u001b[0m\u001b[0;34m,\u001b[0m \u001b[0marm1\u001b[0m\u001b[0;34m.\u001b[0m\u001b[0my_tracing\u001b[0m\u001b[0;34m)\u001b[0m\u001b[0;34m\u001b[0m\u001b[0m\n\u001b[0m\u001b[1;32m      3\u001b[0m \u001b[0max\u001b[0m\u001b[0;34m.\u001b[0m\u001b[0mplot\u001b[0m\u001b[0;34m(\u001b[0m\u001b[0marm2\u001b[0m\u001b[0;34m.\u001b[0m\u001b[0mx_tracing\u001b[0m\u001b[0;34m,\u001b[0m \u001b[0marm2\u001b[0m\u001b[0;34m.\u001b[0m\u001b[0my_tracing\u001b[0m\u001b[0;34m)\u001b[0m\u001b[0;34m\u001b[0m\u001b[0m\n\u001b[1;32m      4\u001b[0m \u001b[0max\u001b[0m\u001b[0;34m.\u001b[0m\u001b[0mset_xlim\u001b[0m\u001b[0;34m(\u001b[0m\u001b[0;34m-\u001b[0m\u001b[0;36m20\u001b[0m\u001b[0;34m,\u001b[0m\u001b[0;36m20\u001b[0m\u001b[0;34m)\u001b[0m\u001b[0;34m\u001b[0m\u001b[0m\n\u001b[1;32m      5\u001b[0m \u001b[0max\u001b[0m\u001b[0;34m.\u001b[0m\u001b[0mset_ylim\u001b[0m\u001b[0;34m(\u001b[0m\u001b[0;34m-\u001b[0m\u001b[0;36m20\u001b[0m\u001b[0;34m,\u001b[0m\u001b[0;36m20\u001b[0m\u001b[0;34m)\u001b[0m\u001b[0;34m\u001b[0m\u001b[0m\n",
      "\u001b[0;31mNameError\u001b[0m: name 'arm1' is not defined"
     ]
    },
    {
     "data": {
      "application/vnd.jupyter.widget-view+json": {
       "model_id": "54e4bfa07f1840479291f091ae689684",
       "version_major": 2,
       "version_minor": 0
      },
      "image/png": "[encoded data removed]",
      "text/html": [
       "\n",
       "            <div style=\"display: inline-block;\">\n",
       "                <div class=\"jupyter-widgets widget-label\" style=\"text-align: center;\">\n",
       "                    Figure\n",
       "                </div>\n",
       "                <img src='data:image/png;base64,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' width=640.0/>\n",
       "            </div>\n",
       "        "
      ],
      "text/plain": [
       "Canvas(toolbar=Toolbar(toolitems=[('Home', 'Reset original view', 'home', 'home'), ('Back', 'Back to previous …"
      ]
     },
     "metadata": {},
     "output_type": "display_data"
    }
   ],
   "source": [
    "fig, ax = plt.subplots()\n",
    "ax.plot(arm1.x_tracing, arm1.y_tracing)\n",
    "ax.plot(arm2.x_tracing, arm2.y_tracing)\n",
    "ax.set_xlim(-20,20)\n",
    "ax.set_ylim(-20,20)\n",
    "ax.set_aspect('equal')"
   ]
  },
  {
   "cell_type": "code",
   "execution_count": 126,
   "metadata": {},
   "outputs": [],
   "source": [
    "#df_fits.head\n",
    "#print(df_fits[\"amplitude\"], df_fits[\"center\"], df_fits[\"sigma\"],  df_fits[\"gamma\"], df_fits[\"x_tracing\"], df_fits[\"y_tracing\"], df_fits[\"x_max\"], df_fits[\"y_max\"], df_fits[\"w1\"], df_fits[\"w2\"], df_fits[\"arm\"], df_fits[\"fractured\"])\n",
    "#print(df_fits[\"w1\"], df_fits[\"w2\"])\n",
    "#df_fits.to_csv('Arm_width_rho.csv')"
   ]
  },
  {
   "cell_type": "code",
   "execution_count": 127,
   "metadata": {},
   "outputs": [],
   "source": [
    "df_print = pd.DataFrame(zip(df_fits.amplitude, df_fits.center, df_fits.sigma, df_fits.gamma, df_fits.x_tracing, df_fits.y_tracing, df_fits.x_max, df_fits.y_max, df_fits.w1, df_fits.w2, df_fits.arm, df_fits.fractured, df_fits.id_tracing))\n"
   ]
  },
  {
   "cell_type": "code",
   "execution_count": 128,
   "metadata": {},
   "outputs": [],
   "source": [
    "df_print.to_csv('Arm2_widths_rho_adicionales_Ago4.csv')"
   ]
  },
  {
   "cell_type": "code",
   "execution_count": null,
   "metadata": {},
   "outputs": [],
   "source": []
  },
  {
   "cell_type": "code",
   "execution_count": null,
   "metadata": {},
   "outputs": [],
   "source": []
  }
 ],
 "metadata": {
  "kernelspec": {
   "display_name": "Python 3",
   "language": "python",
   "name": "python3"
  },
  "language_info": {
   "codemirror_mode": {
    "name": "ipython",
    "version": 3
   },
   "file_extension": ".py",
   "mimetype": "text/x-python",
   "name": "python",
   "nbconvert_exporter": "python",
   "pygments_lexer": "ipython3",
   "version": "3.7.0"
  }
 },
 "nbformat": 4,
 "nbformat_minor": 5
}
