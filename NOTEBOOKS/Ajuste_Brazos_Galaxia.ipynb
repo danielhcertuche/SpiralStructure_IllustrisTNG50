{
 "cells": [
  {
   "cell_type": "code",
   "execution_count": null,
   "id": "93a7db93",
   "metadata": {},
   "outputs": [],
   "source": [
    "\n",
    "import warnings\n",
    "warnings.filterwarnings(\"ignore\", category=DeprecationWarning)\n",
    "\n",
    "import pandas as pd\n",
    "import numpy as np\n",
    "import matplotlib.pyplot as plt\n",
    "from sklearn.linear_model import LinearRegression\n",
    "from mpl_point_clicker import clicker\n",
    "from matplotlib.path import Path\n",
    "\n",
    "# Configuración para la visualización\n",
    "plt.style.use('seaborn-darkgrid')\n"
   ]
  },
  {
   "cell_type": "code",
   "execution_count": null,
   "id": "34b5cd5c",
   "metadata": {},
   "outputs": [],
   "source": [
    "\n",
    "# Cargar los datos\n",
    "arm1_data = pd.read_csv('../DATA/processed/TracingPoints/arm_tracing_11_arm1_rho_dani.csv')\n",
    "arm2_data = pd.read_csv('../DATA/processed/TracingPoints/arm_tracing_11_arm2_rho_dani.csv')\n",
    "data = pd.read_csv('../DATA/processed/TracingPoints/data_rho_11_filtered.csv')\n",
    "\n",
    "# Calcular coordenadas polares (r, theta)\n",
    "for df in [data, arm1_data, arm2_data]:\n",
    "    df['r'] = np.sqrt(df['x']**2 + df['y']**2)\n",
    "    df['theta'] = np.degrees(np.arctan2(df['y'], df['x']))\n"
   ]
  },
  {
   "cell_type": "code",
   "execution_count": null,
   "id": "c78809d7",
   "metadata": {},
   "outputs": [],
   "source": [
    "\n",
    "plt.figure(figsize=(10, 6))\n",
    "plt.scatter(data['theta'], data['r'], alpha=0.5, s=0.5, label='Datos')\n",
    "plt.scatter(arm1_data['theta'], arm1_data['r'], alpha=0.7, s=10, label='Brazo 1')\n",
    "plt.scatter(arm2_data['theta'], arm2_data['r'], alpha=0.7, s=10, label='Brazo 2')\n",
    "\n",
    "plt.title(\"Datos iniciales\")\n",
    "plt.xlabel(\"Theta (grados)\")\n",
    "plt.ylabel(\"r\")\n",
    "plt.legend()\n",
    "plt.show()\n"
   ]
  },
  {
   "cell_type": "code",
   "execution_count": null,
   "id": "0ac52fff",
   "metadata": {},
   "outputs": [],
   "source": [
    "\n",
    "def seleccionar_ajustar(data_combined, id_arm):\n",
    "    print(f\"Seleccionando puntos para el brazo {id_arm}\")\n",
    "\n",
    "    fig, ax = plt.subplots(figsize=(10, 6))\n",
    "    scatter = ax.scatter(data_combined['theta'], data_combined['r'], s=0.5, alpha=0.5)\n",
    "    ax.set_title(f\"Seleccionar puntos para el brazo {id_arm}\")\n",
    "    ax.set_xlabel(\"Theta (grados)\")\n",
    "    ax.set_ylabel(\"r\")\n",
    "    klicker = clicker(ax, [\"limits\"], markers=[\"o\"], colors=['red'], markersize=5)\n",
    "    plt.show()\n",
    "\n",
    "    dict_lims = klicker.get_positions()\n",
    "    if \"limits\" not in dict_lims or len(dict_lims[\"limits\"]) < 3:\n",
    "        print(\"Selecciona al menos tres puntos.\")\n",
    "        return None, None\n",
    "\n",
    "    polygon_path = Path(dict_lims[\"limits\"])\n",
    "    inside_points = data_combined[data_combined.apply(lambda row: polygon_path.contains_point((row['theta'], row['r'])), axis=1)]\n",
    "    \n",
    "    if len(inside_points) > 1:\n",
    "        model = LinearRegression()\n",
    "        model.fit(inside_points[['theta']], inside_points['r'])\n",
    "        slope, intercept = model.coef_[0], model.intercept_\n",
    "        return inside_points, (slope, intercept)\n",
    "    else:\n",
    "        print(\"Selecciona más puntos para realizar el ajuste.\")\n",
    "        return None, None\n"
   ]
  },
  {
   "cell_type": "code",
   "execution_count": null,
   "id": "d22c8410",
   "metadata": {},
   "outputs": [],
   "source": [
    "\n",
    "data_combined = pd.concat([data[['theta', 'r']], arm1_data[['theta', 'r']], arm2_data[['theta', 'r']]], ignore_index=True)\n",
    "brazo1_points, brazo1_fit = seleccionar_ajustar(data_combined, id_arm=1)\n",
    "brazo2_points, brazo2_fit = seleccionar_ajustar(data_combined, id_arm=2)\n"
   ]
  },
  {
   "cell_type": "code",
   "execution_count": null,
   "id": "e241cb76",
   "metadata": {},
   "outputs": [],
   "source": [
    "\n",
    "fig, ax = plt.subplots(figsize=(10, 6))\n",
    "ax.scatter(data['theta'], data['r'], s=0.5, alpha=0.5, label='Datos originales')\n",
    "colors = ['purple', 'green']\n",
    "\n",
    "for i, (points, fit) in enumerate([(brazo1_points, brazo1_fit), (brazo2_points, brazo2_fit)]):\n",
    "    if points is not None:\n",
    "        ax.scatter(points['theta'], points['r'], s=10, alpha=0.7, label=f'Brazo {i + 1}', color=colors[i])\n",
    "        theta_range = np.linspace(points['theta'].min(), points['theta'].max(), 100)\n",
    "        r_fit = fit[0] * theta_range + fit[1]\n",
    "        ax.plot(theta_range, r_fit, label=f'Ajuste Brazo {i + 1}', color=colors[i])\n",
    "\n",
    "ax.set_title(\"Ajustes de los brazos\")\n",
    "ax.set_xlabel(\"Theta (grados)\")\n",
    "ax.set_ylabel(\"r\")\n",
    "ax.legend()\n",
    "plt.show()\n"
   ]
  }
 ],
 "metadata": {},
 "nbformat": 4,
 "nbformat_minor": 5
}
